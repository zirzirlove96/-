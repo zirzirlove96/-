{
 "cells": [
  {
   "cell_type": "code",
   "execution_count": 4,
   "metadata": {},
   "outputs": [
    {
     "name": "stdout",
     "output_type": "stream",
     "text": [
      "g\n",
      "n\n",
      "u\n",
      "o\n",
      "y\n",
      "i\n",
      "j\n"
     ]
    }
   ],
   "source": [
    "def 문자열뒤집기(result):\n",
    "    if result=='':\n",
    "        return None\n",
    "    else:\n",
    "        문자열뒤집기(result[1:])\n",
    "        print(result[0])\n",
    "문자열뒤집기('jiyoung')"
   ]
  },
  {
   "cell_type": "code",
   "execution_count": 5,
   "metadata": {},
   "outputs": [
    {
     "data": {
      "text/plain": [
       "'1011'"
      ]
     },
     "execution_count": 5,
     "metadata": {},
     "output_type": "execute_result"
    }
   ],
   "source": [
    "def binary_number(x):\n",
    "    if x<2:\n",
    "        return str(x)\n",
    "    else:\n",
    "        return str(binary_number(x//2))+str(x%2)\n",
    "binary_number(11)"
   ]
  },
  {
   "cell_type": "markdown",
   "metadata": {},
   "source": [
    "11 -> binary_number(5)+'1' => '1011'<br>\n",
    "5  -> binary_number(2)+'1' => '101'<br>\n",
    "2  -> binary_number(1)+'0' => '10'<br>\n",
    "1  -> 1"
   ]
  },
  {
   "cell_type": "code",
   "execution_count": 7,
   "metadata": {},
   "outputs": [
    {
     "name": "stdout",
     "output_type": "stream",
     "text": [
      "8\n"
     ]
    }
   ],
   "source": [
    "result=0\n",
    "for i in '2231':\n",
    "    result = int(i)+result\n",
    "print(result)"
   ]
  },
  {
   "cell_type": "code",
   "execution_count": 28,
   "metadata": {},
   "outputs": [
    {
     "name": "stdout",
     "output_type": "stream",
     "text": [
      "8\n"
     ]
    }
   ],
   "source": [
    "x='2231'\n",
    "def solution(x):\n",
    "    #i=-1\n",
    "    if len(x)==1:\n",
    "        return int(x)\n",
    "    else:\n",
    "        #i=i+1\n",
    "        return int(solution(x[1:]))+int(x[0])\n",
    "        \n",
    "print(solution('2231'))"
   ]
  },
  {
   "cell_type": "code",
   "execution_count": 26,
   "metadata": {},
   "outputs": [
    {
     "name": "stdout",
     "output_type": "stream",
     "text": [
      "0\n",
      "1\n",
      "1\n",
      "2\n",
      "3\n",
      "5\n",
      "8\n",
      "13\n",
      "21\n",
      "34\n",
      "55\n"
     ]
    }
   ],
   "source": [
    "##피보나치\n",
    "\n",
    "a=0\n",
    "b=1\n",
    "print(a)\n",
    "for i in range(10):\n",
    "    print(b)\n",
    "    a,b=b,a+b"
   ]
  },
  {
   "cell_type": "code",
   "execution_count": 27,
   "metadata": {},
   "outputs": [
    {
     "name": "stdout",
     "output_type": "stream",
     "text": [
      "55\n"
     ]
    }
   ],
   "source": [
    "def fibonachi(x):\n",
    "    if x<=1:\n",
    "        return x\n",
    "    else:\n",
    "        return fibonachi(x-1)+fibonachi(x-2)\n",
    "print(fibonachi(10))"
   ]
  },
  {
   "cell_type": "code",
   "execution_count": 31,
   "metadata": {},
   "outputs": [
    {
     "name": "stdout",
     "output_type": "stream",
     "text": [
      "64\n"
     ]
    }
   ],
   "source": [
    "## 제곱 재귀함수\n",
    "def solution(x):\n",
    "    if x==1:\n",
    "        return 2\n",
    "    else:\n",
    "        return solution(x-1)*2\n",
    "    \n",
    "print(solution(6))"
   ]
  },
  {
   "cell_type": "code",
   "execution_count": null,
   "metadata": {},
   "outputs": [],
   "source": []
  }
 ],
 "metadata": {
  "kernelspec": {
   "display_name": "Python 3",
   "language": "python",
   "name": "python3"
  },
  "language_info": {
   "codemirror_mode": {
    "name": "ipython",
    "version": 3
   },
   "file_extension": ".py",
   "mimetype": "text/x-python",
   "name": "python",
   "nbconvert_exporter": "python",
   "pygments_lexer": "ipython3",
   "version": "3.8.5"
  }
 },
 "nbformat": 4,
 "nbformat_minor": 4
}
