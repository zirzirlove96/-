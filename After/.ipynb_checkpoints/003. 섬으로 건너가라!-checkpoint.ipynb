{
 "cells": [
  {
   "cell_type": "code",
   "execution_count": 14,
   "metadata": {},
   "outputs": [],
   "source": [
    "대기인원=14000605\n",
    "#1시간에 100명씩 12시간 1200명"
   ]
  },
  {
   "cell_type": "code",
   "execution_count": 15,
   "metadata": {},
   "outputs": [
    {
     "data": {
      "text/plain": [
       "2046"
      ]
     },
     "execution_count": 15,
     "metadata": {},
     "output_type": "execute_result"
    }
   ],
   "source": [
    "일년일수=0\n",
    "for i in range(10,0,-1):\n",
    "    일년일수+=2**i\n",
    "일년일수"
   ]
  },
  {
   "cell_type": "code",
   "execution_count": 16,
   "metadata": {},
   "outputs": [
    {
     "data": {
      "text/plain": [
       "5"
      ]
     },
     "execution_count": 16,
     "metadata": {},
     "output_type": "execute_result"
    }
   ],
   "source": [
    "대기일수 = 대기인원 // 1200\n",
    "년 = 대기일수 // 일년일수\n",
    "년"
   ]
  },
  {
   "cell_type": "code",
   "execution_count": 22,
   "metadata": {},
   "outputs": [
    {
     "data": {
      "text/plain": [
       "1437"
      ]
     },
     "execution_count": 22,
     "metadata": {},
     "output_type": "execute_result"
    }
   ],
   "source": [
    "남을일수 = 대기일수 % 일년일수\n",
    "남을일수"
   ]
  },
  {
   "cell_type": "code",
   "execution_count": 25,
   "metadata": {},
   "outputs": [
    {
     "data": {
      "text/plain": [
       "413"
      ]
     },
     "execution_count": 25,
     "metadata": {},
     "output_type": "execute_result"
    }
   ],
   "source": [
    "월별수누적값 = 0 \n",
    "월=0\n",
    "#남을일수 = 대기인원 % 1200\n",
    "for i in range(10,0,-1):\n",
    "    차감일 = 월별수누적값 #그 전까지의 누적값\n",
    "    월별수누적값+=2**i\n",
    "    월+=1\n",
    "    if 월별수누적값 > 남을일수:\n",
    "        break\n",
    "        \n",
    "월\n",
    "남을일수 - 차감일 #그 달에 day"
   ]
  },
  {
   "cell_type": "code",
   "execution_count": 27,
   "metadata": {},
   "outputs": [
    {
     "data": {
      "text/plain": [
       "205"
      ]
     },
     "execution_count": 27,
     "metadata": {},
     "output_type": "execute_result"
    }
   ],
   "source": [
    "시간 = 대기인원 % 1200\n",
    "시간"
   ]
  },
  {
   "cell_type": "markdown",
   "metadata": {},
   "source": [
    "#### 224명이 남았다고 생각해보자.\n",
    "#### 라이캣은 225, 자바독은 226번째\n",
    "##### 그러므로 다음 배를 타야 한다."
   ]
  },
  {
   "cell_type": "code",
   "execution_count": 29,
   "metadata": {},
   "outputs": [
    {
     "data": {
      "text/plain": [
       "11"
      ]
     },
     "execution_count": 29,
     "metadata": {},
     "output_type": "execute_result"
    }
   ],
   "source": [
    "최종남은인원 = 대기인원 % 1200\n",
    "최종남은인원 // 100 + 9#시간"
   ]
  },
  {
   "cell_type": "code",
   "execution_count": 37,
   "metadata": {},
   "outputs": [
    {
     "data": {
      "text/plain": [
       "0"
      ]
     },
     "execution_count": 37,
     "metadata": {},
     "output_type": "execute_result"
    }
   ],
   "source": [
    "출발분 = [25,40,55,70,85,100] #정시에는 25명 10분마다 15명씩 증가 \n",
    "몇분에탈지계산 = (최종남은인원 % 100)+1 #1시간에 100명\n",
    "#최종남은인원 % 100이 24일때 문제이다.\n",
    "#+1을 해주면 되지만 99일경우 분이 아닌 시간으로 넘어가야 한다.\n",
    "for i in 출발분:\n",
    "    if i>몇분에탈지계산:#각 분마다 태우는 고객의 수보다 작은때\n",
    "        당일출발_분 = 출발분.index(i)*10 # 몇분인지를 알려준다.\n",
    "        break\n",
    "당일출발_분"
   ]
  },
  {
   "cell_type": "markdown",
   "metadata": {},
   "source": [
    "### 화장실 가는 시간과 시간이 바뀌는 것을 고려해 줘야 한다."
   ]
  },
  {
   "cell_type": "code",
   "execution_count": 47,
   "metadata": {},
   "outputs": [
    {
     "data": {
      "text/plain": [
       "'2025년 2월 413일 11시 0분 출발'"
      ]
     },
     "execution_count": 47,
     "metadata": {},
     "output_type": "execute_result"
    }
   ],
   "source": [
    "import datetime\n",
    "\n",
    "today = datetime.datetime.today()\n",
    "wait_number=14000605\n",
    "\n",
    "def solution(wait_number):\n",
    "    day_sum=0\n",
    "    for i in range(10,0,-1):\n",
    "        day_sum+=pow(2,i)\n",
    "    year=(wait_number//1200)//day_sum\n",
    "    r_day=(wait_number//1200)%day_sum\n",
    "    \n",
    "    month_sum=0\n",
    "    month=0\n",
    "    for i in range(10,0,-1):\n",
    "        minus_day=month_sum\n",
    "        month_sum+=2**i\n",
    "        month+=1\n",
    "        if month_sum>r_day:\n",
    "            break\n",
    "    \n",
    "    day = r_day-minus_day\n",
    "    \n",
    "    r_people = wait_number%1200\n",
    "    time_h = r_people // 100 + 9\n",
    "    \n",
    "    depart_minute = [25,40,55,70,85,100]\n",
    "    future_minute = r_people % 100 + 1 #그 시간에 탈 인원 24분일 때는 25분껄로 타야 하므로 1을 더해 준다.\n",
    "    for i in  depart_minute:\n",
    "        if i > future_minute:\n",
    "            time_m = depart_minute.index(i)*10\n",
    "            break\n",
    "            \n",
    "    if r_people%100 == 99 : #99분일 때는 시간+1\n",
    "        time_h+=1\n",
    "        time_m=0\n",
    "    \n",
    "    #print(year, month, day, time_h, time_m)\n",
    "    return f'202{year}년 {month}월 {day}일 {time_h}시 {time_m}분 출발'\n",
    "\n",
    "solution(wait_number)"
   ]
  },
  {
   "cell_type": "code",
   "execution_count": null,
   "metadata": {},
   "outputs": [],
   "source": []
  }
 ],
 "metadata": {
  "kernelspec": {
   "display_name": "Python 3",
   "language": "python",
   "name": "python3"
  },
  "language_info": {
   "codemirror_mode": {
    "name": "ipython",
    "version": 3
   },
   "file_extension": ".py",
   "mimetype": "text/x-python",
   "name": "python",
   "nbconvert_exporter": "python",
   "pygments_lexer": "ipython3",
   "version": "3.8.5"
  }
 },
 "nbformat": 4,
 "nbformat_minor": 4
}
