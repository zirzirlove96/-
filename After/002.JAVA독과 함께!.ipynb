{
 "cells": [
  {
   "cell_type": "code",
   "execution_count": 9,
   "metadata": {},
   "outputs": [],
   "source": [
    "stone=[5, 3, 4, 1, 3, 8, 3]\n",
    "#stone=[1, 2, 1, 4]"
   ]
  },
  {
   "cell_type": "code",
   "execution_count": 10,
   "metadata": {},
   "outputs": [],
   "source": [
    "dog=[\n",
    "    {\n",
    "    \"name\" : \"루비독\",\n",
    "    \"age\" : \"95년생\",\n",
    "    \"jump\" : \"3\",\n",
    "    \"weight\" : \"4\",\n",
    "    },{\n",
    "    \"name\" : \"피치독\",\n",
    "    \"age\" : \"95년생\",\n",
    "    \"jump\" : \"3\",\n",
    "    \"weight\" : \"3\",\n",
    "    },{\n",
    "    \"name\" : \"씨-독\",\n",
    "    \"age\" : \"72년생\",\n",
    "    \"jump\" : \"2\",\n",
    "    \"weight\" : \"1\",\n",
    "    },{\n",
    "    \"name\" : \"코볼독\",\n",
    "    \"age\" : \"59년생\",\n",
    "    \"jump\" : \"1\",\n",
    "    \"weight\" : \"1\",\n",
    "    },]"
   ]
  },
  {
   "cell_type": "code",
   "execution_count": 11,
   "metadata": {},
   "outputs": [
    {
     "name": "stdout",
     "output_type": "stream",
     "text": [
      "['루비독', '씨-독']\n"
     ]
    }
   ],
   "source": [
    "def solution(stone,dog):\n",
    "    answer=[i['name'] for i in dog]#이름만 뽑아내\n",
    "    for i in dog:\n",
    "        dog_position=0#개의 위치를 기준으로 반복문을 해준다.\n",
    "        while dog_position<len(stone)-1:#개의 위치가 돌의 범위를 벗어났다는 것은 건넜다는 뜻\n",
    "            dog_position+=int(i['jump'])\n",
    "            stone[dog_position-1]-=int(i['weight'])\n",
    "            if stone[dog_position-1]<0:\n",
    "                #answer[answer.index(i['name'])]='fail'\n",
    "                del answer[answer.index(i['name'])]\n",
    "                break #while문을 벗어남\n",
    "    name=[n for n in answer if n!='fail']\n",
    "    \n",
    "    return answer\n",
    "print(solution(stone, dog))"
   ]
  },
  {
   "cell_type": "code",
   "execution_count": 12,
   "metadata": {},
   "outputs": [
    {
     "name": "stdout",
     "output_type": "stream",
     "text": [
      "{'name': '루비독', 'age': '95년생', 'jump': '3', 'weight': '4'}\n"
     ]
    }
   ],
   "source": [
    "import json\n",
    "\n",
    "JS = json.dumps(dog, ensure_ascii=False)#dog을 문자열로 처리해 버린다.\n",
    "JS = json.loads(JS)#문자열로 처리된 JS를 다시 loads를 사용하여 리스트 처리를 해준다.\n",
    "print(JS[0])"
   ]
  },
  {
   "cell_type": "markdown",
   "metadata": {},
   "source": [
    "## 배열안의 dictionary를 어떻게 풀어내는지가 관건"
   ]
  },
  {
   "cell_type": "code",
   "execution_count": 3,
   "metadata": {},
   "outputs": [],
   "source": [
    "stone=[5, 3, 4, 1, 3, 8, 3]\n",
    "#stone=[1, 2, 1, 4]\n",
    "dog=[\n",
    "    {\n",
    "    \"name\" : \"루비독\",\n",
    "    \"age\" : \"95년생\",\n",
    "    \"jump\" : \"3\",\n",
    "    \"weight\" : \"4\",\n",
    "    },{\n",
    "    \"name\" : \"피치독\",\n",
    "    \"age\" : \"95년생\",\n",
    "    \"jump\" : \"3\",\n",
    "    \"weight\" : \"3\",\n",
    "    },{\n",
    "    \"name\" : \"씨-독\",\n",
    "    \"age\" : \"72년생\",\n",
    "    \"jump\" : \"2\",\n",
    "    \"weight\" : \"1\",\n",
    "    },{\n",
    "    \"name\" : \"코볼독\",\n",
    "    \"age\" : \"59년생\",\n",
    "    \"jump\" : \"1\",\n",
    "    \"weight\" : \"1\",\n",
    "    }]\n",
    "def solution(stone, dog):\n",
    "    name=[name['name'] for name in dog]\n",
    "    for i in dog:\n",
    "        dog_position=0\n",
    "        while dog_position<len(stone)-1:\n",
    "            dog_position+=int(i['jump'])\n",
    "            stone[dog_position-1]-=int(i['weight'])\n",
    "            if stone[dog_position-1]<0:\n",
    "                del name[name.index(i['name'])]\n",
    "                break\n",
    "    return name"
   ]
  },
  {
   "cell_type": "code",
   "execution_count": 4,
   "metadata": {},
   "outputs": [
    {
     "name": "stdout",
     "output_type": "stream",
     "text": [
      "['루비독', '씨-독']\n"
     ]
    }
   ],
   "source": [
    "print(solution(stone, dog))"
   ]
  },
  {
   "cell_type": "code",
   "execution_count": null,
   "metadata": {},
   "outputs": [],
   "source": []
  }
 ],
 "metadata": {
  "kernelspec": {
   "display_name": "Python 3",
   "language": "python",
   "name": "python3"
  },
  "language_info": {
   "codemirror_mode": {
    "name": "ipython",
    "version": 3
   },
   "file_extension": ".py",
   "mimetype": "text/x-python",
   "name": "python",
   "nbconvert_exporter": "python",
   "pygments_lexer": "ipython3",
   "version": "3.8.5"
  }
 },
 "nbformat": 4,
 "nbformat_minor": 4
}
