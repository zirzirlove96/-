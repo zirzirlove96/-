{
 "cells": [
  {
   "cell_type": "code",
   "execution_count": 1,
   "metadata": {},
   "outputs": [],
   "source": [
    "def solution(skill, skill_trees):\n",
    "    answer = 0\n",
    "    flag=[]\n",
    "    j=0\n",
    "    for skills in skill_trees:\n",
    "        j+=1\n",
    "        word=''\n",
    "        for i in range(len(skills)):\n",
    "            if skills[i] in skill:\n",
    "                word+=skills[i]\n",
    "        flag.append(word)#skill에 해당하는 문자열을 순서대로 저장해 준다.\n",
    "\n",
    "    answer=len(skill_trees)\n",
    "    for flag in flag:\n",
    "        for i in range(len(flag)):\n",
    "            if flag[i]!=skill[i]:#skill에서의 순서와 같은지 확인\n",
    "                answer-=1\n",
    "                break\n",
    "    return answer"
   ]
  },
  {
   "cell_type": "code",
   "execution_count": 2,
   "metadata": {},
   "outputs": [
    {
     "name": "stdout",
     "output_type": "stream",
     "text": [
      "2\n"
     ]
    }
   ],
   "source": [
    "print(solution(\"CBD\",[\"BACDE\", \"CBADF\", \"AECB\", \"BDA\"]))"
   ]
  },
  {
   "cell_type": "code",
   "execution_count": null,
   "metadata": {},
   "outputs": [],
   "source": []
  }
 ],
 "metadata": {
  "kernelspec": {
   "display_name": "Python 3",
   "language": "python",
   "name": "python3"
  },
  "language_info": {
   "codemirror_mode": {
    "name": "ipython",
    "version": 3
   },
   "file_extension": ".py",
   "mimetype": "text/x-python",
   "name": "python",
   "nbconvert_exporter": "python",
   "pygments_lexer": "ipython3",
   "version": "3.8.5"
  }
 },
 "nbformat": 4,
 "nbformat_minor": 4
}
