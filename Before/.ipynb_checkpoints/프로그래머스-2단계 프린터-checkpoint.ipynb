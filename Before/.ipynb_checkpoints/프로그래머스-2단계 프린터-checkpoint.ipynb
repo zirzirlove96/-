{
 "cells": [
  {
   "cell_type": "code",
   "execution_count": 1,
   "metadata": {},
   "outputs": [],
   "source": [
    "def solution(priorities, location):\n",
    "    answer = 0\n",
    "    stack=[]\n",
    "    flag=True\n",
    "    \n",
    "    for index,p in enumerate(priorities):\n",
    "        stack.append({index : p})\n",
    "    \n",
    "    while flag:\n",
    "        for i in range(1,len(stack)):\n",
    "            if list(stack[0].values())[0]<list(stack[i].values())[0]:\n",
    "                stack.append(stack.pop(0))\n",
    "              \n",
    "            if list(stack[0].values())[0]==max(priorities):\n",
    "                flag=False\n",
    "\n",
    "    for i in range(len(stack)):\n",
    "        if list(stack[i].keys())[0]==location:\n",
    "            answer=i+1\n",
    "    return answer"
   ]
  },
  {
   "cell_type": "code",
   "execution_count": 2,
   "metadata": {},
   "outputs": [
    {
     "name": "stdout",
     "output_type": "stream",
     "text": [
      "1\n",
      "5\n"
     ]
    }
   ],
   "source": [
    "print(solution([2, 1, 3, 2],2))\n",
    "print(solution([1, 1, 9, 1, 1, 1],0))"
   ]
  },
  {
   "cell_type": "markdown",
   "metadata": {},
   "source": [
    "#### 테스트 케이스 1은 맞지만 다른 테스트 케이스가 틀림."
   ]
  },
  {
   "cell_type": "markdown",
   "metadata": {},
   "source": [
    "## 두번 째 시도"
   ]
  },
  {
   "cell_type": "code",
   "execution_count": 4,
   "metadata": {},
   "outputs": [],
   "source": [
    "from collections import deque"
   ]
  },
  {
   "cell_type": "code",
   "execution_count": 5,
   "metadata": {},
   "outputs": [],
   "source": [
    "def solution(priorities, location):\n",
    "    answer = 0\n",
    "    d=deque([(v,i) for i,v in enumerate(priorities)])#index와 value값을 넣어준다.\n",
    "    flag=True\n",
    "\n",
    "    while flag:\n",
    "        if max(d)[0]>d[0][0]:\n",
    "            d.append(d.popleft())\n",
    "        elif max(d)[0]==d[0][0]:\n",
    "            for i in range(len(d)):\n",
    "                if d[i][1]==location:\n",
    "                    answer=i+1\n",
    "            flag=False\n",
    "        \n",
    "    return answer"
   ]
  },
  {
   "cell_type": "code",
   "execution_count": 6,
   "metadata": {},
   "outputs": [
    {
     "name": "stdout",
     "output_type": "stream",
     "text": [
      "1\n",
      "5\n"
     ]
    }
   ],
   "source": [
    "print(solution([2, 1, 3, 2],2))\n",
    "print(solution([1, 1, 9, 1, 1, 1],0))"
   ]
  },
  {
   "cell_type": "markdown",
   "metadata": {},
   "source": [
    "#### 다른 케이스들이 틀림.. 반례로 [1,2,3],0 입력값 일 때 3이 나와야 하지만 2가 나옴"
   ]
  },
  {
   "cell_type": "code",
   "execution_count": null,
   "metadata": {},
   "outputs": [],
   "source": []
  }
 ],
 "metadata": {
  "kernelspec": {
   "display_name": "Python 3",
   "language": "python",
   "name": "python3"
  },
  "language_info": {
   "codemirror_mode": {
    "name": "ipython",
    "version": 3
   },
   "file_extension": ".py",
   "mimetype": "text/x-python",
   "name": "python",
   "nbconvert_exporter": "python",
   "pygments_lexer": "ipython3",
   "version": "3.8.5"
  }
 },
 "nbformat": 4,
 "nbformat_minor": 4
}
