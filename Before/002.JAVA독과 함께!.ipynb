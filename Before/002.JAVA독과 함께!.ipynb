{
 "cells": [
  {
   "cell_type": "code",
   "execution_count": 8,
   "metadata": {},
   "outputs": [],
   "source": [
    "stone=[5, 3, 4, 1, 3, 8, 3]\n",
    "#stone=[1, 2, 1, 4]"
   ]
  },
  {
   "cell_type": "code",
   "execution_count": 9,
   "metadata": {},
   "outputs": [],
   "source": [
    "\"\"\"\n",
    "dog=[{\n",
    "    \"name\" : \"루비독\",\n",
    "    \"age\" : \"95년생\",\n",
    "    \"jump\" : \"3\",\n",
    "    \"weight\" : \"4\",\n",
    "    },{\n",
    "    \"name\" : \"피치독\",\n",
    "    \"age\" : \"95년생\",\n",
    "    \"jump\" : \"3\",\n",
    "    \"weight\" : \"3\",\n",
    "    },{\n",
    "    \"name\" : \"씨-독\",\n",
    "    \"age\" : \"72년생\",\n",
    "    \"jump\" : \"2\",\n",
    "    \"weight\" : \"1\",\n",
    "    },{\n",
    "    \"name\" : \"코볼독\",\n",
    "    \"age\" : \"59년생\",\n",
    "    \"jump\" : \"1\",\n",
    "    \"weight\" : \"1\",\n",
    "    }]\n",
    "\"\"\"\n",
    "dog=[\n",
    "    {\n",
    "    \"name\" : \"루비독\",\n",
    "    \"age\" : \"95년생\",\n",
    "    \"jump\" : \"3\",\n",
    "    \"weight\" : \"4\",\n",
    "    },{\n",
    "    \"name\" : \"피치독\",\n",
    "    \"age\" : \"95년생\",\n",
    "    \"jump\" : \"3\",\n",
    "    \"weight\" : \"3\",\n",
    "    },{\n",
    "    \"name\" : \"씨-독\",\n",
    "    \"age\" : \"72년생\",\n",
    "    \"jump\" : \"2\",\n",
    "    \"weight\" : \"1\",\n",
    "    },{\n",
    "    \"name\" : \"코볼독\",\n",
    "    \"age\" : \"59년생\",\n",
    "    \"jump\" : \"1\",\n",
    "    \"weight\" : \"1\",\n",
    "    },]"
   ]
  },
  {
   "cell_type": "code",
   "execution_count": 10,
   "metadata": {},
   "outputs": [
    {
     "name": "stdout",
     "output_type": "stream",
     "text": [
      "{'루비독', '씨-독'}\n"
     ]
    }
   ],
   "source": [
    "name=[]\n",
    "\n",
    "for i in range(len(dog)):\n",
    "    count=1\n",
    "    s=0\n",
    "    for j in range(len(stone)):\n",
    "        s+=int(dog[i].get(\"jump\"))-1\n",
    "        try:\n",
    "            if stone[s]<int(dog[i].get(\"weight\")):\n",
    "                i++1 #여기가 이해가 안감.\n",
    "                #계속 indexError가 나는 상\n",
    "        except IndexError:\n",
    "            break\n",
    "        else:\n",
    "            if int(dog[i].get(\"weight\"))<=stone[j]:\n",
    "                stone[j]-=int(dog[i].get(\"weight\"))\n",
    "                count+=1\n",
    "                if int(dog[i].get(\"jump\"))*count>=len(stone):\n",
    "                    name.append(dog[i].get(\"name\"))\n",
    "                    #정답이 맞게 나와서 더욱 더 헷갈림\n",
    "                    #IndexError가 왜 나오는지 잘 모르겠음.\n",
    "print(set(name))"
   ]
  },
  {
   "cell_type": "code",
   "execution_count": null,
   "metadata": {},
   "outputs": [],
   "source": []
  }
 ],
 "metadata": {
  "kernelspec": {
   "display_name": "Python 3",
   "language": "python",
   "name": "python3"
  },
  "language_info": {
   "codemirror_mode": {
    "name": "ipython",
    "version": 3
   },
   "file_extension": ".py",
   "mimetype": "text/x-python",
   "name": "python",
   "nbconvert_exporter": "python",
   "pygments_lexer": "ipython3",
   "version": "3.8.5"
  }
 },
 "nbformat": 4,
 "nbformat_minor": 4
}
