{
 "cells": [
  {
   "cell_type": "code",
   "execution_count": 12,
   "metadata": {},
   "outputs": [],
   "source": [
    "def solution(wait_people):\n",
    "    day_people=1200\n",
    "    time_people=100\n",
    "    year=2020\n",
    "    month=1\n",
    "    day=1\n",
    "    time_h=9\n",
    "    time_m=0\n",
    "    answer=''\n",
    "\n",
    "    sum=0\n",
    "    for i in range(10,0,-1):\n",
    "        sum+=pow(2,i)#월마다 배 오는 일 수를 다 더한 것\n",
    "\n",
    "    if int(wait_people//day_people)>=sum:\n",
    "        wait_year=int(int(wait_people//day_people)//sum)#기다리는 년도\n",
    "        year=year+wait_year\n",
    "\n",
    "    wait_month=int(int(wait_people//day_people)%sum)\n",
    "    for i in range(10,0,-1):\n",
    "        if wait_month >= pow(2,i):#기다리는 개월 수가 매 달의 배가 오는 날보다 클 때\n",
    "            month+=1#다음 달로 넘어가고 넘어간 달을 빼준다.\n",
    "            wait_month-=pow(2,i)\n",
    "        else:\n",
    "            day+=wait_month#현재 달에 오는 배 수보다 작을 경우 나머지를 일로 더해준다.\n",
    "            break\n",
    "                \n",
    "    wait_time=int(int(wait_people%day_people)//time_people)#하루 탈 수 있는 인원수로 나눈 나머지는 시간\n",
    "    time_h=time_h+wait_time\n",
    "    if int(wait_people%day_people)%time_people + 1>=10:#배가 10분 마다 오므로 값이 10보다 클 경우 분을 10분 더해 준다.\n",
    "        time_m+=10\n",
    "\n",
    "    answer=str(year)+\"년 \"+str(month)+\"월 \"+str(day-1)+\"일 \"+str(time_h)+\"시 \"+str(time_m)+\"분 출발\"\n",
    "    \n",
    "    return answer"
   ]
  },
  {
   "cell_type": "code",
   "execution_count": 15,
   "metadata": {},
   "outputs": [
    {
     "name": "stdout",
     "output_type": "stream",
     "text": [
      "2020년 1월 1000일 11시 10분 출발\n",
      "2025년 2월 413일 11시 0분 출발\n"
     ]
    }
   ],
   "source": [
    "print(solution(1200202))\n",
    "print(solution(14000605))"
   ]
  },
  {
   "cell_type": "markdown",
   "metadata": {},
   "source": [
    "## 시간에서 오류 나타남"
   ]
  },
  {
   "cell_type": "code",
   "execution_count": null,
   "metadata": {},
   "outputs": [],
   "source": []
  }
 ],
 "metadata": {
  "kernelspec": {
   "display_name": "Python 3",
   "language": "python",
   "name": "python3"
  },
  "language_info": {
   "codemirror_mode": {
    "name": "ipython",
    "version": 3
   },
   "file_extension": ".py",
   "mimetype": "text/x-python",
   "name": "python",
   "nbconvert_exporter": "python",
   "pygments_lexer": "ipython3",
   "version": "3.8.5"
  }
 },
 "nbformat": 4,
 "nbformat_minor": 4
}
