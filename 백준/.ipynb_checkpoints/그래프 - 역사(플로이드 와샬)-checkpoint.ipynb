{
 "cells": [
  {
   "cell_type": "code",
   "execution_count": 1,
   "metadata": {},
   "outputs": [
    {
     "name": "stdout",
     "output_type": "stream",
     "text": [
      "5 5\n",
      "1 2\n",
      "1 3\n",
      "2 3\n",
      "3 4\n",
      "2 4\n",
      "3\n",
      "1 5\n",
      "0\n",
      "2 4\n",
      "-1\n",
      "3 1\n",
      "1\n"
     ]
    }
   ],
   "source": [
    "import sys\n",
    "\n",
    "n,m=map(int, input().split())\n",
    "\n",
    "\n",
    "array=[[0]*(n+1) for _ in range(n+1)]\n",
    "\n",
    "for _ in range(m):\n",
    "    x,y=map(int, input().split())\n",
    "\n",
    "    array[x][y]=1\n",
    "\n",
    "for i in range(1,n+1):\n",
    "    for j in range(1,n+1):\n",
    "        for k in range(1,n+1):\n",
    "            if array[j][i] and array[i][k]:\n",
    "                array[j][k]=1\n",
    "            \n",
    "\n",
    "\n",
    "k = int(input())\n",
    "\n",
    "for _ in range(k):\n",
    "    a,b=map(int, input().split())\n",
    "\n",
    "    if array[a][b]:\n",
    "        print(-1)\n",
    "    elif array[b][a]:\n",
    "        print(1)\n",
    "    else:\n",
    "        print(0)\n"
   ]
  },
  {
   "cell_type": "markdown",
   "metadata": {},
   "source": [
    "<pre>\n",
    "전후가 다른 경우의 테스트 경우는 a,b 순서에서 b,a순서가 없을 경우 1로 해주면 된다.\n",
    "</pre>"
   ]
  },
  {
   "cell_type": "code",
   "execution_count": null,
   "metadata": {},
   "outputs": [],
   "source": []
  }
 ],
 "metadata": {
  "kernelspec": {
   "display_name": "Python 3",
   "language": "python",
   "name": "python3"
  },
  "language_info": {
   "codemirror_mode": {
    "name": "ipython",
    "version": 3
   },
   "file_extension": ".py",
   "mimetype": "text/x-python",
   "name": "python",
   "nbconvert_exporter": "python",
   "pygments_lexer": "ipython3",
   "version": "3.8.5"
  }
 },
 "nbformat": 4,
 "nbformat_minor": 4
}
