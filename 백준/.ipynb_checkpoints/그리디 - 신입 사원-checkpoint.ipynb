{
 "cells": [
  {
   "cell_type": "code",
   "execution_count": 3,
   "metadata": {},
   "outputs": [
    {
     "name": "stdout",
     "output_type": "stream",
     "text": [
      "2\n",
      "5\n",
      "3 2\n",
      "1 4\n",
      "4 1\n",
      "2 3\n",
      "5 5\n",
      "4\n",
      "7\n",
      "3 6\n",
      "7 3\n",
      "4 2\n",
      "1 4\n",
      "5 7\n",
      "2 5\n",
      "6 1\n",
      "3\n"
     ]
    }
   ],
   "source": [
    "import sys\n",
    "\n",
    "t=int(input())\n",
    "\n",
    "for _ in range(t):\n",
    "    n = int(input())\n",
    "    array=[[0]*2 for _ in range(n)]\n",
    "    for i in range(n):\n",
    "        #x,y=map(int, sys.stdin.readline().strip().split())#시간 초과때문에\n",
    "        x,y=map(int, input().split())\n",
    "        array[i][0]=x\n",
    "        array[i][1]=y\n",
    "    #우선 서류심사 성적이 더 좋은 순으로 정렬을 한다.\n",
    "    array=sorted(array,key=lambda x:x[0])\n",
    "\n",
    "    cnt=1\n",
    "    #서류 심사의 성적이 제일 좋은 1위인 사람의 면접 시험 성적을 통해\n",
    "    #이 기준으로 성적이 높은 사람의 수를 구해 준다.\n",
    "    min=array[0][1]\n",
    "    for i in range(1,n):\n",
    "        if array[i][1]<min:\n",
    "            min=array[i][1]\n",
    "            cnt+=1\n",
    "    print(cnt)\n"
   ]
  },
  {
   "cell_type": "markdown",
   "metadata": {},
   "source": [
    "<pre>\n",
    "sys.stdin()이 jupyter notebook은 먹지 않는다.\n",
    "따라서 int(input())으로 변경\n",
    "</pre>"
   ]
  },
  {
   "cell_type": "code",
   "execution_count": null,
   "metadata": {},
   "outputs": [],
   "source": []
  }
 ],
 "metadata": {
  "kernelspec": {
   "display_name": "Python 3",
   "language": "python",
   "name": "python3"
  },
  "language_info": {
   "codemirror_mode": {
    "name": "ipython",
    "version": 3
   },
   "file_extension": ".py",
   "mimetype": "text/x-python",
   "name": "python",
   "nbconvert_exporter": "python",
   "pygments_lexer": "ipython3",
   "version": "3.8.5"
  }
 },
 "nbformat": 4,
 "nbformat_minor": 4
}
