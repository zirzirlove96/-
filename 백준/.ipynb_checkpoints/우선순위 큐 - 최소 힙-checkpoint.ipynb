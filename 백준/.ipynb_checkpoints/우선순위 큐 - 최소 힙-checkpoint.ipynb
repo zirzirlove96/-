{
 "cells": [
  {
   "cell_type": "code",
   "execution_count": 2,
   "metadata": {},
   "outputs": [
    {
     "name": "stdout",
     "output_type": "stream",
     "text": [
      "[0, 1, 2, 12345678, 0]\n"
     ]
    }
   ],
   "source": [
    "import heapq\n",
    "import sys\n",
    "\n",
    "\n",
    "def solution(n,array):\n",
    "    min_heap=[]\n",
    "#n=int(sys.stdin.readline())\n",
    "    answer=[]\n",
    "\n",
    "    for i in range(n):\n",
    "    #x=int(sys.stdin.readline())\n",
    "        x=array[i]\n",
    "\n",
    "        if x==0 and len(min_heap)==0:\n",
    "            answer.append(0)\n",
    "        elif x!=0:\n",
    "            heapq.heappush(min_heap,x)\n",
    "        elif x==0 and len(min_heap)>0:\n",
    "           answer.append(heapq.heappop(min_heap))\n",
    "    return answer\n",
    "\n",
    "print(solution(9,[0,12345678,1,2,0,0,0,0,32]))"
   ]
  },
  {
   "cell_type": "markdown",
   "metadata": {},
   "source": [
    "<pre>\n",
    "<font size=\"5em\">\n",
    "<strong>\n",
    "우선순위 큐를 대표하는 heapq를 사용하여 배열에 아무것도 없고 0인 경우 0을 출력하고 0이 아니면 배열에 넣고 heapq를 해주면 최소 힙이므로 제일 작은 값이 루트 값으로 가게 된다.\n",
    "그리고 0이 들어가면 제일 작은 값들을 출력해 준다.\n",
    "<strong>\n",
    "</font>\n",
    "</pre>"
   ]
  },
  {
   "cell_type": "code",
   "execution_count": null,
   "metadata": {},
   "outputs": [],
   "source": []
  }
 ],
 "metadata": {
  "kernelspec": {
   "display_name": "Python 3",
   "language": "python",
   "name": "python3"
  },
  "language_info": {
   "codemirror_mode": {
    "name": "ipython",
    "version": 3
   },
   "file_extension": ".py",
   "mimetype": "text/x-python",
   "name": "python",
   "nbconvert_exporter": "python",
   "pygments_lexer": "ipython3",
   "version": "3.8.5"
  }
 },
 "nbformat": 4,
 "nbformat_minor": 4
}
