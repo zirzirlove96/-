{
 "cells": [
  {
   "cell_type": "code",
   "execution_count": 6,
   "metadata": {},
   "outputs": [
    {
     "name": "stdout",
     "output_type": "stream",
     "text": [
      "3\n"
     ]
    }
   ],
   "source": [
    "from collections import deque\n",
    "import sys\n",
    "\n",
    "dirR=[0,0,-1,1]\n",
    "dirC=[1,-1,0,0]\n",
    "\n",
    "def bfs(x,y):\n",
    "    global count\n",
    "    q=deque()\n",
    "    q.append((x,y,array[x][y]))\n",
    "    #중복된 길을 가지 않게 하기 위해 같이 넣어준다.\n",
    "    #따로 해주면 while문에서 x,y만 검사하고 while문을 빠져나가기 때문에\n",
    "    #중복된 길을 갈 수 있다.\n",
    "\n",
    "        \n",
    "    while q:\n",
    "        x,y,ans=q.popleft()\n",
    "        for i in range(4):\n",
    "            nr,nc=x+dirR[i],y+dirC[i]\n",
    "            if 0<=nr<n and 0<=nc<m:\n",
    "                if array[nr][nc] not in ans:\n",
    "                    #ans+=array[nr][nc]\n",
    "                    q.append((nr,nc,ans+array[nr][nc]))\n",
    "                    count=max(count,len(ans)+1)\n",
    "                    \n",
    "\n",
    "\n",
    "\n",
    "#n,m=map(int,input().split())\n",
    "#array=[list(map(str,input())) for _ in range(n)]\n",
    "array=[['C','A','A','B'],['A','D','C','B']]\n",
    "count=1\n",
    "\n",
    "bfs(0,0)\n",
    "\n",
    "print(count)\n"
   ]
  },
  {
   "cell_type": "markdown",
   "metadata": {},
   "source": [
    "<pre>\n",
    "정답이 나오지만 메모리 초과가 나온다. 큐에 방문한 것이 계속 추가가 되어서 메모리 초과가 나온다.\n",
    "그렇기 때문에 set()을 사용하여 <strong>중복을 허용하지 않도록 데이터를 저장하게 한다.</strong>\n",
    "</pre>"
   ]
  },
  {
   "cell_type": "code",
   "execution_count": 5,
   "metadata": {},
   "outputs": [
    {
     "name": "stdout",
     "output_type": "stream",
     "text": [
      "3\n"
     ]
    }
   ],
   "source": [
    "import sys\n",
    "\n",
    "dirR=[0,0,-1,1]\n",
    "dirC=[1,-1,0,0]\n",
    "\n",
    "def bfs(x,y):\n",
    "    global count\n",
    "    q=set([(x,y,array[x][y])])\n",
    "\n",
    "        \n",
    "    while q:\n",
    "        x,y,ans=q.pop()\n",
    "        for i in range(4):\n",
    "            nr,nc=x+dirR[i],y+dirC[i]\n",
    "            if 0<=nr<n and 0<=nc<m:\n",
    "                if array[nr][nc] not in ans:\n",
    "                    q.add((nr,nc,ans+array[nr][nc]))\n",
    "                    count=max(count,len(ans)+1)\n",
    "                    \n",
    "\n",
    "\n",
    "\n",
    "#n,m=map(int,input().split())\n",
    "#array=[list(map(str,sys.stdin.readline())) for _ in range(n)]\n",
    "array=[['C','A','A','B'],['A','D','C','B']]\n",
    "count=1\n",
    "\n",
    "bfs(0,0)\n",
    "\n",
    "print(count)\n"
   ]
  },
  {
   "cell_type": "code",
   "execution_count": null,
   "metadata": {},
   "outputs": [],
   "source": []
  }
 ],
 "metadata": {
  "kernelspec": {
   "display_name": "Python 3",
   "language": "python",
   "name": "python3"
  },
  "language_info": {
   "codemirror_mode": {
    "name": "ipython",
    "version": 3
   },
   "file_extension": ".py",
   "mimetype": "text/x-python",
   "name": "python",
   "nbconvert_exporter": "python",
   "pygments_lexer": "ipython3",
   "version": "3.8.5"
  }
 },
 "nbformat": 4,
 "nbformat_minor": 4
}
