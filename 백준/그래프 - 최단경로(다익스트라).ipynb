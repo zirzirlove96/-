{
 "cells": [
  {
   "cell_type": "code",
   "execution_count": 3,
   "metadata": {},
   "outputs": [
    {
     "name": "stdout",
     "output_type": "stream",
     "text": [
      "5 6\n",
      "1\n",
      "5 1 1\n",
      "1 2 2\n",
      "1 3 3\n",
      "2 3 4\n",
      "2 4 5\n",
      "3 4 6\n",
      "0\n",
      "2\n",
      "3\n",
      "7\n",
      "INF\n"
     ]
    }
   ],
   "source": [
    "import sys\n",
    "\n",
    "V,E=map(int, input().split())#정점의 개수, 간선의 개수\n",
    "\n",
    "k = int(input())#시작 정점 번호\n",
    "\n",
    "INF = sys.maxsize\n",
    "\n",
    "array=[[INF]*(V+1) for _ in range(V+1)]\n",
    "for i in range(E):\n",
    "    u,v,w=map(int, input().split())\n",
    "    array[u][v]=w\n",
    "\n",
    "\n",
    "answer=[]\n",
    "for i in range(1,V+1):\n",
    "    if k==i:\n",
    "        print(0)\n",
    "    else:\n",
    "        if array[k][i]==INF:\n",
    "            for j in range(1,V+1):\n",
    "                if array[k][j]!=INF and array[j][i]!=INF:\n",
    "                    array[k][i]=min(array[k][i],array[k][j]+array[j][i])\n",
    "            if array[k][i]==INF:\n",
    "                print(\"INF\")\n",
    "            else:\n",
    "                print(array[k][i])\n",
    "        else:\n",
    "            print(array[k][i])"
   ]
  },
  {
   "cell_type": "markdown",
   "metadata": {},
   "source": [
    "<pre>\n",
    "메모리 초과가 나온다.\n",
    "이 문제는 하나의 정점에서 다른 정점으로 가는 최단거리를 구하는 것이므로 <strong>다익스트라 알고리즘</strong>을 사용해 준다.\n",
    "</pre>"
   ]
  },
  {
   "cell_type": "code",
   "execution_count": null,
   "metadata": {},
   "outputs": [],
   "source": []
  }
 ],
 "metadata": {
  "kernelspec": {
   "display_name": "Python 3",
   "language": "python",
   "name": "python3"
  },
  "language_info": {
   "codemirror_mode": {
    "name": "ipython",
    "version": 3
   },
   "file_extension": ".py",
   "mimetype": "text/x-python",
   "name": "python",
   "nbconvert_exporter": "python",
   "pygments_lexer": "ipython3",
   "version": "3.8.5"
  }
 },
 "nbformat": 4,
 "nbformat_minor": 4
}
