{
 "cells": [
  {
   "cell_type": "code",
   "execution_count": 3,
   "metadata": {},
   "outputs": [
    {
     "name": "stdout",
     "output_type": "stream",
     "text": [
      "2\n",
      "8\n",
      "3 2 7 8 1 4 5 6\n",
      "3\n",
      "10\n",
      "2 1 3 4 5 6 7 9 10 8\n",
      "7\n"
     ]
    }
   ],
   "source": [
    "def dfs(v):\n",
    "    visited[v]=True#빙문 체크\n",
    "    for i in array2[v]:\n",
    "        if not visited[i]:\n",
    "            dfs(i)#재귀\n",
    "\n",
    "\n",
    "for _ in range(int(input())):\n",
    "    n=int(input())\n",
    "    array=list(map(int, input().split()))\n",
    "    array2=[[]*(n+1) for _ in range(n+1)]\n",
    "\n",
    "    for idx,value in enumerate(array):\n",
    "        array2[idx+1].append(value)#꼭 양방으로 해줘야 한다.\n",
    "        array2[value].append(idx+1)\n",
    "\n",
    "    count=0\n",
    "    visited=[False]*(n+1)\n",
    "    for i in range(1,n+1):\n",
    "        if not visited[i]:#visited가 false일 때 방문하지 않았다는 것이므로\n",
    "            dfs(i)\n",
    "            count+=1\n",
    "    print(count)"
   ]
  },
  {
   "cell_type": "code",
   "execution_count": 4,
   "metadata": {},
   "outputs": [
    {
     "name": "stdout",
     "output_type": "stream",
     "text": [
      "2\n",
      "8\n",
      "3 2 7 8 1 4 5 6\n",
      "[1, 3, 7, 5]\n",
      "[2]\n",
      "[4, 8, 6]\n",
      "3\n",
      "10\n",
      "2 1 3 4 5 6 7 9 10 8\n",
      "[1, 2]\n",
      "[3]\n",
      "[4]\n",
      "[5]\n",
      "[6]\n",
      "[7]\n",
      "[8, 9, 10]\n",
      "7\n"
     ]
    }
   ],
   "source": [
    "# 스택을 이용하여 만든 dfs\n",
    "\n",
    "def dfs(v):\n",
    "    visit=[]\n",
    "    stack=[]\n",
    "    stack.append(v)\n",
    "    visited[v]=True\n",
    "\n",
    "    while stack:\n",
    "        node=stack.pop()\n",
    "        if node not in visit:\n",
    "            visit.append(node)\n",
    "            stack.extend(reversed(array2[node]))#해당 node의 연결된 node들을 stack에 추가 \n",
    "            visited[node]=True#꼭 해줘야 한다.\n",
    "    return visit\n",
    "\n",
    "\n",
    "\n",
    "for _ in range(int(input())):\n",
    "    n=int(input())\n",
    "    array=list(map(int, input().split()))\n",
    "    array2=[[]*(n+1) for _ in range(n+1)]\n",
    "\n",
    "    for idx,value in enumerate(array):\n",
    "        array2[idx+1].append(value)\n",
    "        array2[value].append(idx+1)\n",
    "\n",
    "    count=0\n",
    "    visited=[False]*(n+1)\n",
    "    result=[[] for _ in range(n+1)]\n",
    "    \n",
    "    for i in range(1,n+1):\n",
    "        if not visited[i]:\n",
    "            print(dfs(i))\n",
    "            count+=1\n",
    "    print(count)"
   ]
  },
  {
   "cell_type": "code",
   "execution_count": null,
   "metadata": {},
   "outputs": [],
   "source": []
  }
 ],
 "metadata": {
  "kernelspec": {
   "display_name": "Python 3",
   "language": "python",
   "name": "python3"
  },
  "language_info": {
   "codemirror_mode": {
    "name": "ipython",
    "version": 3
   },
   "file_extension": ".py",
   "mimetype": "text/x-python",
   "name": "python",
   "nbconvert_exporter": "python",
   "pygments_lexer": "ipython3",
   "version": "3.8.3"
  }
 },
 "nbformat": 4,
 "nbformat_minor": 4
}
