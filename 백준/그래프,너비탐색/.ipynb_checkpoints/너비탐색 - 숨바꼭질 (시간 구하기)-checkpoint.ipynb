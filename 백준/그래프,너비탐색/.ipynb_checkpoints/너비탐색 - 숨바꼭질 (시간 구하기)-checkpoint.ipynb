{
 "cells": [
  {
   "cell_type": "markdown",
   "metadata": {},
   "source": [
    "<pre>\n",
    "기본적으로 bfs를 사용하여 문제를 푼다.\n",
    "<strong>가장 빠른 시간을 구하기 위해서는 \"시간의 변수\"를 어디에다가 두느냐가</strong> 문제이다.\n",
    "</pre>"
   ]
  },
  {
   "cell_type": "code",
   "execution_count": 1,
   "metadata": {},
   "outputs": [
    {
     "name": "stdout",
     "output_type": "stream",
     "text": [
      "5 17\n",
      "4\n"
     ]
    }
   ],
   "source": [
    "from collections import deque\n",
    "\n",
    "\n",
    "def bfs(start,end):\n",
    "    q=deque()\n",
    "    count=0\n",
    "    q.append([start,count]) #수빈이의 위치와 시간을 구하기 위해 count\n",
    "\n",
    "    while q:\n",
    "        v=q.popleft()\n",
    "        p = v[0]#위치\n",
    "        count=v[1]#시간\n",
    "        if end==p:#동생의 위치와 수빈이가 이동한 위치\n",
    "            return count\n",
    "        count+=1#방문할때마다 count+1를 해주면 숫자가 커지므로 \n",
    "        for i in (p-1,p+1,2*p):\n",
    "            if 0<=i<100001 and not visited[i]:\n",
    "                #i라는 위치가 큐에 몇번째로 들어갔는지 판단 후 +1을 해주고 q에 넣어준다.\n",
    "                q.append([i,count])\n",
    "                visited[i]=True\n",
    "\n",
    "\n",
    "n,k=map(int, input().split())\n",
    "visited=[False]*(100001)\n",
    "print(bfs(n,k))\n"
   ]
  },
  {
   "cell_type": "code",
   "execution_count": null,
   "metadata": {},
   "outputs": [],
   "source": [
    "from collections import deque\n",
    "\n",
    "\n",
    "def bfs(start,end):\n",
    "    q=deque()\n",
    "    count=0\n",
    "    q.append(start)\n",
    "\n",
    "\n",
    "    while q:\n",
    "        p=q.popleft()\n",
    "        if p==end:\n",
    "            return visited[p]#현재 나온 값이 end값과 같은 경우\n",
    "        for i in (p-1,p+1,p*2):\n",
    "            if 0<=i<100001 and not visited[i]:\n",
    "                q.append(i)\n",
    "                visited[i]=visited[p]+1#이전의 값과 +1\n",
    "\n",
    "    \n",
    "\n",
    "n,k=map(int, input().split())\n",
    "visited=[0]*100001\n",
    "print(bfs(n,k))\n"
   ]
  }
 ],
 "metadata": {
  "kernelspec": {
   "display_name": "Python 3",
   "language": "python",
   "name": "python3"
  },
  "language_info": {
   "codemirror_mode": {
    "name": "ipython",
    "version": 3
   },
   "file_extension": ".py",
   "mimetype": "text/x-python",
   "name": "python",
   "nbconvert_exporter": "python",
   "pygments_lexer": "ipython3",
   "version": "3.8.5"
  }
 },
 "nbformat": 4,
 "nbformat_minor": 4
}
