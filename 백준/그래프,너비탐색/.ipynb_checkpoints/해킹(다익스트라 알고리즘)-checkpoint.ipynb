{
 "cells": [
  {
   "cell_type": "code",
   "execution_count": null,
   "metadata": {},
   "outputs": [],
   "source": [
    "import heapq\n",
    "\n",
    "def dijkstra(start):\n",
    "    heapq_data=[]\n",
    "    heapq.heappush(heapq_data,(0,start))#cost,now\n",
    "    distance[start]=0\n",
    "\n",
    "    while heapq_data:\n",
    "        dist,now = heapq.heappop(heapq_data)\n",
    "        if distance[now]<dist:\n",
    "            continue\n",
    "        for i in array[now]:#다른 정점\n",
    "            cost = dist+i[1]\n",
    "            if distance[i[0]]>cost:#distance는 최단 거리만 담고 있어야 한다.\n",
    "                distance[i[0]]=cost\n",
    "                heapq.heappush(heapq_data,(cost,i[0]))\n",
    "\n",
    "t=int(input())\n",
    "for _ in range(t):\n",
    "    n,d,c=map(int, input().split())\n",
    "    array=[[] for _ in range(n+1)]\n",
    "    distance = [1e9]*(n+1)\n",
    "    for _ in range(d):\n",
    "        a,b,s=map(int, input().split())\n",
    "        array[b].append((a,s))\n",
    "    dijkstra(c)\n",
    "    count=0\n",
    "    max_distance=0\n",
    "    for i in distance:\n",
    "        if i!=1e9:\n",
    "            count+=1\n",
    "            if i>max_distance:\n",
    "                max_distance=i\n",
    "    print(count,max_distance)\n"
   ]
  }
 ],
 "metadata": {
  "kernelspec": {
   "display_name": "Python 3",
   "language": "python",
   "name": "python3"
  },
  "language_info": {
   "codemirror_mode": {
    "name": "ipython",
    "version": 3
   },
   "file_extension": ".py",
   "mimetype": "text/x-python",
   "name": "python",
   "nbconvert_exporter": "python",
   "pygments_lexer": "ipython3",
   "version": "3.8.5"
  }
 },
 "nbformat": 4,
 "nbformat_minor": 4
}
