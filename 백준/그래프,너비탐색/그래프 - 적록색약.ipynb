{
 "cells": [
  {
   "cell_type": "code",
   "execution_count": 2,
   "metadata": {},
   "outputs": [
    {
     "name": "stdout",
     "output_type": "stream",
     "text": [
      "5\n",
      "RRRBB\n",
      "GGBBB\n",
      "BBBRR\n",
      "BBRRR\n",
      "RRRRR\n",
      "4\n",
      "3\n"
     ]
    }
   ],
   "source": [
    "from collections import deque\n",
    "\n",
    "def bfs(x,y):\n",
    "    dirX=[0,0,-1,1]\n",
    "    dirY=[1,-1,0,0]\n",
    "    q=deque()\n",
    "    q.append([x,y])\n",
    "    \n",
    "    while q:\n",
    "        x,y=q.popleft()\n",
    "        visited[x][y]=True\n",
    "        for i in range(4):\n",
    "            nx = x+dirX[i]\n",
    "            ny = y+dirY[i]\n",
    "            \n",
    "            if 0<=nx<n and 0<=ny<n:\n",
    "                if not visited[nx][ny] and array[nx][ny]==array[x][y]:\n",
    "                    q.append([nx,ny])\n",
    "                    visited[nx][ny]=True\n",
    "                    \n",
    "\n",
    "\n",
    "\n",
    "n = int(input())\n",
    "\n",
    "array=[]\n",
    "for _ in range(n):\n",
    "    i = input()\n",
    "    array.append([j for j in i])\n",
    "    \n",
    "count=0\n",
    "visited=[[False]*(n) for _ in range(n)]\n",
    "for i in range(len(array)):\n",
    "    for j in range(len(array)):\n",
    "        if not visited[i][j]:\n",
    "            bfs(i,j)\n",
    "            count+=1\n",
    "print(count)\n",
    "\n",
    "for i in range(n):\n",
    "    for j in range(n):\n",
    "        if array[i][j]=='R':\n",
    "            array[i][j]='G' #적록색약을 위해 R인 경우에 G로 통합 \n",
    "count=0\n",
    "visited=[[False]*n for _ in range(n)]\n",
    "for i in range(n):\n",
    "    for j in range(n):\n",
    "        if not visited[i][j]:\n",
    "            bfs(i,j)\n",
    "            count+=1\n",
    "\n",
    "print(count)\n"
   ]
  },
  {
   "cell_type": "markdown",
   "metadata": {},
   "source": [
    "<pre>\n",
    "적록색약이 없는 경우에는 bfs를 하여 R,G,B대로 count를 해주면 된다.\n",
    "하지만 적록색약이 있는 경우 R,G는 구분되지 않고 같이 묶여져야 하므로 이중 for문을 사용하여 R인 경우 G로 변환해서 bfs 함수를 사용했을 경우 같이 묶여져서 사용되게 한다.\n",
    "</pre>"
   ]
  },
  {
   "cell_type": "code",
   "execution_count": 5,
   "metadata": {},
   "outputs": [
    {
     "name": "stdout",
     "output_type": "stream",
     "text": [
      "5\n",
      "RRRBB\n",
      "GGBBB\n",
      "BBBRR\n",
      "BBRRR\n",
      "RRRRR\n",
      "적록색약 없음 :  4\n",
      "적록색약 :  3\n"
     ]
    }
   ],
   "source": [
    "from collections import deque\n",
    "\n",
    "dirX=[0,0,-1,1]\n",
    "dirY=[1,-1,0,0]\n",
    "\n",
    "def bfs(color,i,j):\n",
    "    q=deque()\n",
    "    q.append([i,j])\n",
    "\n",
    "    while q:\n",
    "        x,y=q.popleft()\n",
    "        visited[x][y]=True\n",
    "        for i in range(4):\n",
    "            nx=x+dirX[i]\n",
    "            ny=y+dirY[i]\n",
    "            if 0<=nx<n and 0<=ny<n:\n",
    "                if not visited[nx][ny] and array[nx][ny] in color:\n",
    "                    visited[nx][ny]=True\n",
    "                    q.append([nx,ny])\n",
    "\n",
    "n = int(input())\n",
    "array=[list(map(str,input())) for _ in range(n)]\n",
    "\n",
    "visited=[[False]*n for _ in range(n)]\n",
    "count1=0\n",
    "for i in range(n):\n",
    "    for j in range(n):\n",
    "        if not visited[i][j]:\n",
    "            bfs(array[i][j],i,j)\n",
    "            count1+=1\n",
    "print(\"적록색약 없음 : \",count1)\n",
    "\n",
    "\n",
    "visited=[[False]*n for _ in range(n)]\n",
    "count2=0\n",
    "for i in range(n):\n",
    "    for j in range(n):\n",
    "        if not visited[i][j]:\n",
    "            if array[i][j]=='R' or array[i][j]=='G':\n",
    "                bfs(['R','G'],i,j)\n",
    "            else:\n",
    "                bfs(['B'],i,j)\n",
    "            count2+=1\n",
    "print(\"적록색약 : \",count2)\n"
   ]
  },
  {
   "cell_type": "markdown",
   "metadata": {},
   "source": [
    "<pre>\n",
    "적록색약이 없을 경우 bfs를 사용해 주고,\n",
    "있는 경우 ['R','G']를 묶어 bfs에 color라는 곳에 넣어 같이 사용하는 것으로 검색을 해준다.\n",
    "</pre>"
   ]
  },
  {
   "cell_type": "code",
   "execution_count": null,
   "metadata": {},
   "outputs": [],
   "source": []
  }
 ],
 "metadata": {
  "kernelspec": {
   "display_name": "Python 3",
   "language": "python",
   "name": "python3"
  },
  "language_info": {
   "codemirror_mode": {
    "name": "ipython",
    "version": 3
   },
   "file_extension": ".py",
   "mimetype": "text/x-python",
   "name": "python",
   "nbconvert_exporter": "python",
   "pygments_lexer": "ipython3",
   "version": "3.8.5"
  }
 },
 "nbformat": 4,
 "nbformat_minor": 4
}
