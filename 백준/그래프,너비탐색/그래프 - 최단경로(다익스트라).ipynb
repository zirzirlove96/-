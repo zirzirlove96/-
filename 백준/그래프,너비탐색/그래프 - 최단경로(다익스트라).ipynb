{
 "cells": [
  {
   "cell_type": "code",
   "execution_count": 3,
   "metadata": {},
   "outputs": [
    {
     "name": "stdout",
     "output_type": "stream",
     "text": [
      "5 6\n",
      "1\n",
      "5 1 1\n",
      "1 2 2\n",
      "1 3 3\n",
      "2 3 4\n",
      "2 4 5\n",
      "3 4 6\n",
      "0\n",
      "2\n",
      "3\n",
      "7\n",
      "INF\n"
     ]
    }
   ],
   "source": [
    "import sys\n",
    "\n",
    "V,E=map(int, input().split())#정점의 개수, 간선의 개수\n",
    "\n",
    "k = int(input())#시작 정점 번호\n",
    "\n",
    "INF = sys.maxsize\n",
    "\n",
    "array=[[INF]*(V+1) for _ in range(V+1)]\n",
    "for i in range(E):\n",
    "    u,v,w=map(int, input().split())\n",
    "    array[u][v]=w\n",
    "\n",
    "\n",
    "answer=[]\n",
    "for i in range(1,V+1):\n",
    "    if k==i:\n",
    "        print(0)\n",
    "    else:\n",
    "        if array[k][i]==INF:\n",
    "            for j in range(1,V+1):\n",
    "                if array[k][j]!=INF and array[j][i]!=INF:\n",
    "                    array[k][i]=min(array[k][i],array[k][j]+array[j][i])\n",
    "            if array[k][i]==INF:\n",
    "                print(\"INF\")\n",
    "            else:\n",
    "                print(array[k][i])\n",
    "        else:\n",
    "            print(array[k][i])"
   ]
  },
  {
   "cell_type": "markdown",
   "metadata": {},
   "source": [
    "<pre>\n",
    "메모리 초과가 나온다.\n",
    "이 문제는 하나의 정점에서 다른 정점으로 가는 최단거리를 구하는 것이므로 <strong>다익스트라 알고리즘</strong>을 사용해 준다.\n",
    "</pre>"
   ]
  },
  {
   "cell_type": "code",
   "execution_count": 1,
   "metadata": {
    "scrolled": true
   },
   "outputs": [
    {
     "name": "stdout",
     "output_type": "stream",
     "text": [
      "5 6\n",
      "1\n",
      "5 1 1\n",
      "1 2 2\n",
      "1 3 3\n",
      "2 3 4\n",
      "2 4 5\n",
      "3 4 6\n",
      "0\n",
      "2\n",
      "3\n",
      "7\n",
      "INF\n"
     ]
    }
   ],
   "source": [
    "import sys\n",
    "import heapq\n",
    "\n",
    "INF=10000000\n",
    "\n",
    "def solution(V,K,array):\n",
    "    q=[]\n",
    "    dist=[INF]*V\n",
    "    dist[K-1]=0 #시작점 자신은 0으로 출력\n",
    "    heapq.heappush(q,[0,K-1])\n",
    "\n",
    "    while q:\n",
    "\n",
    "        weight,location= heapq.heappop(q)\n",
    "        #첫번째부터 저장된 다음 노드와 가중치 값\n",
    "        for next_location, w in array[location]:\n",
    "            w+=weight #거리를 구한다.\n",
    "\n",
    "            if w<dist[next_location]:\n",
    "                dist[next_location]=w\n",
    "                heapq.heappush(q,[w, next_location])\n",
    "                #가중치와 다음 location을 q에 저장한다.\n",
    "    return dist\n",
    "\n",
    "\n",
    "\n",
    "V,E = map(int, input().split())#정점의 개수, 간선의 개수\n",
    "K=int(input())#시작 정점 번호\n",
    "\n",
    "array=[[] for _ in range(V)]\n",
    "for i in range(E):\n",
    "    u,v,w=map(int, input().split())\n",
    "    array[u-1].append([v-1,w])#u에서 v로 가는 가중치 w\n",
    "\n",
    "for d in solution(V,K,array):\n",
    "    print(d if d!=INF else \"INF\")\n"
   ]
  },
  {
   "cell_type": "markdown",
   "metadata": {},
   "source": [
    "## 다익스트라 알고리즘을 사용한다\n",
    "## 다익스트라 알고리즘은 플루이드 와샬과 달리 하나의 정점에서 모든 정점을 가르켜서 작은 수를 추출한다. 여기에서 작은 수를 추출하기 위해서 메모리 초과가 일어난다.\n",
    "### 따라서 heapq를 사용하여 연산을 빠르게 하고 메모리 초과를 막아준다."
   ]
  },
  {
   "cell_type": "markdown",
   "metadata": {},
   "source": [
    "<pre>\n",
    "다음 노드와 가중치의 사용을 잘 파악하고 사용해야 한다.\n",
    "</pre>"
   ]
  },
  {
   "cell_type": "code",
   "execution_count": null,
   "metadata": {},
   "outputs": [],
   "source": []
  },
  {
   "cell_type": "code",
   "execution_count": null,
   "metadata": {},
   "outputs": [],
   "source": []
  }
 ],
 "metadata": {
  "kernelspec": {
   "display_name": "Python 3",
   "language": "python",
   "name": "python3"
  },
  "language_info": {
   "codemirror_mode": {
    "name": "ipython",
    "version": 3
   },
   "file_extension": ".py",
   "mimetype": "text/x-python",
   "name": "python",
   "nbconvert_exporter": "python",
   "pygments_lexer": "ipython3",
   "version": "3.8.5"
  }
 },
 "nbformat": 4,
 "nbformat_minor": 4
}
