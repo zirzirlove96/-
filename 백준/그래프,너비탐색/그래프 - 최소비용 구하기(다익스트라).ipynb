{
 "cells": [
  {
   "cell_type": "code",
   "execution_count": 1,
   "metadata": {},
   "outputs": [
    {
     "name": "stdout",
     "output_type": "stream",
     "text": [
      "5\n",
      "8\n",
      "1 2 2\n",
      "1 3 3\n",
      "1 4 1\n",
      "1 5 10\n",
      "2 4 2\n",
      "3 4 1\n",
      "3 5 1\n",
      "4 5 3\n",
      "1 5\n",
      "4\n"
     ]
    }
   ],
   "source": [
    "#import sys\n",
    "import heapq\n",
    "\n",
    "INF=100000\n",
    "\n",
    "\n",
    "def daijkstra(start):\n",
    "    q=[]\n",
    "    dist=[INF]*(n+1)\n",
    "    dist[start]=0\n",
    "\n",
    "    heapq.heappush(q,(0,start))\n",
    "\n",
    "    while q:\n",
    "        weight, location = heapq.heappop(q)\n",
    "\n",
    "        for next_location,w in array[location]:\n",
    "            w+=weight\n",
    "            if w<dist[next_location]:\n",
    "                dist[next_location]=w\n",
    "                heapq.heappush(q,(w,next_location))\n",
    "\n",
    "    return dist\n",
    "\n",
    "n=int(input())\n",
    "m=int(input())\n",
    "\n",
    "array=[[] for _ in range(n+1)]\n",
    "\n",
    "for _ in range(m):\n",
    "    a,b,c=map(int, input().split())\n",
    "    array[a].append((b,c))\n",
    "\n",
    "start,end = map(int, input().split())\n",
    "d = daijkstra(start)\n",
    "print(d[end]) #n으로 했다가 계속 틀림.. end값으로 해줘야 한다!!!"
   ]
  },
  {
   "cell_type": "code",
   "execution_count": null,
   "metadata": {},
   "outputs": [],
   "source": []
  }
 ],
 "metadata": {
  "kernelspec": {
   "display_name": "Python 3",
   "language": "python",
   "name": "python3"
  },
  "language_info": {
   "codemirror_mode": {
    "name": "ipython",
    "version": 3
   },
   "file_extension": ".py",
   "mimetype": "text/x-python",
   "name": "python",
   "nbconvert_exporter": "python",
   "pygments_lexer": "ipython3",
   "version": "3.8.5"
  }
 },
 "nbformat": 4,
 "nbformat_minor": 4
}
