{
 "cells": [
  {
   "cell_type": "code",
   "execution_count": 3,
   "metadata": {},
   "outputs": [
    {
     "name": "stdout",
     "output_type": "stream",
     "text": [
      "4 6\n",
      "1 2 3\n",
      "2 3 3\n",
      "3 4 1\n",
      "1 3 5\n",
      "2 4 5\n",
      "1 4 4\n",
      "2 3\n",
      "7\n"
     ]
    }
   ],
   "source": [
    "import sys\n",
    "import heapq\n",
    "\n",
    "INF = sys.maxsize\n",
    "\n",
    "def daijkstra(n,k,v,array):\n",
    "    q=[]\n",
    "    dist=[INF]*n\n",
    "    dist[k-1]=0\n",
    "    \n",
    "    heapq.heappush(q,[0,k-1])\n",
    "\n",
    "    while q:\n",
    "        weight,location = heapq.heappop(q)\n",
    "\n",
    "        for next_location,w in array[location]:\n",
    "            w+=weight\n",
    "            if w<dist[next_location]:\n",
    "                dist[next_location]=w\n",
    "                heapq.heappush(q,[w,next_location])\n",
    "\n",
    "    return dist[v-1]\n",
    "\n",
    "    \n",
    "\n",
    "n,m=map(int, input().split())\n",
    "\n",
    "array=[[] for _ in range(n)]\n",
    "for _ in range(m):\n",
    "    a,b,v = map(int, input().split())\n",
    "    array[a-1].append([b-1,v])\n",
    "    #array[b-1].append([a-1,v])#양방향...\n",
    "\n",
    "v1,v2=map(int, input().split())\n",
    "\n",
    "print(min(daijkstra(n,1,v1,array)+daijkstra(n,v1,v2,array)+daijkstra(n,v2,n,array),\n",
    "         daijkstra(n,1,v2,array)+daijkstra(n,v2,v1,array)+daijkstra(n,v1,n,array)))\n",
    "\n",
    "\n"
   ]
  },
  {
   "cell_type": "markdown",
   "metadata": {},
   "source": [
    "<pre>\n",
    "틀린 문제이다. 테스트 코드는 통과했지만 출력문에 경로가 없을 경우 -1을 도출해 내는 코드가 없고, 양방향을 띄라고 문제에서 나와있으므로 <strong>양방향</strong>으로 해줘야 한다.\n",
    "</pre>"
   ]
  },
  {
   "cell_type": "code",
   "execution_count": 6,
   "metadata": {},
   "outputs": [
    {
     "name": "stdout",
     "output_type": "stream",
     "text": [
      "4 6\n",
      "1 2 3\n",
      "2 3 3\n",
      "3 4 1\n",
      "1 3 5\n",
      "2 4 5\n",
      "1 4 4\n",
      "2 3\n",
      "7\n"
     ]
    }
   ],
   "source": [
    "import sys\n",
    "import heapq\n",
    "\n",
    "INF = sys.maxsize\n",
    "\n",
    "def daijkstra(start):\n",
    "    q=[]\n",
    "    dist=[INF]*(n+1)\n",
    "    dist[start]=0\n",
    "    \n",
    "    heapq.heappush(q,[0,start])\n",
    "\n",
    "    while q:\n",
    "        weight,location = heapq.heappop(q)\n",
    "\n",
    "        for next_location,w in array[location]:\n",
    "            w+=weight #출발지점에서 0+weght\n",
    "            if w<dist[next_location]:\n",
    "                dist[next_location]=w\n",
    "                heapq.heappush(q,[w,next_location])\n",
    "\n",
    "    return dist\n",
    "\n",
    "    \n",
    "\n",
    "n,m=map(int, input().split())\n",
    "\n",
    "array=[[] for _ in range(n+1)]\n",
    "for _ in range(m):\n",
    "    a,b,v = map(int, input().split())\n",
    "    array[a].append([b,v])\n",
    "    array[b].append([a,v])#양방향...\n",
    "\n",
    "v1,v2=map(int, input().split())\n",
    "\n",
    "start = daijkstra(1) #1->v1 1->v2\n",
    "mid1 = daijkstra(v1) #v1->v2 v1->n\n",
    "\n",
    "#1->v1->v2->n\n",
    "result1 = start[v1]+mid1[v2]+daijkstra(v2)[n]\n",
    "\n",
    "#1->v2->v1->n\n",
    "# 1->v2 / v1->v2 / v1->n\n",
    "result2 = start[v2]+mid1[v2]+mid1[n]\n",
    "\n",
    "if result1>=INF and result2>=INF:\n",
    "    print(-1)\n",
    "else:\n",
    "    print(min(result1,result2))\n",
    "\n",
    "\n"
   ]
  },
  {
   "cell_type": "markdown",
   "metadata": {},
   "source": [
    "<pre>\n",
    "1->v1->v2->n의 방식과 1->v2->v2->n의 방식을 둘 다 구해 작은 값을 추출해야 한다.\n",
    "start는 1을 넣어 1에서 부터 n까지 갈 수 있고,\n",
    "mid1은 v1을 넣어 v1에서 n까지 갈 수 있다.\n",
    "result1은 1->v1->v2->n이므로 start[v1]+mid1[v2]+daijkstra(v2)[n]이며\n",
    "result2는 1->v2->v1->n이므로 start[v2]+mid1[v2]+mid1[v1]이다.\n",
    "</pre>"
   ]
  },
  {
   "cell_type": "code",
   "execution_count": null,
   "metadata": {},
   "outputs": [],
   "source": []
  }
 ],
 "metadata": {
  "kernelspec": {
   "display_name": "Python 3",
   "language": "python",
   "name": "python3"
  },
  "language_info": {
   "codemirror_mode": {
    "name": "ipython",
    "version": 3
   },
   "file_extension": ".py",
   "mimetype": "text/x-python",
   "name": "python",
   "nbconvert_exporter": "python",
   "pygments_lexer": "ipython3",
   "version": "3.8.5"
  }
 },
 "nbformat": 4,
 "nbformat_minor": 4
}
