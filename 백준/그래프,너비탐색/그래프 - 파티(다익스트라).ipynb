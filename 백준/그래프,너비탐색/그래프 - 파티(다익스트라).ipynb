{
 "cells": [
  {
   "cell_type": "code",
   "execution_count": 1,
   "metadata": {},
   "outputs": [
    {
     "name": "stdout",
     "output_type": "stream",
     "text": [
      "4 8 2\n",
      "1 2 4\n",
      "1 3 2\n",
      "1 4 7\n",
      "2 1 1\n",
      "2 3 5\n",
      "3 1 2\n",
      "3 4 4\n",
      "4 2 3\n",
      "10\n"
     ]
    }
   ],
   "source": [
    "import sys\n",
    "import heapq\n",
    "\n",
    "INF = sys.maxsize\n",
    "\n",
    "def dajistra(start):\n",
    "    q=[]\n",
    "    dist=[INF]*(n+1)\n",
    "    dist[start]=0\n",
    "    heapq.heappush(q,(0,start))\n",
    "\n",
    "    while q:\n",
    "        weight, location = heapq.heappop(q)\n",
    "\n",
    "        for next_location,w in array[location]:\n",
    "            w+=weight\n",
    "            if w<dist[next_location]:\n",
    "                dist[next_location]=w\n",
    "                heapq.heappush(q,(w,next_location))\n",
    "\n",
    "    return dist\n",
    "\n",
    "\n",
    "n,m,x=map(int, input().split())\n",
    "array=[[] for _ in range(n+1)]\n",
    "\n",
    "for _ in range(m):\n",
    "    a,b,c= map(int, input().split())\n",
    "    array[a].append((b,c))\n",
    "\n",
    "answer=[]\n",
    "for i in range(1,n+1):\n",
    "    answer.append(dajistra(i)[x]+dajistra(x)[i])\n",
    "\n",
    "print(max(answer))"
   ]
  },
  {
   "cell_type": "markdown",
   "metadata": {},
   "source": [
    "<pre>\n",
    "2번째 마을에 사는 아이는 X마을이 2이므로 왔다갔다 하지 않기때문에 0이다.\n",
    "</pre>"
   ]
  },
  {
   "cell_type": "code",
   "execution_count": null,
   "metadata": {},
   "outputs": [],
   "source": []
  }
 ],
 "metadata": {
  "kernelspec": {
   "display_name": "Python 3",
   "language": "python",
   "name": "python3"
  },
  "language_info": {
   "codemirror_mode": {
    "name": "ipython",
    "version": 3
   },
   "file_extension": ".py",
   "mimetype": "text/x-python",
   "name": "python",
   "nbconvert_exporter": "python",
   "pygments_lexer": "ipython3",
   "version": "3.8.5"
  }
 },
 "nbformat": 4,
 "nbformat_minor": 4
}
