{
 "cells": [
  {
   "cell_type": "code",
   "execution_count": 4,
   "metadata": {},
   "outputs": [
    {
     "name": "stdout",
     "output_type": "stream",
     "text": [
      "4 6\n",
      "110110\n",
      "110110\n",
      "111111\n",
      "111101\n",
      "[0, 1, 0, 7, 8, 0]\n",
      "[1, 2, 0, 6, 7, 0]\n",
      "[2, 3, 4, 5, 6, 7]\n",
      "[3, 4, 5, 6, 0, 8]\n",
      "==================================\n",
      "9\n"
     ]
    }
   ],
   "source": [
    "from collections import deque\n",
    "\n",
    "distX=[0,0,-1,1]\n",
    "distY=[1,-1,0,0]\n",
    "\n",
    "\n",
    "def bfs(pos):\n",
    "    q=deque()\n",
    "    q.append(pos)\n",
    "\n",
    "    while q:\n",
    "        x,y=q.popleft()\n",
    "        visited[x][y]=True\n",
    "        for i in range(4):\n",
    "            dx = x+distX[i]\n",
    "            dy = y+distY[i]\n",
    "            if 0<=dx<n and 0<=dy<m:\n",
    "                #경로를 벗어나지 않는 범위 내에서 방문 여부 확인, 길이 맞는지 확인\n",
    "                if array[dx][dy]==1 and not visited[dx][dy]:\n",
    "                    q.append((dx,dy))\n",
    "                    dir[dx][dy]=dir[x][y]+1\n",
    "                    visited[dx][dy]=True\n",
    "        \n",
    "\n",
    "n,m=map(int, input().split())\n",
    "array=[list(map(int, input())) for _ in range(n)]\n",
    "visited=[[False]*(m) for _ in range(n)]\n",
    "dir = [[0]*(m) for _ in range(n)]\n",
    "\n",
    "bfs((0,0))\n",
    "for i in dir:\n",
    "    print(i)\n",
    "print(\"==================================\")\n",
    "print(dir[n-1][m-1]+1)\n"
   ]
  },
  {
   "cell_type": "markdown",
   "metadata": {},
   "source": [
    "<pre>\n",
    "탐색을 하면서 지나간 길을 등록하는 2차원 배열인 dir (지나간 길을 알릴 뿐만 아니라 몇번째에 왔는지 숫자로 기록해 준다)\n",
    "</pre>"
   ]
  },
  {
   "cell_type": "code",
   "execution_count": null,
   "metadata": {},
   "outputs": [],
   "source": []
  }
 ],
 "metadata": {
  "kernelspec": {
   "display_name": "Python 3",
   "language": "python",
   "name": "python3"
  },
  "language_info": {
   "codemirror_mode": {
    "name": "ipython",
    "version": 3
   },
   "file_extension": ".py",
   "mimetype": "text/x-python",
   "name": "python",
   "nbconvert_exporter": "python",
   "pygments_lexer": "ipython3",
   "version": "3.8.5"
  }
 },
 "nbformat": 4,
 "nbformat_minor": 4
}
