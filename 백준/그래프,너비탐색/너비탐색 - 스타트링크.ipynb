{
 "cells": [
  {
   "cell_type": "code",
   "execution_count": 1,
   "metadata": {},
   "outputs": [
    {
     "name": "stdout",
     "output_type": "stream",
     "text": [
      "10 1 10 2 1\n",
      "6\n"
     ]
    }
   ],
   "source": [
    "from collections import deque\n",
    "\n",
    "f,s,g,u,d=map(int, input().split())\n",
    "count=0\n",
    "\n",
    "def bfs():\n",
    "    global count\n",
    "    q=deque()\n",
    "    q.append([s,count])\n",
    "\n",
    "    while q:\n",
    "        v = q.popleft()\n",
    "        start=v[0]\n",
    "        count=v[1]\n",
    "        if not visited[start]:\n",
    "            visited[start]=True\n",
    "        if start==g:\n",
    "            count\n",
    "            break\n",
    "        \n",
    "        for i in (start-d, start+u):\n",
    "            if 0<i<=f and not visited[i] and i<=g:\n",
    "                count+=1\n",
    "                visited[i]=True\n",
    "                q.append([i,count])\n",
    "            else:\n",
    "                count\n",
    "                \n",
    "            \n",
    "                     \n",
    "\n",
    "visited=[False]*(f+1)\n",
    "bfs()\n",
    "if count==0:\n",
    "    print(\"use the stairs\")\n",
    "else:\n",
    "    print(count)\n",
    "\n",
    "\n"
   ]
  },
  {
   "cell_type": "markdown",
   "metadata": {},
   "source": [
    "<pre>\n",
    "테스트 케이스 답들은 맞으나 채점 결과 틀리거나, 런타임 오류가 나타난다.\n",
    "런타임 오류는 범위를 벗어나거나, 0으로 나눌 때 나는 에러 표시이다.\n",
    "</pre>"
   ]
  },
  {
   "cell_type": "code",
   "execution_count": 3,
   "metadata": {},
   "outputs": [
    {
     "name": "stdout",
     "output_type": "stream",
     "text": [
      "100 2 1 1 0\n",
      "use the stairs\n"
     ]
    }
   ],
   "source": [
    "from collections import deque\n",
    "\n",
    "f,s,g,u,d=map(int, input().split())\n",
    "\n",
    "def bfs():\n",
    "    count=0\n",
    "    q=deque()\n",
    "    q.append([s,count])\n",
    "\n",
    "    while q:\n",
    "        v = q.popleft()\n",
    "        start=v[0]\n",
    "        count=v[1]\n",
    "        if start==g: #목적지 G에 도착했을 때\n",
    "            return count\n",
    "        count+=1\n",
    "        if not visited[start]:\n",
    "            visited[start]=True\n",
    "        for i in (start-d, start+u):#-d, -u\n",
    "            if 1<=i<=f and not visited[i]: #1층부터 f층까지\n",
    "                visited[i]=True\n",
    "                q.append([i,count])\n",
    "    return -1\n",
    "                \n",
    "            \n",
    "                     \n",
    "\n",
    "visited=[False]*(f+1)\n",
    "ans=bfs()\n",
    "if ans>=0:\n",
    "    print(ans)\n",
    "else:\n",
    "    print(\"use the stairs\")"
   ]
  },
  {
   "cell_type": "markdown",
   "metadata": {},
   "source": [
    "<pre>\n",
    "<strong>for의 범위와 count+=1를 어디에서 할 것인지가 제일 중요하다!</strong>\n",
    "</pre>"
   ]
  },
  {
   "cell_type": "code",
   "execution_count": null,
   "metadata": {},
   "outputs": [],
   "source": [
    "from collections import deque\n",
    "\n",
    "f,s,g,u,d=map(int, input().split())\n",
    "count=0\n",
    "def bfs():\n",
    "    global count\n",
    "    q=deque()\n",
    "    q.append([s,count])\n",
    "\n",
    "    while q:\n",
    "        v = q.popleft()\n",
    "        start=v[0]\n",
    "        count=v[1]\n",
    "        if start==g:\n",
    "            count\n",
    "            break\n",
    "        if not visited[start]:\n",
    "            visited[start]=True\n",
    "        count+=1 #count는 밖에서 수행해야 한다.\n",
    "        for i in (start-d, start+u):\n",
    "            if 1<=i<=f and not visited[i]: #범위 중요!\n",
    "                visited[i]=True\n",
    "                q.append([i,count])\n",
    "        else:\n",
    "            count=-1\n",
    "            #break break해주면 안된다!!!!!!\n",
    "            \n",
    "                     \n",
    "\n",
    "visited=[False]*(f+1)\n",
    "bfs()\n",
    "if count>=0:\n",
    "    print(count)\n",
    "else:\n",
    "    print(\"use the stairs\")"
   ]
  }
 ],
 "metadata": {
  "kernelspec": {
   "display_name": "Python 3",
   "language": "python",
   "name": "python3"
  },
  "language_info": {
   "codemirror_mode": {
    "name": "ipython",
    "version": 3
   },
   "file_extension": ".py",
   "mimetype": "text/x-python",
   "name": "python",
   "nbconvert_exporter": "python",
   "pygments_lexer": "ipython3",
   "version": "3.8.5"
  }
 },
 "nbformat": 4,
 "nbformat_minor": 4
}
