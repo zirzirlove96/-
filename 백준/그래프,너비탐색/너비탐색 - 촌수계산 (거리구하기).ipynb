{
 "cells": [
  {
   "cell_type": "code",
   "execution_count": 2,
   "metadata": {},
   "outputs": [
    {
     "name": "stdout",
     "output_type": "stream",
     "text": [
      "9\n",
      "7 3\n",
      "7\n",
      "1 2\n",
      "1 3\n",
      "2 7\n",
      "2 8\n",
      "2 9\n",
      "4 5\n",
      "4 6\n",
      "3\n"
     ]
    }
   ],
   "source": [
    "from collections import deque\n",
    "\n",
    "def bfs(v1,v2):\n",
    "    count=0\n",
    "    q=deque()\n",
    "    q.append((v1,count))#v2는 타겟 값으로 v2가 나올 때까지 넣어준다.\n",
    "\n",
    "    while q:\n",
    "        x,c=q.popleft()\n",
    "        if x==v2:\n",
    "            return c#count값을 return\n",
    "        for i in array[x]:\n",
    "            if not visited[i]:\n",
    "                visited[i]=True\n",
    "                q.append((i,c+1))#count+1\n",
    "    return -1\n",
    "\n",
    "                \n",
    "\n",
    "n = int(input())\n",
    "x1,x2=map(int, input().split())\n",
    "m=int(input())\n",
    "array=[[]*(n+1) for _ in range(n+1)]\n",
    "for _ in range(m):\n",
    "    x,y=map(int, input().split())\n",
    "    array[x].append(y)\n",
    "    array[y].append(x)\n",
    "\n",
    "visited=[False]*(n+1)\n",
    "print(bfs(x1,x2))\n"
   ]
  },
  {
   "cell_type": "code",
   "execution_count": null,
   "metadata": {},
   "outputs": [],
   "source": []
  }
 ],
 "metadata": {
  "kernelspec": {
   "display_name": "Python 3",
   "language": "python",
   "name": "python3"
  },
  "language_info": {
   "codemirror_mode": {
    "name": "ipython",
    "version": 3
   },
   "file_extension": ".py",
   "mimetype": "text/x-python",
   "name": "python",
   "nbconvert_exporter": "python",
   "pygments_lexer": "ipython3",
   "version": "3.8.5"
  }
 },
 "nbformat": 4,
 "nbformat_minor": 4
}
