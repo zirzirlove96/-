{
 "cells": [
  {
   "cell_type": "code",
   "execution_count": 1,
   "metadata": {},
   "outputs": [
    {
     "name": "stdout",
     "output_type": "stream",
     "text": [
      "7\n",
      "1 6\n",
      "6 3\n",
      "3 5\n",
      "4 1\n",
      "2 4\n",
      "4 7\n",
      "4\n",
      "6\n",
      "1\n",
      "3\n",
      "1\n",
      "4\n"
     ]
    }
   ],
   "source": [
    "n=int(input())\n",
    "array=[[]*(n+1) for _ in range(n+1)]\n",
    "\n",
    "for _ in range(n-1):\n",
    "    a,b=map(int, input().split())\n",
    "    array[a].append(b)\n",
    "    array[b].append(a)\n",
    "\n",
    "q=[1]\n",
    "ans={}\n",
    "visited=[False]*(n+1)\n",
    "\n",
    "while q:\n",
    "    parent=q.pop(0)\n",
    "    for i in array[parent]:\n",
    "        if not visited[i]:\n",
    "            ans[i]=parent#각 i값의 부모값을 저장해 준다.\n",
    "            q.append(i)\n",
    "            visited[i]=True\n",
    "\n",
    "\n",
    "for i in range(2,n+1):\n",
    "    print(ans[i])\n"
   ]
  },
  {
   "cell_type": "code",
   "execution_count": null,
   "metadata": {},
   "outputs": [],
   "source": []
  }
 ],
 "metadata": {
  "kernelspec": {
   "display_name": "Python 3",
   "language": "python",
   "name": "python3"
  },
  "language_info": {
   "codemirror_mode": {
    "name": "ipython",
    "version": 3
   },
   "file_extension": ".py",
   "mimetype": "text/x-python",
   "name": "python",
   "nbconvert_exporter": "python",
   "pygments_lexer": "ipython3",
   "version": "3.8.3"
  }
 },
 "nbformat": 4,
 "nbformat_minor": 4
}
