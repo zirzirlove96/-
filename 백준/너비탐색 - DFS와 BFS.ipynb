{
 "cells": [
  {
   "cell_type": "code",
   "execution_count": null,
   "metadata": {},
   "outputs": [],
   "source": [
    "from collections import deque\n",
    "\n",
    "\n",
    "def dfs(v):\n",
    "    visited[v]=True\n",
    "    print(v,end=' ')\n",
    "    for i in array[v]:\n",
    "        if not visited[i]:\n",
    "            dfs(i)\n",
    "\n",
    "def bfs(v):\n",
    "    q=deque()\n",
    "    q.append(v)\n",
    "    visited[v]=True\n",
    "    while q:\n",
    "        p=q.popleft()\n",
    "        print(p,end=' ')   \n",
    "        for i in array[p]:\n",
    "            if not visited[i]:\n",
    "                q.append(i)\n",
    "                visited[i]=True\n",
    "\n",
    "n,m,v=map(int, input().split())\n",
    "array=[[] for _ in range(n+1)]\n",
    "for _ in range(m):\n",
    "    x,y=map(int, input().split())\n",
    "    array[x].append(y)\n",
    "    array[y].append(x) #양방향이다.\n",
    "\n",
    "    \n",
    "for e in array:\n",
    "    e.sort()\n",
    "\n",
    "\n",
    "visited=[False]*(n+1)\n",
    "dfs(v)\n",
    "\n",
    "print()\n",
    "\n",
    "\n",
    "visited=[False]*(n+1)\n",
    "bfs(v)\n"
   ]
  },
  {
   "cell_type": "code",
   "execution_count": null,
   "metadata": {},
   "outputs": [],
   "source": []
  }
 ],
 "metadata": {
  "kernelspec": {
   "display_name": "Python 3",
   "language": "python",
   "name": "python3"
  },
  "language_info": {
   "codemirror_mode": {
    "name": "ipython",
    "version": 3
   },
   "file_extension": ".py",
   "mimetype": "text/x-python",
   "name": "python",
   "nbconvert_exporter": "python",
   "pygments_lexer": "ipython3",
   "version": "3.8.5"
  }
 },
 "nbformat": 4,
 "nbformat_minor": 4
}
