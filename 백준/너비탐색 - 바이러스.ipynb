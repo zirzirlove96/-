{
 "cells": [
  {
   "cell_type": "code",
   "execution_count": 1,
   "metadata": {},
   "outputs": [
    {
     "name": "stdout",
     "output_type": "stream",
     "text": [
      "7\n",
      "6\n",
      "1 2\n",
      "2 3\n",
      "1 5\n",
      "5 2\n",
      "5 6\n",
      "4 7\n",
      "4\n"
     ]
    }
   ],
   "source": [
    "from collections import deque\n",
    "\n",
    "def bfs(v):\n",
    "    q=deque()\n",
    "    q.append(v)\n",
    "    count=0\n",
    "\n",
    "    while q:\n",
    "        p = q.popleft()\n",
    "        visited[p]=True\n",
    "        count+=1\n",
    "        for i in array[p]:\n",
    "            if not visited[i]:\n",
    "                q.append(i)\n",
    "                visited[i]=True\n",
    "\n",
    "    return count\n",
    "\n",
    "\n",
    "n=int(input())\n",
    "c=int(input())\n",
    "array=[[]*(n+1) for _ in range(n+1)]\n",
    "visited=[False]*(n+1)\n",
    "\n",
    "for _ in range(c):\n",
    "    x,y=map(int,input().split())\n",
    "    array[x].append(y)\n",
    "    array[y].append(x)\n",
    "\n",
    "\n",
    "print(bfs(1)-1)\n"
   ]
  },
  {
   "cell_type": "markdown",
   "metadata": {},
   "source": [
    "<pre>\n",
    "bfs를 해주고, count를 집어넣어 연결된 것들을 count+=1해준다.\n",
    "마지막에 bfs(1)-1하는 이유는 시작점까지 새었으므로 1을 빼준 나머지 갯수를 구한다.\n",
    "</pre>"
   ]
  },
  {
   "cell_type": "code",
   "execution_count": null,
   "metadata": {},
   "outputs": [],
   "source": []
  }
 ],
 "metadata": {
  "kernelspec": {
   "display_name": "Python 3",
   "language": "python",
   "name": "python3"
  },
  "language_info": {
   "codemirror_mode": {
    "name": "ipython",
    "version": 3
   },
   "file_extension": ".py",
   "mimetype": "text/x-python",
   "name": "python",
   "nbconvert_exporter": "python",
   "pygments_lexer": "ipython3",
   "version": "3.8.5"
  }
 },
 "nbformat": 4,
 "nbformat_minor": 4
}
