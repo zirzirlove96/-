{
 "cells": [
  {
   "cell_type": "code",
   "execution_count": 1,
   "metadata": {},
   "outputs": [
    {
     "name": "stdout",
     "output_type": "stream",
     "text": [
      "ACAYKP\n",
      "CAPCAK\n",
      "4\n"
     ]
    }
   ],
   "source": [
    "a=input()\n",
    "b=input()\n",
    "    \n",
    "s1=[i for i in a]#ACAYKP\n",
    "s2=[j for j in b]#CAPCAK\n",
    "\n",
    "dp=[[0]*(len(s1)+1) for _ in range(len(s2)+1)]\n",
    "\n",
    "for i in range(1,len(s1)+1):\n",
    "    for j in range(1,len(s2)+1):\n",
    "        if s1[i-1]==s2[j-1]:\n",
    "            dp[i][j]=dp[i-1][j]+1\n",
    "        else:\n",
    "            dp[i][j]=max(dp[i-1][j],dp[i][j-1])\n",
    "        \n",
    "\n",
    "print(dp[len(s1)][len(s2)])"
   ]
  },
  {
   "cell_type": "markdown",
   "metadata": {},
   "source": [
    "<pre>\n",
    "런타임에러\n",
    "문자가 같은 경우 구하려는 배열의 위값에 +1을 하는 것이 아닌 대각선상에 있는 배열 값에 +1을 해야 한다.\n",
    "</pre>"
   ]
  },
  {
   "cell_type": "code",
   "execution_count": 3,
   "metadata": {},
   "outputs": [
    {
     "name": "stdout",
     "output_type": "stream",
     "text": [
      "ACAYKP\n",
      "CAPCAK\n",
      "4\n"
     ]
    }
   ],
   "source": [
    "\n",
    "a=input()\n",
    "b=input()\n",
    "    \n",
    "s1=[i for i in a]#ACAYKP\n",
    "s2=[j for j in b]#CAPCAK\n",
    "\n",
    "dp=[[0]*(len(s2)+1) for _ in range(len(s1)+1)]\n",
    "\n",
    "for i in range(1,len(s1)+1):\n",
    "    for j in range(1,len(s2)+1):\n",
    "        if s1[i-1]==s2[j-1]:\n",
    "            dp[i][j]=dp[i-1][j-1]+1 #대각선의 배열의 값에 +1\n",
    "        else:\n",
    "            dp[i][j]=max(dp[i-1][j],dp[i][j-1])\n",
    "        \n",
    "\n",
    "print(dp[len(s1)][len(s2)])\n"
   ]
  },
  {
   "cell_type": "code",
   "execution_count": null,
   "metadata": {},
   "outputs": [],
   "source": []
  }
 ],
 "metadata": {
  "kernelspec": {
   "display_name": "Python 3",
   "language": "python",
   "name": "python3"
  },
  "language_info": {
   "codemirror_mode": {
    "name": "ipython",
    "version": 3
   },
   "file_extension": ".py",
   "mimetype": "text/x-python",
   "name": "python",
   "nbconvert_exporter": "python",
   "pygments_lexer": "ipython3",
   "version": "3.8.5"
  }
 },
 "nbformat": 4,
 "nbformat_minor": 4
}
