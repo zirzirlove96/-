{
 "cells": [
  {
   "cell_type": "code",
   "execution_count": 1,
   "metadata": {},
   "outputs": [
    {
     "name": "stdout",
     "output_type": "stream",
     "text": [
      "3\n",
      "2\n"
     ]
    }
   ],
   "source": [
    "n=int(input())\n",
    "\n",
    "dp=[[0]*2 for _ in range(n+1)]\n",
    "\n",
    "dp[1][0]=0\n",
    "dp[1][1]=1\n",
    "\n",
    "for i in range(2,n+1):\n",
    "    for j in range(0,2):\n",
    "        if j==0:\n",
    "            dp[i][j]=dp[i-1][j]+dp[i-1][j+1]\n",
    "        elif j==1:\n",
    "            dp[i][j]=dp[i-1][j-1]\n",
    "\n",
    "print(sum(dp[n]))\n"
   ]
  },
  {
   "cell_type": "markdown",
   "metadata": {},
   "source": [
    "<pre>\n",
    "마지막자리의 수가 0,1로 구분하여 개수를 세어보면 규칙이 이렇게 나온다.\n",
    "</pre>"
   ]
  },
  {
   "cell_type": "code",
   "execution_count": null,
   "metadata": {},
   "outputs": [],
   "source": []
  }
 ],
 "metadata": {
  "kernelspec": {
   "display_name": "Python 3",
   "language": "python",
   "name": "python3"
  },
  "language_info": {
   "codemirror_mode": {
    "name": "ipython",
    "version": 3
   },
   "file_extension": ".py",
   "mimetype": "text/x-python",
   "name": "python",
   "nbconvert_exporter": "python",
   "pygments_lexer": "ipython3",
   "version": "3.8.5"
  }
 },
 "nbformat": 4,
 "nbformat_minor": 4
}
