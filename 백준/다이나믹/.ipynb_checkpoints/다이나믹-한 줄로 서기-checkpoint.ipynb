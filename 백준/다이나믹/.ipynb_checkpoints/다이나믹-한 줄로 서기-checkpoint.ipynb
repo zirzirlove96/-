{
 "cells": [
  {
   "cell_type": "code",
   "execution_count": null,
   "metadata": {},
   "outputs": [],
   "source": [
    "\n",
    "n=int(input())\n",
    "\n",
    "array=list(map(int, input().split()))\n",
    "\n",
    "answer=[[index+1,value] for index, value in enumerate(array)]   \n",
    "\n",
    "answer=sorted(answer, key=lambda x:x[1])\n",
    "\n",
    "\n"
   ]
  }
 ],
 "metadata": {
  "kernelspec": {
   "display_name": "Python 3",
   "language": "python",
   "name": "python3"
  },
  "language_info": {
   "codemirror_mode": {
    "name": "ipython",
    "version": 3
   },
   "file_extension": ".py",
   "mimetype": "text/x-python",
   "name": "python",
   "nbconvert_exporter": "python",
   "pygments_lexer": "ipython3",
   "version": "3.8.5"
  }
 },
 "nbformat": 4,
 "nbformat_minor": 4
}
