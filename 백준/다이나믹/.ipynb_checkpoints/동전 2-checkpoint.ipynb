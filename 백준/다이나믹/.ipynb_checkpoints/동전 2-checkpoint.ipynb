{
 "cells": [
  {
   "cell_type": "code",
   "execution_count": 1,
   "metadata": {},
   "outputs": [
    {
     "name": "stdout",
     "output_type": "stream",
     "text": [
      "3 15\n",
      "1\n",
      "5\n",
      "12\n",
      "3\n"
     ]
    }
   ],
   "source": [
    "n,k=map(int, input().split())\n",
    "\n",
    "coin = []\n",
    "for _ in range(n):\n",
    "    coin.append(int(input()))\n",
    "\n",
    "array=[0]*(k+1)\n",
    "\n",
    "\n",
    "for i in range(1,k+1):\n",
    "    if i%coin[0]!=0:\n",
    "        array[i]=0\n",
    "    else:\n",
    "        array[i]=array[i-coin[0]]+1\n",
    "\n",
    "for i in range(1,len(coin)):\n",
    "    for j in range(1,k+1):\n",
    "        if j-coin[i]<0:\n",
    "            array[j]=array[j]\n",
    "        else:\n",
    "            array[j]=min(1+array[j-coin[i]],array[j])\n",
    "\n",
    "if array[k]!=0:\n",
    "    print(array[k])\n",
    "else:\n",
    "    print(-1)\n"
   ]
  },
  {
   "cell_type": "markdown",
   "metadata": {},
   "source": [
    "<pre>\n",
    "테스트 케이스는 맞게 나오나, 다른 과정의 테스트에서 틀린다고 나온다.\n",
    "dp 배열에서 꼭 0으로 지정해주는 것이 아닌 10001로 지정하여 10001과 dp[j-coin[i]]+1의 값 중 작은 것을 골라 \n",
    "최소값을 만들어 출력해도 된다.\n",
    "</pre>"
   ]
  },
  {
   "cell_type": "code",
   "execution_count": 2,
   "metadata": {},
   "outputs": [
    {
     "name": "stdout",
     "output_type": "stream",
     "text": [
      "2 15\n",
      "2\n",
      "4\n",
      "불가능하다.! -1\n"
     ]
    }
   ],
   "source": [
    "n,k=map(int, input().split())\n",
    "\n",
    "coin = []\n",
    "for _ in range(n):\n",
    "    coin.append(int(input()))\n",
    "\n",
    "array=[10001]*(k+1)\n",
    "array[0]=0\n",
    "#꼭 0번째는 0으로 지\n",
    "\n",
    "for i in range(len(coin)):\n",
    "    for j in range(coin[i],k+1):\n",
    "        #10001과 array[j-coin[i]]+1 중 작은 값을 넣는다.\n",
    "        if array[j]>array[j-coin[i]]+1:\n",
    "            array[j]=array[j-coin[i]]+1\n",
    "\n",
    "#10001이면 동전의 합이 안된다는 뜻\n",
    "if array[k]!=10001:\n",
    "    print(\"최소값 :\",array[k])\n",
    "else:\n",
    "    print(\"불가능하다.!\",-1)\n"
   ]
  },
  {
   "cell_type": "code",
   "execution_count": null,
   "metadata": {},
   "outputs": [],
   "source": []
  }
 ],
 "metadata": {
  "kernelspec": {
   "display_name": "Python 3",
   "language": "python",
   "name": "python3"
  },
  "language_info": {
   "codemirror_mode": {
    "name": "ipython",
    "version": 3
   },
   "file_extension": ".py",
   "mimetype": "text/x-python",
   "name": "python",
   "nbconvert_exporter": "python",
   "pygments_lexer": "ipython3",
   "version": "3.8.3"
  }
 },
 "nbformat": 4,
 "nbformat_minor": 4
}
