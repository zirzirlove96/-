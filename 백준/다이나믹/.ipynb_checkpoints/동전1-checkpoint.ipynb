{
 "cells": [
  {
   "cell_type": "code",
   "execution_count": 5,
   "metadata": {},
   "outputs": [
    {
     "name": "stdout",
     "output_type": "stream",
     "text": [
      "3 10\n",
      "1\n",
      "2\n",
      "5\n",
      "1 1 1 1 1 1 1 1 1 1 \n",
      "1 2 2 3 3 4 4 5 5 6 \n",
      "1 2 2 3 4 5 6 7 8 10 \n",
      "10\n"
     ]
    }
   ],
   "source": [
    "n,k=map(int, input().split())\n",
    "\n",
    "coin=[]\n",
    "\n",
    "for _ in range(n):\n",
    "    coin.append(int(input()))\n",
    "\n",
    "array=[[1]*(10001) for _ in range(n)]\n",
    "\n",
    "for i in range(1,n):\n",
    "    for j in range(1,k+1):\n",
    "        if j-coin[i]>=0:\n",
    "            array[i][j]=array[i-1][j]+array[i][j-coin[i]]\n",
    "        elif j-coin[i]<0:\n",
    "            array[i][j]=array[i-1][j]\n",
    "\n",
    "for i in range(n):\n",
    "    for j in range(1,k+1):\n",
    "        print(array[i][j],end=' ')\n",
    "    print()\n",
    "print(array[n-1][k])\n"
   ]
  },
  {
   "cell_type": "markdown",
   "metadata": {},
   "source": [
    "<pre>\n",
    "정답은 나오지만 <strong>메모리 초과</strong>가 나온다.\n",
    "그 이유는 아마도 배열의 10001*101 크기 때문인 것 같으므로 배열의 크기를 줄이기 위해 2차원 배열이 아닌\n",
    "1차원 배열로 만들어 준다.\n",
    "</pre>"
   ]
  },
  {
   "cell_type": "code",
   "execution_count": 7,
   "metadata": {},
   "outputs": [
    {
     "name": "stdout",
     "output_type": "stream",
     "text": [
      "3 10\n",
      "1\n",
      "2\n",
      "5\n",
      "[1, 1, 2, 2, 3, 4, 5, 6, 7, 8, 10]\n",
      "10\n"
     ]
    }
   ],
   "source": [
    "n,k=map(int, input().split())\n",
    "\n",
    "coin=[]\n",
    "\n",
    "for _ in range(n):\n",
    "    coin.append(int(input()))\n",
    "\n",
    "array=[0]*(k+1)\n",
    "#1차원 배열로 \n",
    "array[0]=1\n",
    "#첫번째 값은 기본적으로 1로 준다.\n",
    "for i in coin:\n",
    "    for j in range(i,k+1):\n",
    "        #coint 1,2,5의 순서대로\n",
    "        #j=1~10까지를 계산해 준다.\n",
    "        #이차원 배열이 아니여도 coin에 따라 값을 더하므로 최종값이 나올 수 있다.\n",
    "        array[j]+=array[j-i]\n",
    "\n",
    "print(array)\n",
    "print(array[k])\n"
   ]
  },
  {
   "cell_type": "markdown",
   "metadata": {},
   "source": [
    "<pre>\n",
    "이렇게 일차원 배열로 하여 값을 새롭게 갱신하면서 값을 구하는 방법도 있다.\n",
    "</pre>"
   ]
  },
  {
   "cell_type": "code",
   "execution_count": null,
   "metadata": {},
   "outputs": [],
   "source": []
  }
 ],
 "metadata": {
  "kernelspec": {
   "display_name": "Python 3",
   "language": "python",
   "name": "python3"
  },
  "language_info": {
   "codemirror_mode": {
    "name": "ipython",
    "version": 3
   },
   "file_extension": ".py",
   "mimetype": "text/x-python",
   "name": "python",
   "nbconvert_exporter": "python",
   "pygments_lexer": "ipython3",
   "version": "3.8.5"
  }
 },
 "nbformat": 4,
 "nbformat_minor": 4
}
