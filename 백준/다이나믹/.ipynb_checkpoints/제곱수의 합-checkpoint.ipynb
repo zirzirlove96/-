{
 "cells": [
  {
   "cell_type": "code",
   "execution_count": 1,
   "metadata": {},
   "outputs": [
    {
     "name": "stdout",
     "output_type": "stream",
     "text": [
      "7\n",
      "최솟값은 : \n",
      "4\n"
     ]
    }
   ],
   "source": [
    "n=int(input())\n",
    "sqrt_num=int(n**0.5)\n",
    "\n",
    "number=[]\n",
    "\n",
    "for i in range(1,sqrt_num+1):\n",
    "    number.append(i**2)\n",
    "\n",
    "dp=[[1]*(n+1) for _ in range(len(number))]\n",
    "\n",
    "for i in range(1,n+1):\n",
    "    dp[0][i]=i\n",
    "    \n",
    "for i in range(1,len(number)):\n",
    "    for j in range(1,n+1):\n",
    "        if j-number[i]<0:\n",
    "            dp[i][j]=j\n",
    "        elif j==number[i]:\n",
    "            dp[i][j]=min(dp[i][j],dp[i-1][j])\n",
    "        elif j-number[i]>0:\n",
    "            dp[i][j]=min(dp[i-1][j],dp[i][j]+dp[i][j-number[i]])\n",
    "\n",
    "print(\"최솟값은 : \")\n",
    "print(dp[len(number)-1][n])"
   ]
  },
  {
   "cell_type": "markdown",
   "metadata": {},
   "source": [
    "<pre>\n",
    "정답은 맞지만 메모리 초과 때문에 수행이 안된다.\n",
    "배열의 크기가 10001*number개 이기 때문에 메모리 초과가 나타난다.\n",
    "따라서 배열을 1차원 배열로 축소 시켜줘야 한다.\n",
    "</pre>"
   ]
  },
  {
   "cell_type": "code",
   "execution_count": 3,
   "metadata": {},
   "outputs": [
    {
     "name": "stdout",
     "output_type": "stream",
     "text": [
      "7\n",
      "최솟값은 : \n",
      "4\n"
     ]
    }
   ],
   "source": [
    "n=int(input())\n",
    "sqrt_num=int(n**0.5)\n",
    "\n",
    "number=[]\n",
    "\n",
    "for i in range(1,sqrt_num+1):\n",
    "    number.append(i**2)\n",
    "\n",
    "dp=[1]*(n+1)\n",
    "\n",
    "for i in range(1,n+1):\n",
    "    dp[i]=i\n",
    "    \n",
    "for i in range(1,len(number)):\n",
    "    for j in range(1,n+1):\n",
    "        if j==number[i]:\n",
    "            dp[j]=min(1,dp[j-1])\n",
    "        elif j-number[i]>0:\n",
    "            dp[j]=min(dp[j],dp[j-number[i]]+1)\n",
    "\n",
    "print(\"최솟값은 : \")\n",
    "print(dp[n])"
   ]
  },
  {
   "cell_type": "markdown",
   "metadata": {},
   "source": [
    "<pre>\n",
    "일차원 배열로 변경하고, pypy3로 검사를 받으면 빠르게 수행된다.\n",
    "</pre>"
   ]
  },
  {
   "cell_type": "code",
   "execution_count": null,
   "metadata": {},
   "outputs": [],
   "source": []
  }
 ],
 "metadata": {
  "kernelspec": {
   "display_name": "Python 3",
   "language": "python",
   "name": "python3"
  },
  "language_info": {
   "codemirror_mode": {
    "name": "ipython",
    "version": 3
   },
   "file_extension": ".py",
   "mimetype": "text/x-python",
   "name": "python",
   "nbconvert_exporter": "python",
   "pygments_lexer": "ipython3",
   "version": "3.8.5"
  }
 },
 "nbformat": 4,
 "nbformat_minor": 4
}
