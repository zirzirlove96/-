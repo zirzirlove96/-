{
 "cells": [
  {
   "cell_type": "code",
   "execution_count": 1,
   "metadata": {},
   "outputs": [
    {
     "name": "stdout",
     "output_type": "stream",
     "text": [
      "4\n",
      "1 5 6 7\n",
      "최댓값: \n",
      "10\n"
     ]
    }
   ],
   "source": [
    "n=int(input())\n",
    "price=[0]+list(map(int, input().split()))\n",
    "dp=[0]*(n+1)\n",
    "dp[1]=price[1]\n",
    "for i in range(2,n+1):\n",
    "    for j in range(1,i+1):\n",
    "        if dp[i]<dp[i-j]+price[j]:\n",
    "            dp[i]=dp[i-j]+price[j]\n",
    "            #dp[2]=dp[1]+p[1] or dp[0]+p[2] 이런식으로 해야 한다.\n",
    "print(\"최댓값: \")\n",
    "print(dp[n])"
   ]
  },
  {
   "cell_type": "markdown",
   "metadata": {},
   "source": [
    "<pre>\n",
    "명심해 두자! dp는 메모이제이션을 이용하여 값을 저장하는 것이다! 중복값이 나올 수 있으므로!\n",
    "재귀함수를 사용하면 메모리 초과 혹은 시간 초과가 나올 수도 있다!\n",
    "dp[i]=dp[i-1]+dp[i]\n",
    "or \n",
    "dp[i]=dp[i-j]+p[j]\n",
    "</pre>"
   ]
  },
  {
   "cell_type": "code",
   "execution_count": null,
   "metadata": {},
   "outputs": [],
   "source": []
  }
 ],
 "metadata": {
  "kernelspec": {
   "display_name": "Python 3",
   "language": "python",
   "name": "python3"
  },
  "language_info": {
   "codemirror_mode": {
    "name": "ipython",
    "version": 3
   },
   "file_extension": ".py",
   "mimetype": "text/x-python",
   "name": "python",
   "nbconvert_exporter": "python",
   "pygments_lexer": "ipython3",
   "version": "3.8.3"
  }
 },
 "nbformat": 4,
 "nbformat_minor": 4
}
