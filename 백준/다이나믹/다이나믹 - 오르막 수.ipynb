{
 "cells": [
  {
   "cell_type": "code",
   "execution_count": 2,
   "metadata": {},
   "outputs": [
    {
     "name": "stdout",
     "output_type": "stream",
     "text": [
      "3\n",
      "220\n"
     ]
    }
   ],
   "source": [
    "n=int(input())\n",
    "\n",
    "count=0\n",
    "for i in range(1,10**n):\n",
    "    j=str(i)\n",
    "    for k in range(len(j)-1):\n",
    "        if j[k]>j[k+1]:\n",
    "            count+=1\n",
    "            break\n",
    "        \n",
    "print(10**n-count)\n"
   ]
  },
  {
   "cell_type": "markdown",
   "metadata": {},
   "source": [
    "<pre>\n",
    "답은 나오지만, 시간초과가 걸린다.\n",
    "</pre>"
   ]
  },
  {
   "cell_type": "code",
   "execution_count": null,
   "metadata": {},
   "outputs": [],
   "source": []
  }
 ],
 "metadata": {
  "kernelspec": {
   "display_name": "Python 3",
   "language": "python",
   "name": "python3"
  },
  "language_info": {
   "codemirror_mode": {
    "name": "ipython",
    "version": 3
   },
   "file_extension": ".py",
   "mimetype": "text/x-python",
   "name": "python",
   "nbconvert_exporter": "python",
   "pygments_lexer": "ipython3",
   "version": "3.8.5"
  }
 },
 "nbformat": 4,
 "nbformat_minor": 4
}
