{
 "cells": [
  {
   "cell_type": "code",
   "execution_count": 1,
   "metadata": {},
   "outputs": [
    {
     "name": "stdout",
     "output_type": "stream",
     "text": [
      "[[1, 1, 1, 1, 1, 1, 1, 1, 1, 1], [1, 2, 2, 2, 2, 2, 2, 2, 2, 1], [1, 3, 4, 4, 4, 4, 4, 4, 3, 2]]\n",
      "32\n"
     ]
    }
   ],
   "source": [
    "\n",
    "n=3\n",
    "dp=[[1]*10 for _ in range(n)]\n",
    "\n",
    "s=0\n",
    "\n",
    "for i in range(10):\n",
    "        dp[0][i]=1\n",
    "\n",
    "for i in range(1,n):\n",
    "    for j in range(1,10):\n",
    "        if j==9:\n",
    "            dp[i][j]=dp[i-1][j-1]\n",
    "        elif j==1:\n",
    "            dp[i][j]=dp[i-2][j]+dp[i-1][j+1]\n",
    "        else:\n",
    "            dp[i][j]=dp[i-1][j-1]+dp[i-1][j+1]\n",
    "\n",
    "print(dp)\n",
    "for i in range(1,10):\n",
    "    s+=dp[n-1][i]\n",
    "print(s%10**9)\n",
    "\n",
    "    \n"
   ]
  },
  {
   "cell_type": "markdown",
   "metadata": {},
   "source": [
    "<pre>\n",
    "1~9까지 앞의 숫자를 n의 숫자의 개수를 구한다.\n",
    "n이 1보다 클 때 예를 들어 3자리의 숫자 중 앞의 숫자가 1인 경우 101,123,121 인 경우는 십의 자리가 0과 2로 이루어진 관계로\n",
    "dp[i-2][j]+dp[i-1][j+1] 즉 1자리 숫자중 1, 2자리 숫자중 첫번째 자리가 2로 이루어진 숫자들의 합산이다.\n",
    "또한 앞의 자리 숫자가 2인 경우 212, 232, 210, 234 이다.\n",
    "이 경우 십의 자리가 1,3이므로 dp[i-1][j-1]+dp[i-1][j+1]로 나타내었다.\n",
    "<strong>이 문제의 경우 '자리수에 대한 총 개수를 구하는 것이 포인트이다.'</strong>\n",
    "</pre>"
   ]
  },
  {
   "cell_type": "code",
   "execution_count": null,
   "metadata": {},
   "outputs": [],
   "source": []
  }
 ],
 "metadata": {
  "kernelspec": {
   "display_name": "Python 3",
   "language": "python",
   "name": "python3"
  },
  "language_info": {
   "codemirror_mode": {
    "name": "ipython",
    "version": 3
   },
   "file_extension": ".py",
   "mimetype": "text/x-python",
   "name": "python",
   "nbconvert_exporter": "python",
   "pygments_lexer": "ipython3",
   "version": "3.8.5"
  }
 },
 "nbformat": 4,
 "nbformat_minor": 4
}
