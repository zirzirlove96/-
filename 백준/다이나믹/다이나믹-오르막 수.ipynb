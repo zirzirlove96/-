{
 "cells": [
  {
   "cell_type": "code",
   "execution_count": 2,
   "metadata": {},
   "outputs": [
    {
     "name": "stdout",
     "output_type": "stream",
     "text": [
      "3\n",
      "220\n"
     ]
    }
   ],
   "source": [
    "n=int(input())\n",
    "\n",
    "count=0\n",
    "for i in range(1,10**n):\n",
    "    j=str(i)\n",
    "    for k in range(len(j)-1):\n",
    "        if j[k]>j[k+1]:\n",
    "            count+=1\n",
    "            break\n",
    "        \n",
    "print(10**n-count)\n"
   ]
  },
  {
   "cell_type": "markdown",
   "metadata": {},
   "source": [
    "<pre>\n",
    "답은 나오지만, 시간초과가 걸린다.\n",
    "</pre>"
   ]
  },
  {
   "cell_type": "code",
   "execution_count": 1,
   "metadata": {},
   "outputs": [
    {
     "name": "stdout",
     "output_type": "stream",
     "text": [
      "2\n",
      "55\n"
     ]
    }
   ],
   "source": [
    "n=int(input())\n",
    "s=[[0]*10 for _ in range(1001)]\n",
    "s[0]=[1 for _ in range(10)]\n",
    "\n",
    "for i in range(1,n):\n",
    "    sum=0\n",
    "    for j in range(10):\n",
    "        for k in range(j+1):\n",
    "            s[i][j]+=s[i-1][k]\n",
    "            sum+=s[i-1][k]\n",
    "\n",
    "\n",
    "if n==1:\n",
    "    print(10)\n",
    "else:\n",
    "    print(sum%10007)\n"
   ]
  },
  {
   "cell_type": "markdown",
   "metadata": {},
   "source": [
    "<pre>\n",
    "다이나믹 프로그래밍으로 1자리는 모두 1개로 합산하면 10개\n",
    "2자리는 9+....+1로 55이다.\n",
    "표의 형식으로 자리수에 따라 마지막 수에 따른 오름차순의 개수를 구해주면 된다.\n",
    "</pre>"
   ]
  },
  {
   "cell_type": "code",
   "execution_count": null,
   "metadata": {},
   "outputs": [],
   "source": []
  }
 ],
 "metadata": {
  "kernelspec": {
   "display_name": "Python 3",
   "language": "python",
   "name": "python3"
  },
  "language_info": {
   "codemirror_mode": {
    "name": "ipython",
    "version": 3
   },
   "file_extension": ".py",
   "mimetype": "text/x-python",
   "name": "python",
   "nbconvert_exporter": "python",
   "pygments_lexer": "ipython3",
   "version": "3.8.5"
  }
 },
 "nbformat": 4,
 "nbformat_minor": 4
}
