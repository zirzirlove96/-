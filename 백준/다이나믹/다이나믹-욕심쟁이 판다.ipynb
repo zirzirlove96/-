{
 "cells": [
  {
   "cell_type": "code",
   "execution_count": 2,
   "metadata": {},
   "outputs": [
    {
     "name": "stdout",
     "output_type": "stream",
     "text": [
      "4\n",
      "14 9 12 10\n",
      "1 11 5 4\n",
      "7 15 2 13\n",
      "6 3 16 8\n",
      "4\n"
     ]
    }
   ],
   "source": [
    "from collections import deque\n",
    "#import sys\n",
    "#sys.setrecursionlimit(10**6)\n",
    "\n",
    "dirX=[0,0,-1,1]\n",
    "dirY=[1,-1,0,0]\n",
    "min_direction=[]\n",
    "\n",
    "\n",
    "\n",
    "def bfs(x,y):\n",
    "    q=deque()\n",
    "    q.append([x,y])\n",
    "    count=1\n",
    "\n",
    "    while q:\n",
    "        cx,cy=q.popleft()\n",
    "        visited[cx][cy]=True\n",
    "        for i in range(4):\n",
    "            dx = cx+dirX[i]\n",
    "            dy = cy+dirX[i]\n",
    "            if 0<=dx<n and 0<=dy<n:\n",
    "                if array[cx][cy]<=array[dx][dy] and not visited[dx][dy]:\n",
    "                    count+=1\n",
    "                    visited[dx][dy]=True\n",
    "                    q.append([dx,dy])\n",
    "    min_direction.append(count)\n",
    "\n",
    "\n",
    "\n",
    "n = int(input())\n",
    "array=[list(map(int, input().split())) for _ in range(n)]\n",
    "for i in range(n):\n",
    "    for j in range(n):\n",
    "        visited=[[False]*n for _ in range(n)]\n",
    "        bfs(i,j)\n",
    "print(max(min_direction))\n"
   ]
  },
  {
   "cell_type": "markdown",
   "metadata": {},
   "source": [
    "<pre>\n",
    "답은 맞지만, 시간초과가 걸린다.\n",
    "아무래도 다이나믹 프로그래밍, 즉 memoization을 사용하여 값을 표현하는 게 맞는 것 같다.\n",
    "<strong>또한 많은 사람들의 코드를 보면 bfs대신에 dfs를 사용하여 중복되지 않게 memoization을 사용함.</strong>\n",
    "</pre>"
   ]
  },
  {
   "cell_type": "code",
   "execution_count": 5,
   "metadata": {},
   "outputs": [
    {
     "name": "stdout",
     "output_type": "stream",
     "text": [
      "4\n",
      "14 9 12 10\n",
      "1 11 5 4\n",
      "7 15 2 13\n",
      "6 3 16 8\n",
      "4\n"
     ]
    }
   ],
   "source": [
    "#import sys\n",
    "#sys.setrecursionlimit(10**6)\n",
    "\n",
    "dirX=[0,0,-1,1]\n",
    "dirY=[1,-1,0,0]\n",
    "\n",
    "\n",
    "def dfs(x,y):\n",
    "    cx,cy=x,y\n",
    "    if visited[cx][cy]: #탐색 완료 memoization\n",
    "        return visited[cx][cy]\n",
    "    visited[cx][cy]=1\n",
    "    for i in range(4):\n",
    "        dx=cx+dirX[i]\n",
    "        dy=cy+dirY[i]\n",
    "        if 0<=dx<n and 0<=dy<n and array[cx][cy]<array[dx][dy]:\n",
    "            visited[cx][cy]=max(visited[cx][cy],dfs(dx,dy)+1)\n",
    "            #가장 오래 살아남은 값에 +1씩 저장하여 상하좌우 움직인다.\n",
    "    return visited[cx][cy]\n",
    "\n",
    "\n",
    "n = int(input())\n",
    "array=[list(map(int, input().split())) for _ in range(n)]\n",
    "visited=[[0]*(n) for _ in range(n)]\n",
    "result=0\n",
    "\n",
    "for i in range(n):\n",
    "    for j in range(n):\n",
    "        result = max(result,dfs(i,j))\n",
    "\n",
    "print(result)\n"
   ]
  },
  {
   "cell_type": "code",
   "execution_count": null,
   "metadata": {},
   "outputs": [],
   "source": []
  }
 ],
 "metadata": {
  "kernelspec": {
   "display_name": "Python 3",
   "language": "python",
   "name": "python3"
  },
  "language_info": {
   "codemirror_mode": {
    "name": "ipython",
    "version": 3
   },
   "file_extension": ".py",
   "mimetype": "text/x-python",
   "name": "python",
   "nbconvert_exporter": "python",
   "pygments_lexer": "ipython3",
   "version": "3.8.5"
  }
 },
 "nbformat": 4,
 "nbformat_minor": 4
}
