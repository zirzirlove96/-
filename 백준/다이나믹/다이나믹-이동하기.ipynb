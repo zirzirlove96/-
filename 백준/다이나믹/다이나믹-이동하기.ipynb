{
 "cells": [
  {
   "cell_type": "code",
   "execution_count": 2,
   "metadata": {},
   "outputs": [
    {
     "name": "stdout",
     "output_type": "stream",
     "text": [
      "3 4\n",
      "1 2 3 4\n",
      "0 0 0 5\n",
      "9 8 7 6\n",
      "----------------------------\n",
      "[[0, 0, 0, 0, 0], [0, 0, 0, 0, 0], [0, 0, 0, 0, 0], [0, 0, 0, 0, 0]]\n",
      "[[0, 0, 0, 0, 0], [0, 1, 3, 6, 10], [0, 0, 0, 0, 0], [0, 0, 0, 0, 0]]\n",
      "[[0, 0, 0, 0, 0], [0, 1, 3, 6, 10], [0, 1, 3, 6, 15], [0, 0, 0, 0, 0]]\n",
      "[[0, 0, 0, 0, 0], [0, 1, 3, 6, 10], [0, 1, 3, 6, 15], [0, 10, 18, 25, 31]]\n",
      "31\n"
     ]
    }
   ],
   "source": [
    "n,m=map(int, input().split())\n",
    "\n",
    "array=[list(map(int, input().split())) for _ in range(n)]\n",
    "\n",
    "dp=[[0]*(m+1) for _ in range(n+1)]\n",
    "\n",
    "print(\"----------------------------\")\n",
    "print(dp)\n",
    "\n",
    "for i in range(1,n+1):\n",
    "    for j in range(1,m+1):\n",
    "        dp[i][j]=max(array[i-1][j-1]+dp[i-1][j],array[i-1][j-1]+dp[i][j-1])\n",
    "    print(dp)\n",
    "\n",
    "\n",
    "\n",
    "print(dp[n][m])\n"
   ]
  },
  {
   "cell_type": "markdown",
   "metadata": {},
   "source": [
    "<pre>\n",
    "배열[i-1][j-1]+dp[i-1][j] => dp의 자리의 열값과 배열의 값\n",
    "배열[i-1][j-1]+dp[i][j-1] => dp의 오른쪽 + 배열의 값\n",
    "\n",
    "[0, max(array[0][0]+array[0][1],array[0][0]+dp[0][0])]\n",
    "</pre>"
   ]
  },
  {
   "cell_type": "code",
   "execution_count": null,
   "metadata": {},
   "outputs": [],
   "source": []
  }
 ],
 "metadata": {
  "kernelspec": {
   "display_name": "Python 3",
   "language": "python",
   "name": "python3"
  },
  "language_info": {
   "codemirror_mode": {
    "name": "ipython",
    "version": 3
   },
   "file_extension": ".py",
   "mimetype": "text/x-python",
   "name": "python",
   "nbconvert_exporter": "python",
   "pygments_lexer": "ipython3",
   "version": "3.8.5"
  }
 },
 "nbformat": 4,
 "nbformat_minor": 4
}
