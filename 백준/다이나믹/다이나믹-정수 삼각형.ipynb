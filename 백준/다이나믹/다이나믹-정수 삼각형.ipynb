{
 "cells": [
  {
   "cell_type": "code",
   "execution_count": 2,
   "metadata": {},
   "outputs": [
    {
     "name": "stdout",
     "output_type": "stream",
     "text": [
      "5\n",
      "7\n",
      "3 8\n",
      "8 1 0\n",
      "2 7 4 4\n",
      "4 5 2 6 5\n",
      "30\n"
     ]
    }
   ],
   "source": [
    "n=int(input())\n",
    "\n",
    "array=[list(map(int, input().split())) for _ in range(n)]\n",
    "\n",
    "\n",
    "dp=[[0]*n for _ in range(n)]\n",
    "dp[0][0]=array[0][0]\n",
    "\n",
    "for i in range(1,n):\n",
    "    for j in range(len(array[i])):\n",
    "        if j==0 or j==len(array[i])-1:\n",
    "            dp[i][j]=dp[i-1][j]+array[i][j]\n",
    "        else:\n",
    "            dp[i][j]=max(array[i][j]+dp[i-1][j-1],array[i][j]+dp[i-1][j])\n",
    "\n",
    "print(max(dp[n-1]))\n"
   ]
  },
  {
   "cell_type": "markdown",
   "metadata": {},
   "source": [
    "<pre>\n",
    "다이나믹 프로그래밍의 대표적인 문제로 아래층에 있는 수와 아래층의 왼쪽, 오른쪽 대각선 위의 수를 더하여 제일 큰 값을 나타내는 문제이다.\n",
    "첫 번째의 잘못된 점은 j==0 일 때와 j==i일때 연산식이 다르기 때문이다.\n",
    "</pre>"
   ]
  },
  {
   "cell_type": "code",
   "execution_count": 3,
   "metadata": {},
   "outputs": [
    {
     "name": "stdout",
     "output_type": "stream",
     "text": [
      "5\n",
      "7\n",
      "3 8\n",
      "8 1 0\n",
      "2 7 4 4 \n",
      "4 5 2 6 5\n",
      "30\n"
     ]
    }
   ],
   "source": [
    "n=int(input())\n",
    "\n",
    "a=[list(map(int, input().split())) for _ in range(n)]\n",
    "\n",
    "dp=[[0]*n for _ in range(n)]\n",
    "dp[0][0]=a[0][0] #dp라는 배열을 따로 사용하기 때문에 첫번째 인자를 저장\n",
    "for i in range(1,n):\n",
    "    for j in range(i+1):\n",
    "        if j==0: #0와 j==i일 때 다른 수식이 나타난다.\n",
    "            dp[i][j]=a[i][j]+dp[i-1][j]\n",
    "        elif j==i:\n",
    "            dp[i][j]=a[i][j]+dp[i-1][j-1]\n",
    "        else:\n",
    "            dp[i][j]=max(dp[i-1][j]+a[i][j],dp[i-1][j-1]+a[i][j])\n",
    "print(max(dp[n-1]))\n"
   ]
  },
  {
   "cell_type": "code",
   "execution_count": null,
   "metadata": {},
   "outputs": [],
   "source": []
  }
 ],
 "metadata": {
  "kernelspec": {
   "display_name": "Python 3",
   "language": "python",
   "name": "python3"
  },
  "language_info": {
   "codemirror_mode": {
    "name": "ipython",
    "version": 3
   },
   "file_extension": ".py",
   "mimetype": "text/x-python",
   "name": "python",
   "nbconvert_exporter": "python",
   "pygments_lexer": "ipython3",
   "version": "3.8.5"
  }
 },
 "nbformat": 4,
 "nbformat_minor": 4
}
