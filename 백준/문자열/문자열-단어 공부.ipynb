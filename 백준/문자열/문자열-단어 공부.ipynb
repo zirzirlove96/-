{
 "cells": [
  {
   "cell_type": "code",
   "execution_count": 1,
   "metadata": {},
   "outputs": [
    {
     "name": "stdout",
     "output_type": "stream",
     "text": [
      "baaa\n",
      "A\n"
     ]
    }
   ],
   "source": [
    "n=[s.upper() for s in input()]\n",
    "alphabet = [0]*26\n",
    "\n",
    "\n",
    "for string in n:\n",
    "    alphabet[ord(string)-65]+=1\n",
    "#print(alphabet)\n",
    "\n",
    "m=0\n",
    "char='?'\n",
    "for i in range(len(alphabet)):\n",
    "    if m<alphabet[i]:\n",
    "        m=alphabet[i]\n",
    "        char=chr(i+65).upper()\n",
    "    elif m==alphabet[i]:\n",
    "        char='?';\n",
    "\n",
    "print(char)\n"
   ]
  },
  {
   "cell_type": "code",
   "execution_count": null,
   "metadata": {},
   "outputs": [],
   "source": []
  }
 ],
 "metadata": {
  "kernelspec": {
   "display_name": "Python 3",
   "language": "python",
   "name": "python3"
  },
  "language_info": {
   "codemirror_mode": {
    "name": "ipython",
    "version": 3
   },
   "file_extension": ".py",
   "mimetype": "text/x-python",
   "name": "python",
   "nbconvert_exporter": "python",
   "pygments_lexer": "ipython3",
   "version": "3.8.5"
  }
 },
 "nbformat": 4,
 "nbformat_minor": 4
}
