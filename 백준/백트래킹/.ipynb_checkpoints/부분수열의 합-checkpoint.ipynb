{
 "cells": [
  {
   "cell_type": "code",
   "execution_count": 1,
   "metadata": {},
   "outputs": [
    {
     "name": "stdout",
     "output_type": "stream",
     "text": [
      "5 0\n",
      "-7 -3 -2 5 8\n",
      "1\n"
     ]
    }
   ],
   "source": [
    "\n",
    "n,s=map(int, input().split())\n",
    "arr = list(map(int, input().split()))\n",
    "count=0\n",
    "\n",
    "def subset(idx,total):\n",
    "    global count\n",
    "\n",
    "    if idx>=n:#n보다 크면 빠져나온다.\n",
    "        return\n",
    "    total+=arr[idx]\n",
    "    if total==s:\n",
    "        count+=1\n",
    "    subset(idx+1,total)#index값을 올려주면서 combination처럼 더한 값을 구해준다.\n",
    "    #부분수열의 값을 구해준다.\n",
    "    subset(idx+1,total-arr[idx])\n",
    "\n",
    "subset(0,0)\n",
    "print(count)\n"
   ]
  },
  {
   "cell_type": "code",
   "execution_count": null,
   "metadata": {},
   "outputs": [],
   "source": [
    "import itertools\n",
    "\n",
    "#itertools의 combination을 직접 사용하여 부분 수열의 합을 구해 준다.\n",
    "n,s=map(int, input().split())\n",
    "arr = list(map(int, input().split()))\n",
    "count=0\n",
    "\n",
    "for i in range(1,len(arr)):\n",
    "    v=list(itertools.combinations(arr,i))\n",
    "\n",
    "    for j in v:\n",
    "        if sum(j)==s:\n",
    "            count+=1\n",
    "\n",
    "print(count)\n"
   ]
  }
 ],
 "metadata": {
  "kernelspec": {
   "display_name": "Python 3",
   "language": "python",
   "name": "python3"
  },
  "language_info": {
   "codemirror_mode": {
    "name": "ipython",
    "version": 3
   },
   "file_extension": ".py",
   "mimetype": "text/x-python",
   "name": "python",
   "nbconvert_exporter": "python",
   "pygments_lexer": "ipython3",
   "version": "3.8.3"
  }
 },
 "nbformat": 4,
 "nbformat_minor": 4
}
