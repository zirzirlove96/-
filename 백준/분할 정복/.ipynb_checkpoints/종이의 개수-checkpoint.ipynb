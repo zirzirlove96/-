{
 "cells": [
  {
   "cell_type": "code",
   "execution_count": 1,
   "metadata": {},
   "outputs": [
    {
     "name": "stdout",
     "output_type": "stream",
     "text": [
      "9\n",
      "0 0 0 1 1 1 -1 -1 -1\n",
      "0 0 0 1 1 1 -1 -1 -1\n",
      "0 0 0 1 1 1 -1 -1 -1\n",
      "1 1 1 0 0 0 0 0 0\n",
      "1 1 1 0 0 0 0 0 0\n",
      "1 1 1 0 0 0 0 0 0\n",
      "0 1 -1 0 1 -1 0 1 -1\n",
      "0 -1 1 0 1 -1 0 1 -1\n",
      "0 1 -1 1 0 -1 0 1 -1\n",
      "minus의 개수: \n",
      "10\n",
      "zero의 개수: \n",
      "12\n",
      "plus의 개수: \n",
      "11\n"
     ]
    }
   ],
   "source": [
    "def f(x,y,n):\n",
    "    global minus\n",
    "    global zero\n",
    "    global plus\n",
    "    check=array[x][y]\n",
    "    for i in range(x,x+n):\n",
    "        for j in range(y,y+n):\n",
    "            if check!=array[i][j]:\n",
    "                f(x,y,n//3)\n",
    "                f(x,y+n//3,n//3)\n",
    "                f(x,y+(n//3)*2,n//3)\n",
    "                f(x+n//3,y,n//3)\n",
    "                f(x+n//3,y+n//3,n//3)\n",
    "                f(x+n//3,y+(n//3)*2,n//3)\n",
    "                f(x+(n//3)*2,y,n//3)\n",
    "                f(x+(n//3)*2,y+n//3,n//3)\n",
    "                f(x+(n//3)*2,y+(n//3)*2,n//3)\n",
    "                return\n",
    "    if check==1:\n",
    "        plus+=1\n",
    "        return\n",
    "    elif check==0:\n",
    "        zero+=1\n",
    "        return\n",
    "    else:\n",
    "        minus+=1\n",
    "        return\n",
    "\n",
    "n=int(input())\n",
    "array=[list(map(int, input().split())) for _ in range(n)]\n",
    "minus=0\n",
    "zero=0\n",
    "plus=0\n",
    "f(0,0,n)\n",
    "print(\"minus의 개수: \")\n",
    "print(minus)\n",
    "print(\"zero의 개수: \")\n",
    "print(zero)\n",
    "print(\"plus의 개수: \")\n",
    "print(plus)\n"
   ]
  },
  {
   "cell_type": "markdown",
   "metadata": {},
   "source": [
    "<pre>\n",
    "3으로 나누는 경우이므로 1,2,3,4,5,6,7,8,9 사분면을 만들어줘야 한다.\n",
    "따라서 재귀함수가 2로 나눈 것보다 많아 질 수 밖에 없다.\n",
    "</pre>"
   ]
  },
  {
   "cell_type": "code",
   "execution_count": null,
   "metadata": {},
   "outputs": [],
   "source": []
  }
 ],
 "metadata": {
  "kernelspec": {
   "display_name": "Python 3",
   "language": "python",
   "name": "python3"
  },
  "language_info": {
   "codemirror_mode": {
    "name": "ipython",
    "version": 3
   },
   "file_extension": ".py",
   "mimetype": "text/x-python",
   "name": "python",
   "nbconvert_exporter": "python",
   "pygments_lexer": "ipython3",
   "version": "3.8.3"
  }
 },
 "nbformat": 4,
 "nbformat_minor": 4
}
