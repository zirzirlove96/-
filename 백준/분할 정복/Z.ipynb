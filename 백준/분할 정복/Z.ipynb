{
 "cells": [
  {
   "cell_type": "code",
   "execution_count": 1,
   "metadata": {},
   "outputs": [
    {
     "name": "stdout",
     "output_type": "stream",
     "text": [
      "3 7 7\n",
      "63\n"
     ]
    }
   ],
   "source": [
    "def f(x,y,n):\n",
    "    global count\n",
    "    for i in range(x,x+n):\n",
    "        for j in range(y,y+n):\n",
    "            if n>2:\n",
    "                f(x,y,n//2)\n",
    "                f(x,y+n//2,n//2)\n",
    "                f(x+n//2,y,n//2)\n",
    "                f(x+n//2,y+n//2,n//2)\n",
    "                return\n",
    "            array[i][j]=count\n",
    "            count+=1\n",
    "            if i==r and j==c:\n",
    "                print(count-1)\n",
    "                return\n",
    "            \n",
    "            \n",
    "    \n",
    "\n",
    "n,r,c=map(int, input().split())\n",
    "array=[[0]*pow(2,n) for _ in range(pow(2,n))]\n",
    "count=0\n",
    "f(0,0,pow(2,n))\n",
    "\n"
   ]
  },
  {
   "cell_type": "markdown",
   "metadata": {},
   "source": [
    "<pre>\n",
    "답이 맞게는 나오나 2**10을 넘어가면서 <strong>메모리 초과</strong>가 일어난다.\n",
    "그렇기 때문에 배열로 하면 안되고, r,c값이 나오는데로 count값을 출력하고 분할을 해줘야 한다.\n",
    "</pre>"
   ]
  },
  {
   "cell_type": "code",
   "execution_count": 3,
   "metadata": {},
   "outputs": [
    {
     "name": "stdout",
     "output_type": "stream",
     "text": [
      "3 7 7\n",
      "63\n"
     ]
    }
   ],
   "source": [
    "\n",
    "def f(x,y,n):\n",
    "    global count\n",
    "    if n==2:\n",
    "        if x==r and y==c:\n",
    "            print(count)\n",
    "            return\n",
    "        count+=1\n",
    "        if x==r and y+1==c:\n",
    "            print(count)\n",
    "            return\n",
    "        count+=1\n",
    "        if x+1==r and y==c:\n",
    "            print(count)\n",
    "            return\n",
    "        count+=1\n",
    "        if x+1==r and y+1==c:\n",
    "            print(count)\n",
    "            return\n",
    "        count+=1\n",
    "    else:\n",
    "        f(x,y,n//2)#1사분면\n",
    "        f(x,y+n//2,n//2)#2사분면\n",
    "        f(x+n//2,y,n//2)#3사분면\n",
    "        f(x+n//2,y+n//2,n//2)#4사분면\n",
    "\n",
    "n,r,c=map(int, input().split())\n",
    "count=0\n",
    "f(0,0,pow(2,n))"
   ]
  },
  {
   "cell_type": "code",
   "execution_count": null,
   "metadata": {},
   "outputs": [],
   "source": []
  }
 ],
 "metadata": {
  "kernelspec": {
   "display_name": "Python 3",
   "language": "python",
   "name": "python3"
  },
  "language_info": {
   "codemirror_mode": {
    "name": "ipython",
    "version": 3
   },
   "file_extension": ".py",
   "mimetype": "text/x-python",
   "name": "python",
   "nbconvert_exporter": "python",
   "pygments_lexer": "ipython3",
   "version": "3.8.3"
  }
 },
 "nbformat": 4,
 "nbformat_minor": 4
}
