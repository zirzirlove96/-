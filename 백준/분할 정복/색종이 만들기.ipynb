{
 "cells": [
  {
   "cell_type": "code",
   "execution_count": 1,
   "metadata": {},
   "outputs": [
    {
     "name": "stdout",
     "output_type": "stream",
     "text": [
      "8\n",
      "1 1 0 0 0 0 1 1\n",
      "1 1 0 0 0 0 1 1\n",
      "0 0 0 0 1 1 0 0\n",
      "0 0 0 0 1 1 0 0\n",
      "1 0 0 0 1 1 1 1\n",
      "0 1 0 0 1 1 1 1\n",
      "0 0 1 1 1 1 1 1\n",
      "0 0 1 1 1 1 1 1\n",
      "하얀 색종이의 갯수 : \n",
      "9\n",
      "파란 색종이의 갯수 : \n",
      "7\n"
     ]
    }
   ],
   "source": [
    "def f(x,y,n):\n",
    "    global blue\n",
    "    global white\n",
    "    check=array[x][y]#처음은 0,0이지만 분할을 하면 x,y의 값이 자연스레 변한다.\n",
    "    #check로 지정한 수가 아니면 재귀함수를 이용하여 분할을 해주어서\n",
    "    #분할된 곳에서 또 지정된 수인지 찾아 내는 것\n",
    "    for i in range(x,x+n):\n",
    "        for j in range(y,y+n):\n",
    "            if check!=array[i][j]:\n",
    "                f(x,y,n//2)\n",
    "                f(x,y+n//2,n//2)\n",
    "                f(x+n//2,y,n//2)\n",
    "                f(x+n//2,y+n//2,n//2)\n",
    "                return\n",
    "\n",
    "    if check==0:\n",
    "        white+=1\n",
    "        return\n",
    "    else:\n",
    "        blue+=1\n",
    "        return#꼭 리턴을 해줘야 한다!\n",
    "\n",
    "\n",
    "n=int(input())\n",
    "array=[list(map(int, input().split())) for _ in range(n)]\n",
    "blue=0\n",
    "white=0\n",
    "f(0,0,n)#재귀함수를 이용하여 분할하는 것\n",
    "print(\"하얀 색종이의 갯수 : \")\n",
    "print(white)\n",
    "print(\"파란 색종이의 갯수 : \")\n",
    "print(blue)\n"
   ]
  },
  {
   "cell_type": "code",
   "execution_count": null,
   "metadata": {},
   "outputs": [],
   "source": []
  }
 ],
 "metadata": {
  "kernelspec": {
   "display_name": "Python 3",
   "language": "python",
   "name": "python3"
  },
  "language_info": {
   "codemirror_mode": {
    "name": "ipython",
    "version": 3
   },
   "file_extension": ".py",
   "mimetype": "text/x-python",
   "name": "python",
   "nbconvert_exporter": "python",
   "pygments_lexer": "ipython3",
   "version": "3.8.3"
  }
 },
 "nbformat": 4,
 "nbformat_minor": 4
}
