{
 "cells": [
  {
   "cell_type": "code",
   "execution_count": 1,
   "metadata": {},
   "outputs": [
    {
     "name": "stdout",
     "output_type": "stream",
     "text": [
      "4\n",
      "3666\n"
     ]
    }
   ],
   "source": [
    "n=int(input())\n",
    "m=666\n",
    "count=0\n",
    "while True:\n",
    "    #666이 들어가 있지 않다면 +1해주면서\n",
    "    #연속 666값을 찾아 count의 숫자가 n과 같은 때의 값을 출력\n",
    "    if '666' in str(m):\n",
    "        count+=1\n",
    "    if count==n:\n",
    "        print(m)\n",
    "        break\n",
    "    m+=1\n"
   ]
  },
  {
   "cell_type": "code",
   "execution_count": null,
   "metadata": {},
   "outputs": [],
   "source": []
  }
 ],
 "metadata": {
  "kernelspec": {
   "display_name": "Python 3",
   "language": "python",
   "name": "python3"
  },
  "language_info": {
   "codemirror_mode": {
    "name": "ipython",
    "version": 3
   },
   "file_extension": ".py",
   "mimetype": "text/x-python",
   "name": "python",
   "nbconvert_exporter": "python",
   "pygments_lexer": "ipython3",
   "version": "3.8.3"
  }
 },
 "nbformat": 4,
 "nbformat_minor": 4
}
