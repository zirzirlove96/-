{
 "cells": [
  {
   "cell_type": "code",
   "execution_count": null,
   "metadata": {},
   "outputs": [],
   "source": [
    "array = []\n",
    "for i in range(9):\n",
    "    array.append(int(input()))\n",
    "array.sort()\n",
    "#print(array)\n",
    "\n",
    "s=0\n",
    "array2=[]\n",
    "for i in range(len(array)):\n",
    "    s+=array[i]\n",
    "    array2.append(array[i])\n",
    "    if s>100:\n",
    "        #print(array2)\n",
    "        #print(array2.pop(array2.index(s-100)))\n",
    "        array2.pop(array2.index(s-100))\n",
    "        break\n",
    "\n",
    "for a in array2:\n",
    "    print(a)"
   ]
  },
  {
   "cell_type": "markdown",
   "metadata": {},
   "source": [
    "<pre>\n",
    "여기에서 문제점은 런타임 에러가 난다.\n",
    "배열의 크기가 문제라는 뜻. 이유는 일곱난쟁이 인데, 일곱명이 나오지 않을 가능성도 있기 때문이다.\n",
    "</pre>"
   ]
  },
  {
   "cell_type": "code",
   "execution_count": null,
   "metadata": {},
   "outputs": [],
   "source": [
    "array=[]\n",
    "for _ in range(9):\n",
    "    array.append(int(input()))\n",
    "\n",
    "sum_s=sum(array)\n",
    "one=0\n",
    "two=0\n",
    "for i in range(8):\n",
    "    for j in range(i+1,9):\n",
    "        if sum_s-(array[i]+array[j])==100:\n",
    "            one=array[i]\n",
    "            two=array[j]\n",
    "array.remove(one)\n",
    "array.remove(two)\n",
    "array.sort()\n",
    "for a in array:\n",
    "    print(a)\n"
   ]
  },
  {
   "cell_type": "code",
   "execution_count": null,
   "metadata": {},
   "outputs": [],
   "source": []
  }
 ],
 "metadata": {
  "kernelspec": {
   "display_name": "Python 3",
   "language": "python",
   "name": "python3"
  },
  "language_info": {
   "codemirror_mode": {
    "name": "ipython",
    "version": 3
   },
   "file_extension": ".py",
   "mimetype": "text/x-python",
   "name": "python",
   "nbconvert_exporter": "python",
   "pygments_lexer": "ipython3",
   "version": "3.8.5"
  }
 },
 "nbformat": 4,
 "nbformat_minor": 4
}
