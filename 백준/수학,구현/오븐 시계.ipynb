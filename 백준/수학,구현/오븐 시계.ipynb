{
 "cells": [
  {
   "cell_type": "code",
   "execution_count": 1,
   "metadata": {},
   "outputs": [
    {
     "name": "stdout",
     "output_type": "stream",
     "text": [
      "14 30\n",
      "40\n",
      "15 10\n"
     ]
    }
   ],
   "source": [
    "a,b=map(int, input().split())\n",
    "c=int(input())\n",
    "\n",
    "a+=c//60 #시간은 몫을 더한것\n",
    "b+=c%60 #분은 나머지를 더한 것\n",
    "\n",
    "if b>=60:\n",
    "    a+=1\n",
    "    b-=60\n",
    "if a>=24:#24시는 0시로 표현해야 함.\n",
    "    a-=24\n",
    "\n",
    "print(a,b)\n"
   ]
  },
  {
   "cell_type": "code",
   "execution_count": null,
   "metadata": {},
   "outputs": [],
   "source": []
  }
 ],
 "metadata": {
  "kernelspec": {
   "display_name": "Python 3",
   "language": "python",
   "name": "python3"
  },
  "language_info": {
   "codemirror_mode": {
    "name": "ipython",
    "version": 3
   },
   "file_extension": ".py",
   "mimetype": "text/x-python",
   "name": "python",
   "nbconvert_exporter": "python",
   "pygments_lexer": "ipython3",
   "version": "3.8.3"
  }
 },
 "nbformat": 4,
 "nbformat_minor": 4
}
