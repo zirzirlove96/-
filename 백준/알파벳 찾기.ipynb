{
 "cells": [
  {
   "cell_type": "code",
   "execution_count": 1,
   "metadata": {},
   "outputs": [
    {
     "name": "stdout",
     "output_type": "stream",
     "text": [
      "baekjoon\n",
      "1 0 -1 -1 2 -1 -1 -1 -1 4 3 -1 -1 7 5 -1 -1 -1 -1 -1 -1 -1 -1 -1 -1 -1 "
     ]
    }
   ],
   "source": [
    "\n",
    "def solution(s):\n",
    "    answer=[-1]*26\n",
    "    alphabet=[chr(i) for i in range(97,123)]\n",
    "    \n",
    "    for i in range(len(alphabet)):\n",
    "        if alphabet[i] in s:\n",
    "            answer[i]=s.index(alphabet[i])\n",
    "    \n",
    "    return answer\n",
    "\n",
    "\n",
    "s=input()\n",
    "a=solution(s)\n",
    "\n",
    "for i in a:\n",
    "    print(i, end=' ')\n"
   ]
  },
  {
   "cell_type": "markdown",
   "metadata": {},
   "source": [
    "<pre>\n",
    "alphabet에서 s와 같지 않는 것은 -1로 표시하고 같은 것은 s에서 위치를 알려준다.\n",
    "</pre>"
   ]
  },
  {
   "cell_type": "code",
   "execution_count": null,
   "metadata": {},
   "outputs": [],
   "source": []
  }
 ],
 "metadata": {
  "kernelspec": {
   "display_name": "Python 3",
   "language": "python",
   "name": "python3"
  },
  "language_info": {
   "codemirror_mode": {
    "name": "ipython",
    "version": 3
   },
   "file_extension": ".py",
   "mimetype": "text/x-python",
   "name": "python",
   "nbconvert_exporter": "python",
   "pygments_lexer": "ipython3",
   "version": "3.8.5"
  }
 },
 "nbformat": 4,
 "nbformat_minor": 4
}
