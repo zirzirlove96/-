{
 "cells": [
  {
   "cell_type": "code",
   "execution_count": 1,
   "metadata": {},
   "outputs": [
    {
     "name": "stdout",
     "output_type": "stream",
     "text": [
      "5\n",
      "12 7 9 15 5\n",
      "13 8 11 19 6\n",
      "21 10 26 31 16\n",
      "48 14 28 35 25\n",
      "52 20 32 41 49\n",
      "35\n"
     ]
    }
   ],
   "source": [
    "import heapq\n",
    "\n",
    "n=int(input())\n",
    "\n",
    "a=[]\n",
    "for _ in range(n):\n",
    "    numbers = list(map(int, input().split()))\n",
    "    for num in numbers:\n",
    "        heapq.heappush(a,(-num))\n",
    "\n",
    "for i in range(1,n+1):\n",
    "    if i==n:\n",
    "        print(abs(heapq.heappop(a)))\n",
    "    heapq.heappop(a)\n"
   ]
  },
  {
   "cell_type": "markdown",
   "metadata": {},
   "source": [
    "<pre>\n",
    "n의 크기가 1~1500까지 있고 n**2만큼 채워지므로 <strong>메모리 초과</strong>가 일어난다.\n",
    "이를 위해 배열에는 상위 n개만 담는 최소 힙을 만들도록 해보자.\n",
    "</pre>"
   ]
  }
 ],
 "metadata": {
  "kernelspec": {
   "display_name": "Python 3",
   "language": "python",
   "name": "python3"
  },
  "language_info": {
   "codemirror_mode": {
    "name": "ipython",
    "version": 3
   },
   "file_extension": ".py",
   "mimetype": "text/x-python",
   "name": "python",
   "nbconvert_exporter": "python",
   "pygments_lexer": "ipython3",
   "version": "3.8.5"
  }
 },
 "nbformat": 4,
 "nbformat_minor": 4
}
