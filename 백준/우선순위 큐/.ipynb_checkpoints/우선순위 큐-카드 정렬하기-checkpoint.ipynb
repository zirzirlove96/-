{
 "cells": [
  {
   "cell_type": "code",
   "execution_count": 2,
   "metadata": {},
   "outputs": [
    {
     "name": "stdout",
     "output_type": "stream",
     "text": [
      "3\n",
      "10\n",
      "20\n",
      "40\n",
      "카드 정렬하기 : 100\n"
     ]
    }
   ],
   "source": [
    "import heapq\n",
    "\n",
    "n=int(input())\n",
    "\n",
    "array=[]\n",
    "for _ in range(n):\n",
    "    heapq.heappush(array,int(input()))\n",
    "\n",
    "answer=0\n",
    "while len(array)!=1:\n",
    "    A,B=0,0\n",
    "    \"\"\"\n",
    "    length = len(array)\n",
    "    if length%2==0:\n",
    "        A=heapq.heappop(array)\n",
    "        B=heapq.heappop(array)\n",
    "        answer+=A+B\n",
    "    else:\n",
    "    \"\"\"\n",
    "    \n",
    "    A=heapq.heappop(array)\n",
    "    B=heapq.heappop(array)\n",
    "    answer+=A+B\n",
    "    heapq.heappush(array,A+B)\n",
    "\n",
    "\n",
    "print(\"카드 정렬하기 :\",answer)"
   ]
  },
  {
   "cell_type": "markdown",
   "metadata": {},
   "source": [
    "<pre>\n",
    "최소한 몇 번의 비교를 묻는 문제로 최소 힙으로 \n",
    "힙 소트를 사용하여 작은 값들을 더한 값을 이용하여 비교값을 나타낸다.\n",
    "</pre>"
   ]
  },
  {
   "cell_type": "code",
   "execution_count": null,
   "metadata": {},
   "outputs": [],
   "source": []
  }
 ],
 "metadata": {
  "kernelspec": {
   "display_name": "Python 3",
   "language": "python",
   "name": "python3"
  },
  "language_info": {
   "codemirror_mode": {
    "name": "ipython",
    "version": 3
   },
   "file_extension": ".py",
   "mimetype": "text/x-python",
   "name": "python",
   "nbconvert_exporter": "python",
   "pygments_lexer": "ipython3",
   "version": "3.8.5"
  }
 },
 "nbformat": 4,
 "nbformat_minor": 4
}
