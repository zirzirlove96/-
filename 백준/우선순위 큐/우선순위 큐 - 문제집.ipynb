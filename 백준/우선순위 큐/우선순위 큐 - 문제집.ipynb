{
 "cells": [
  {
   "cell_type": "code",
   "execution_count": 2,
   "metadata": {},
   "outputs": [
    {
     "name": "stdout",
     "output_type": "stream",
     "text": [
      "4 2\n",
      "4 2\n",
      "3 1\n",
      "3 1 4 2 "
     ]
    }
   ],
   "source": [
    "import heapq\n",
    "import sys\n",
    "\n",
    "\n",
    "n,m=map(int,input().split())\n",
    "\n",
    "array = [i for i in range(1,n+1)]\n",
    "#1 2 ...\n",
    "min_heap=[]\n",
    "\n",
    "for _ in range(m):\n",
    "    A,B=map(int, input().split())\n",
    "\n",
    "    heapq.heappush(min_heap,(A,B))\n",
    "\n",
    "    if A in array:\n",
    "        array.pop(array.index(A))\n",
    "    if B in array:\n",
    "        array.pop(array.index(B))\n",
    "\n",
    "for i in range(len(array)):\n",
    "    heapq.heappush(min_heap, (array[i],array[i]))\n",
    "\n",
    "\n",
    "while min_heap:\n",
    "    \n",
    "    if min_heap[0][0]==min_heap[0][1]:\n",
    "        m=heapq.heappop(min_heap)\n",
    "        print(m[0],end=' ')\n",
    "    else:\n",
    "        m=heapq.heappop(min_heap)\n",
    "        print(m[0],end=' ')\n",
    "        print(m[1],end=' ')\n",
    "    \n"
   ]
  },
  {
   "cell_type": "markdown",
   "metadata": {},
   "source": [
    "<pre>\n",
    "<b>시간 초과 나옴</b>\n",
    "</pre>"
   ]
  },
  {
   "cell_type": "markdown",
   "metadata": {},
   "source": [
    "<pre>\n",
    "<font size=\"4em\">\n",
    "<b>위상 정렬</b>\n",
    "- 어떤 일을 하는 순서를 찾는 알고리즘.\n",
    "- 즉, 방향 그래프에 존재하는 각 정점들의 선행 순서를 위배하지 않으면서 모든 정점들을 나열하는 것\n",
    "</font>\n",
    "</pre>"
   ]
  },
  {
   "cell_type": "code",
   "execution_count": 3,
   "metadata": {},
   "outputs": [
    {
     "name": "stdout",
     "output_type": "stream",
     "text": [
      "4 2\n",
      "4 2\n",
      "3 1\n",
      "list1은 순서, list2은 진입 루트를 가리킨다.\n",
      "[[], [], [], [1], [2]] [0, 1, 1, 0, 0]\n",
      "heap에 루트가 0인 것을 넣어준다. \n",
      "[3, 4]\n",
      "3 1 4 2 "
     ]
    }
   ],
   "source": [
    "import heapq\n",
    "import sys\n",
    "\n",
    "\n",
    "n,m=map(int,input().split())\n",
    "list1 = [[] for i in range(n+1)]\n",
    "list2 = [0 for i in range(n+1)] #진입 루트\n",
    "min_heap=[]\n",
    "result=[]\n",
    "\n",
    "for i in range(m):\n",
    "    A,B = map(int, input().split())\n",
    "    list1[A].append(B)\n",
    "    list2[B]+=1\n",
    "print(\"list1은 순서, list2은 진입 루트를 가리킨다.\")\n",
    "print(list1,list2)\n",
    "\n",
    "for i in range(1,n+1):\n",
    "    if list2[i]==0:\n",
    "        heapq.heappush(min_heap,i)\n",
    "print(\"heap에 루트가 0인 것을 넣어준다. \")\n",
    "print(min_heap)\n",
    "\n",
    "while min_heap:\n",
    "    tmp = heapq.heappop(min_heap)\n",
    "    result.append(tmp)#루트를 하나씩 add\n",
    "    for j in list1[tmp]:\n",
    "        list2[j]-=1\n",
    "        if list2[j]==0:\n",
    "            heapq.heappush(min_heap,j)\n",
    "            \n",
    "\n",
    "for i in result:\n",
    "    print(i,end=' ')\n"
   ]
  },
  {
   "cell_type": "code",
   "execution_count": null,
   "metadata": {},
   "outputs": [],
   "source": []
  }
 ],
 "metadata": {
  "kernelspec": {
   "display_name": "Python 3",
   "language": "python",
   "name": "python3"
  },
  "language_info": {
   "codemirror_mode": {
    "name": "ipython",
    "version": 3
   },
   "file_extension": ".py",
   "mimetype": "text/x-python",
   "name": "python",
   "nbconvert_exporter": "python",
   "pygments_lexer": "ipython3",
   "version": "3.8.5"
  }
 },
 "nbformat": 4,
 "nbformat_minor": 4
}
