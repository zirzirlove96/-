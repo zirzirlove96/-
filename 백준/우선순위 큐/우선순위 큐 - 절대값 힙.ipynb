{
 "cells": [
  {
   "cell_type": "code",
   "execution_count": 1,
   "metadata": {},
   "outputs": [
    {
     "name": "stdout",
     "output_type": "stream",
     "text": [
      "[-1, 1, 0, -1, -1, 1, 1, -2, 2, 0]\n"
     ]
    }
   ],
   "source": [
    "import heapq\n",
    "import sys\n",
    "\n",
    "min_heap=[]\n",
    "#n=int(sys.stdin.readline())\n",
    "answer=[]\n",
    "\n",
    "def solution(n,array):\n",
    "\n",
    "    for i in range(n):\n",
    "        #x=int(sys.stdin.readline())\n",
    "        x=array[i]\n",
    "        \n",
    "        if x==0 and len(min_heap)==0:\n",
    "            answer.append(0)\n",
    "        elif x!=0:\n",
    "            heapq.heappush(min_heap,(abs(x),x))\n",
    "        elif x==0 and len(min_heap)>0:\n",
    "            answer.append(heapq.heappop(min_heap)[1])\n",
    "\n",
    "#for i in answer:\n",
    "    #print(i)\n",
    "\n",
    "    return answer\n",
    " \n",
    "\n",
    "print(solution(18,[1,-1,0,0,0,1,1,-1,-1,2,-2,0,0,0,0,0,0,0]))\n",
    "        \n"
   ]
  },
  {
   "cell_type": "code",
   "execution_count": null,
   "metadata": {},
   "outputs": [],
   "source": []
  }
 ],
 "metadata": {
  "kernelspec": {
   "display_name": "Python 3",
   "language": "python",
   "name": "python3"
  },
  "language_info": {
   "codemirror_mode": {
    "name": "ipython",
    "version": 3
   },
   "file_extension": ".py",
   "mimetype": "text/x-python",
   "name": "python",
   "nbconvert_exporter": "python",
   "pygments_lexer": "ipython3",
   "version": "3.8.5"
  }
 },
 "nbformat": 4,
 "nbformat_minor": 4
}
