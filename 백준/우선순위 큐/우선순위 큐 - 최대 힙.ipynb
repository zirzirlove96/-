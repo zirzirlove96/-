{
 "cells": [
  {
   "cell_type": "code",
   "execution_count": 1,
   "metadata": {},
   "outputs": [
    {
     "name": "stdout",
     "output_type": "stream",
     "text": [
      "[0, (-2, 2), (-1, 1), (-3, 3), (-2, 2), (-1, 1), 0, 0]\n"
     ]
    }
   ],
   "source": [
    "import heapq\n",
    "import sys\n",
    "\n",
    "min_heap=[]\n",
    "#n=int(sys.stdin.readline())\n",
    "answer=[]\n",
    "\n",
    "def solution(n,array):\n",
    "\n",
    "    for i in range(n):\n",
    "        #x=int(sys.stdin.readline())\n",
    "        x=array[i]\n",
    "        \n",
    "        if x==0 and len(min_heap)==0:\n",
    "            answer.append(0)\n",
    "        elif x!=0:\n",
    "            heapq.heappush(min_heap,(-x,x))\n",
    "        elif x==0 and len(min_heap)>0:\n",
    "           answer.append(heapq.heappop(min_heap))\n",
    "        #최대 힙은 루트가 자식들보다 작은 것을 말하므로 힙에서 제일 큰 값을 찾는 것이다.\n",
    "\n",
    "    return answer\n",
    " \n",
    "\n",
    "print(solution(13,[0,1,2,0,0,3,2,1,0,0,0,0,0]))"
   ]
  },
  {
   "cell_type": "markdown",
   "metadata": {},
   "source": [
    "<pre>\n",
    "출력값이 최대 힙을 구하기 위해 -를 해주고, 원본 값을 넣어주었다.\n",
    "원본 값을 구하기 위해 pop[1]을 해준다.\n",
    "</pre>"
   ]
  },
  {
   "cell_type": "code",
   "execution_count": 2,
   "metadata": {},
   "outputs": [
    {
     "name": "stdout",
     "output_type": "stream",
     "text": [
      "[0, 2, 1, 3, 2, 1, 0, 0]\n"
     ]
    }
   ],
   "source": [
    "import heapq\n",
    "import sys\n",
    "\n",
    "min_heap=[]\n",
    "#n=int(sys.stdin.readline())\n",
    "answer=[]\n",
    "\n",
    "def solution(n,array):\n",
    "\n",
    "    for i in range(n):\n",
    "        #x=int(sys.stdin.readline())\n",
    "        x=array[i]\n",
    "        \n",
    "        if x==0 and len(min_heap)==0:\n",
    "            answer.append(0)\n",
    "        elif x!=0:\n",
    "            heapq.heappush(min_heap,(-x,x))\n",
    "        elif x==0 and len(min_heap)>0:\n",
    "           answer.append(heapq.heappop(min_heap)[1])\n",
    "        #최대 힙은 루트가 자식들보다 작은 것을 말하므로 힙에서 제일 큰 값을 찾는 것이다.\n",
    "\n",
    "    return answer\n",
    " \n",
    "\n",
    "print(solution(13,[0,1,2,0,0,3,2,1,0,0,0,0,0]))"
   ]
  },
  {
   "cell_type": "code",
   "execution_count": null,
   "metadata": {},
   "outputs": [],
   "source": []
  }
 ],
 "metadata": {
  "kernelspec": {
   "display_name": "Python 3",
   "language": "python",
   "name": "python3"
  },
  "language_info": {
   "codemirror_mode": {
    "name": "ipython",
    "version": 3
   },
   "file_extension": ".py",
   "mimetype": "text/x-python",
   "name": "python",
   "nbconvert_exporter": "python",
   "pygments_lexer": "ipython3",
   "version": "3.8.5"
  }
 },
 "nbformat": 4,
 "nbformat_minor": 4
}
