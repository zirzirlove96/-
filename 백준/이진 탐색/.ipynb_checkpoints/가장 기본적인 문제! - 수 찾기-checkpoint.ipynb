{
 "cells": [
  {
   "cell_type": "code",
   "execution_count": 1,
   "metadata": {},
   "outputs": [
    {
     "name": "stdout",
     "output_type": "stream",
     "text": [
      "5\n",
      "4 1 5 2 3\n",
      "5\n",
      "1 3 7 9 5\n",
      "1\n",
      "1\n",
      "0\n",
      "0\n",
      "1\n"
     ]
    }
   ],
   "source": [
    "n=int(input())\n",
    "array1=list(map(int, input().split()))\n",
    "m=int(input())\n",
    "array2=list(map(int, input().split()))\n",
    "\n",
    "array1.sort()\n",
    "\n",
    "def binary_search(array,target):\n",
    "    start = 0\n",
    "    end = len(array)-1\n",
    "\n",
    "    while start<=end:\n",
    "        mid = (start+end)//2\n",
    "\n",
    "        if target == array[mid]:\n",
    "            return 1\n",
    "        elif target<array[mid]:\n",
    "            end = mid-1\n",
    "        else:\n",
    "            start = mid+1\n",
    "    return 0\n",
    "\n",
    "\n",
    "for a in array2:\n",
    "    print(binary_search(array1,a))\n",
    "    \n",
    "#array2에서의 값을 array1에서 찾는 것이다.\n",
    "#start=0 에서 end = len(array)-1까지 정하고\n",
    "#이분탐색을 수행하면 된다."
   ]
  },
  {
   "cell_type": "code",
   "execution_count": null,
   "metadata": {},
   "outputs": [],
   "source": []
  }
 ],
 "metadata": {
  "kernelspec": {
   "display_name": "Python 3",
   "language": "python",
   "name": "python3"
  },
  "language_info": {
   "codemirror_mode": {
    "name": "ipython",
    "version": 3
   },
   "file_extension": ".py",
   "mimetype": "text/x-python",
   "name": "python",
   "nbconvert_exporter": "python",
   "pygments_lexer": "ipython3",
   "version": "3.8.3"
  }
 },
 "nbformat": 4,
 "nbformat_minor": 4
}
