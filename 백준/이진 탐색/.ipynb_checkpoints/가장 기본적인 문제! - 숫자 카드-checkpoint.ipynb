{
 "cells": [
  {
   "cell_type": "code",
   "execution_count": 1,
   "metadata": {},
   "outputs": [
    {
     "name": "stdout",
     "output_type": "stream",
     "text": [
      "5\n",
      "6 3 2 10 -10\n",
      "8\n",
      "10 9 -5 2 3 4 5 -10\n",
      "1 0 0 1 1 0 0 1 "
     ]
    }
   ],
   "source": [
    "n=int(input())\n",
    "array1=list(map(int, input().split()))\n",
    "m=int(input())\n",
    "array2=list(map(int, input().split()))\n",
    "\n",
    "array1.sort()\n",
    "result=[]\n",
    "\n",
    "def binary_search(array,target):\n",
    "    start=0\n",
    "    end=len(array)-1\n",
    "\n",
    "    while start<=end:\n",
    "        mid = (start+end)//2\n",
    "\n",
    "        if array[mid]==target:\n",
    "            return 1\n",
    "        elif array[mid]<target:\n",
    "            start=mid+1\n",
    "        else:\n",
    "            end=mid-1\n",
    "    return 0\n",
    "\n",
    "\n",
    "for a in array2:\n",
    "    result.append(binary_search(array1,a))\n",
    "\n",
    "for i in result:\n",
    "    print(i,end=' ')\n",
    "# 수 찾기와 비슷하게 진행된다."
   ]
  },
  {
   "cell_type": "code",
   "execution_count": null,
   "metadata": {},
   "outputs": [],
   "source": []
  }
 ],
 "metadata": {
  "kernelspec": {
   "display_name": "Python 3",
   "language": "python",
   "name": "python3"
  },
  "language_info": {
   "codemirror_mode": {
    "name": "ipython",
    "version": 3
   },
   "file_extension": ".py",
   "mimetype": "text/x-python",
   "name": "python",
   "nbconvert_exporter": "python",
   "pygments_lexer": "ipython3",
   "version": "3.8.3"
  }
 },
 "nbformat": 4,
 "nbformat_minor": 4
}
