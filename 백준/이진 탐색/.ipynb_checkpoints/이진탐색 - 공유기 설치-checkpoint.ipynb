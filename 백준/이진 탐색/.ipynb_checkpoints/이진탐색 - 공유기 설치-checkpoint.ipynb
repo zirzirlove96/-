{
 "cells": [
  {
   "cell_type": "code",
   "execution_count": 1,
   "metadata": {},
   "outputs": [
    {
     "name": "stdout",
     "output_type": "stream",
     "text": [
      "5 3\n",
      "1\n",
      "2\n",
      "8\n",
      "4\n",
      "9\n",
      "3\n"
     ]
    }
   ],
   "source": [
    "n,c=map(int, input().split())\n",
    "array=[]\n",
    "for _ in range(n):\n",
    "    array.append(int(input()))\n",
    "\n",
    "array.sort()\n",
    "\n",
    "start=array[1]-array[0]\n",
    "end=array[-1]-array[0]\n",
    "\n",
    "ans=0\n",
    "\n",
    "while start<=end:\n",
    "    mid = (start+end)//2\n",
    "    value=array[0]\n",
    "    count=1\n",
    "\n",
    "    for i in range(1,len(array)):\n",
    "        if mid<=array[i]-value:#공유기를 설치한다고 할때 \n",
    "            value=array[i]\n",
    "            count+=1\n",
    "    if count>=c:#해당 target(=c)일때 공유기를 설치할 수 있으므로 mid값을 출\n",
    "        start=mid+1#count>=c일 때 더 많은 Gap에 대해서 설치할 수 있는지를 확인하기 위해서\n",
    "        #start=mid+1로 증가시켜 준다. 더 적은 범위에서 탐색을 할 수 있게 한다.\n",
    "        ans=mid\n",
    "    else:\n",
    "        end=mid-1\n",
    "       \n",
    "print(ans)\n",
    "\n",
    "\n"
   ]
  },
  {
   "cell_type": "markdown",
   "metadata": {},
   "source": [
    "<pre>\n",
    "이진탐색을 하여 10**8이였던 범위를 logN(600만)으로 만들어서 시간을 줄일 수 있게 해준다.\n",
    "</pre>"
   ]
  },
  {
   "cell_type": "code",
   "execution_count": 3,
   "metadata": {},
   "outputs": [
    {
     "name": "stdout",
     "output_type": "stream",
     "text": [
      "5 3\n",
      "1\n",
      "2\n",
      "8\n",
      "4\n",
      "9\n",
      "3\n"
     ]
    }
   ],
   "source": [
    "#재귀 함수\n",
    "n,c=map(int, input().split())\n",
    "array=[]\n",
    "for _ in range(n):\n",
    "    array.append(int(input()))\n",
    "\n",
    "array.sort()\n",
    "start=array[1]-array[0]\n",
    "end=array[-1]-array[0]\n",
    "ans=0\n",
    "\n",
    "def binary_search(arr, c, low, high):\n",
    "    value=arr[0]\n",
    "    count=1\n",
    "    global ans\n",
    "    mid=(low+high)//2\n",
    "    if low>high:\n",
    "        return -1\n",
    "\n",
    "    for i in range(1,len(arr)):\n",
    "        if mid<=arr[i]-value:\n",
    "            value=arr[i]\n",
    "            count+=1\n",
    "\n",
    "    if count>=c:\n",
    "        ans=mid\n",
    "        binary_search(arr,c,mid+1,high)\n",
    "    else:\n",
    "        binary_search(arr,c,low,mid-1)\n",
    "    \n",
    "\n",
    "binary_search(array,c,start,end)\n",
    "print(ans)\n"
   ]
  }
 ],
 "metadata": {
  "kernelspec": {
   "display_name": "Python 3",
   "language": "python",
   "name": "python3"
  },
  "language_info": {
   "codemirror_mode": {
    "name": "ipython",
    "version": 3
   },
   "file_extension": ".py",
   "mimetype": "text/x-python",
   "name": "python",
   "nbconvert_exporter": "python",
   "pygments_lexer": "ipython3",
   "version": "3.8.5"
  }
 },
 "nbformat": 4,
 "nbformat_minor": 4
}
