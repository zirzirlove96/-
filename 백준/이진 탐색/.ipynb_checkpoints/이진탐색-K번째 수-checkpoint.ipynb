{
 "cells": [
  {
   "cell_type": "code",
   "execution_count": 1,
   "metadata": {},
   "outputs": [
    {
     "name": "stdout",
     "output_type": "stream",
     "text": [
      "3\n",
      "7\n",
      "6\n"
     ]
    }
   ],
   "source": [
    "n=int(input())\n",
    "k=int(input())\n",
    "array=[[0]*(n+1) for _ in range(n+1)]\n",
    "\n",
    "for i in range(1,n+1):\n",
    "    for j in range(1,n+1):\n",
    "        array[i][j]=i*j\n",
    "\n",
    "B=[]\n",
    "for i in range(1,n+1):\n",
    "    for j in range(1,n+1):\n",
    "        B.append(array[i][j])\n",
    "\n",
    "\n",
    "B.sort()\n",
    "\n",
    "start=1\n",
    "end=len(B)\n",
    "\n",
    "answer=0\n",
    "while start<end:\n",
    "    mid=(start+end)//2\n",
    "\n",
    "    if mid>=k:\n",
    "        answer=start\n",
    "        end=mid-1\n",
    "    else:\n",
    "        start=mid+1\n",
    "\n",
    "print(answer)"
   ]
  },
  {
   "cell_type": "markdown",
   "metadata": {},
   "source": [
    "<pre>\n",
    "메모리 초과가 나온다.\n",
    "여기에서 이분탐색을 하기 위한 기준점은 K이다.\n",
    "<strong>K의 입력값이 10**9로 10억이 넘는 숫자이므로 이를 이진탐색으로 통해 값의 범위를 줄여준다.</strong>\n",
    "</pre>"
   ]
  },
  {
   "cell_type": "markdown",
   "metadata": {},
   "source": [
    "<pre>\n",
    "그렇다면 k번째의 수를 어떻게 구하는 것일까?\n",
    "B[k]는 일차원 배열에 있는 숫자이다. 이는 곧 A[i][j]배열을 일차원으로 나열한 배열로\n",
    "A[i][j]=i*j로 이 배열의 수는 <b>i의 배수</b>이다.\n",
    "i*j <= mid 값으로 j<=mid/i로 생각할 수 있다.\n",
    "그러므로 min(mid/i, n)이 i번째 행에서 mid보다 작은 숫자들의 개수가 된다.\n",
    "A[i][j] = 1 2 3\n",
    "          2 4 6\n",
    "          3 6 9\n",
    "i=1,2,3으로 for문으로 생성했을 때 min값은 차례로 3,1,1 이 된다. 이 수를 모두 더해 5의 값이 나온다.\n",
    "이 값은 mid값보다 작은 숫자들의 개수이다. \n",
    "<strong>K번째 수를 구하기 위해서는 K보다 작은 수의 개수를 구해야 한다!</strong>\n",
    "총 시간 복잡도는 O(NlogK)이다\n",
    "\n",
    "일반 이분탐색과 다른 점은 수행전에 배열을 정렬하지 않았다는 것이다.\n",
    "</pre>"
   ]
  },
  {
   "cell_type": "code",
   "execution_count": 3,
   "metadata": {},
   "outputs": [
    {
     "name": "stdout",
     "output_type": "stream",
     "text": [
      "3\n",
      "7\n",
      "6\n"
     ]
    }
   ],
   "source": [
    "n=int(input())\n",
    "k=int(input())\n",
    "\n",
    "start=0\n",
    "end=k#k값을 이용해야 한다.\n",
    "\n",
    "result=0\n",
    "while start<=end:\n",
    "    count=0\n",
    "    mid = (start+end)//2\n",
    "\n",
    "    for i in range(1,n+1):\n",
    "        count += min(mid//i, n) #mid를 이용하여 mid보다 작은 값의 개수를 구해 준다.\n",
    "\n",
    "    if count>=k: #count값이 K보다 클 경우 큰 부분에 있으므로 end값을 -1해준다.\n",
    "        result=mid\n",
    "        end=mid-1\n",
    "    else:\n",
    "        start=mid+1\n",
    "\n",
    "print(result)"
   ]
  },
  {
   "cell_type": "code",
   "execution_count": null,
   "metadata": {},
   "outputs": [],
   "source": []
  }
 ],
 "metadata": {
  "kernelspec": {
   "display_name": "Python 3",
   "language": "python",
   "name": "python3"
  },
  "language_info": {
   "codemirror_mode": {
    "name": "ipython",
    "version": 3
   },
   "file_extension": ".py",
   "mimetype": "text/x-python",
   "name": "python",
   "nbconvert_exporter": "python",
   "pygments_lexer": "ipython3",
   "version": "3.8.5"
  }
 },
 "nbformat": 4,
 "nbformat_minor": 4
}
