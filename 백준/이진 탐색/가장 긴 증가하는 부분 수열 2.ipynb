{
 "cells": [
  {
   "cell_type": "code",
   "execution_count": 3,
   "metadata": {},
   "outputs": [
    {
     "name": "stdout",
     "output_type": "stream",
     "text": [
      "6\n",
      "10 20 10 30 20 50\n",
      "4\n"
     ]
    }
   ],
   "source": [
    "def find(target):\n",
    "    start=1\n",
    "    end=len(stack)-1\n",
    "\n",
    "    while start<end:\n",
    "        mid=(start+end)//2\n",
    "        if stack[mid]<target:\n",
    "            start=mid+1\n",
    "        elif stack[mid]>target:\n",
    "            end=mid\n",
    "        else:\n",
    "            start=end=mid\n",
    "    return end\n",
    "\n",
    "n=int(input())\n",
    "array=list(map(int, input().split()))\n",
    "stack=[0]#여기에 들어간 값보다 클 경우 넣어준다.\n",
    "\n",
    "for a in array:\n",
    "    #stack배열의 끝 숫자가 a보다 작을 경우 넣어준다.\n",
    "    #길이가 길다는 증거\n",
    "    if stack[-1]<a:\n",
    "        stack.append(a)\n",
    "    #find 함수를 사용하여 a의 자리를 구해준다.\n",
    "    else:\n",
    "        stack[find(a)]=a\n",
    "        \n",
    "print(len(stack)-1)\n"
   ]
  },
  {
   "cell_type": "markdown",
   "metadata": {},
   "source": [
    "<pre>\n",
    "가장 긴 수열을 구하는 것이나 다름 없다.\n",
    "</pre>"
   ]
  },
  {
   "cell_type": "code",
   "execution_count": null,
   "metadata": {},
   "outputs": [],
   "source": []
  }
 ],
 "metadata": {
  "kernelspec": {
   "display_name": "Python 3",
   "language": "python",
   "name": "python3"
  },
  "language_info": {
   "codemirror_mode": {
    "name": "ipython",
    "version": 3
   },
   "file_extension": ".py",
   "mimetype": "text/x-python",
   "name": "python",
   "nbconvert_exporter": "python",
   "pygments_lexer": "ipython3",
   "version": "3.8.3"
  }
 },
 "nbformat": 4,
 "nbformat_minor": 4
}
