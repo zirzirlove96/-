{
 "cells": [
  {
   "cell_type": "code",
   "execution_count": 1,
   "metadata": {},
   "outputs": [
    {
     "name": "stdout",
     "output_type": "stream",
     "text": [
      "3 3\n",
      "1 2 2\n",
      "3 1 3\n",
      "2 3 2\n",
      "1 3\n",
      "3\n",
      "[False, True, False, False]\n"
     ]
    }
   ],
   "source": [
    "from collections import deque\n",
    "\n",
    "def bfs(v1,v2):\n",
    "    q=deque()\n",
    "    q.append(v1)\n",
    "\n",
    "    while q:\n",
    "        start=q.popleft()\n",
    "        visited[start]=True\n",
    "        for i in array[start]:\n",
    "            if i==v2:\n",
    "                return max(array[i])\n",
    "            else:\n",
    "                if not visited[start]:\n",
    "                    array[start][i]=min(array[start])\n",
    "                    q.append(i)\n",
    "                    visited[i]=True\n",
    "                \n",
    "    \n",
    "\n",
    "n,m=map(int, input().split())\n",
    "\n",
    "#N개의 섬\n",
    "#M개의 줄에는 다리에 대한 정보\n",
    "array=[[0]*(n+1) for _ in range(n+1)]\n",
    "\n",
    "for _ in range(m):\n",
    "    a,b,c=map(int, input().split())\n",
    "    array[a][b]=c\n",
    "    array[b][a]=c\n",
    "\n",
    "v1,v2=map(int, input().split())\n",
    "visited=[False]*(n+1)\n",
    "\n",
    "print(bfs(v1,v2))\n",
    "print(visited)\n"
   ]
  },
  {
   "cell_type": "markdown",
   "metadata": {},
   "source": [
    "<pre>\n",
    "백준의 테스트 케이스가 적어 답은 맞지만 틀림 과 메모리 초과가 나타난다.\n",
    "메모리 초과는 10억에 가까운 C에 의해 생기는 문제로 <strong>C에 로그타입을 씌운 코딩을 해야 한다.</strong>\n",
    "대부분 메모리 초과의 수를 위해 이진탐색을 수행시킨다.\n",
    "<strong>이진탐색은 찾고자 하는 그 값에 대해서 이진탐색을 수행해야 한다.</strong>\n",
    "BFS를 사용하는데 간선간의 이동이 가능한가를 따진다.\n",
    "먼저 이진탐색으로 중량을 구한다음 bfs를 돌려 이 간선으로 이동이 가능한지 확인한다.\n",
    "</pre>"
   ]
  },
  {
   "cell_type": "code",
   "execution_count": 2,
   "metadata": {},
   "outputs": [
    {
     "name": "stdout",
     "output_type": "stream",
     "text": [
      "3 3\n",
      "1 2 2\n",
      "3 1 3\n",
      "2 3 2\n",
      "1 3\n",
      "3\n"
     ]
    }
   ],
   "source": [
    "from collections import deque\n",
    "\n",
    "answer=[]\n",
    "\n",
    "#경로가 있는지 확인\n",
    "def bfs(target):\n",
    "    q=deque()\n",
    "    q.append(v1)\n",
    "    visited=[False]*(n+1)\n",
    "    visited[v1]=True\n",
    "\n",
    "    while q:\n",
    "        start=q.popleft()\n",
    "        for end, weight in array[start]:\n",
    "            if not visited[end] and weight>=target:#weight가 target보다 작으면\n",
    "                #다른 간선의 중량제한을 넘는 것으로 간주\n",
    "                visited[end]=True\n",
    "                q.append(end)\n",
    "    return visited[v2]\n",
    "            \n",
    "  \n",
    "    \n",
    "\n",
    "n,m=map(int, input().split())\n",
    "\n",
    "#N개의 섬\n",
    "#M개의 줄에는 다리에 대한 정보\n",
    "array=[[] for _ in range(n+1)]\n",
    "\n",
    "#이진탐색을 위한 start, end를 구하기 위해 사용\n",
    "min_weight=1000000000\n",
    "max_weight=1\n",
    "\n",
    "for _ in range(m):\n",
    "    a,b,c=map(int, input().split())\n",
    "    array[a].append((b,c))\n",
    "    array[b].append((a,c))\n",
    "    min_weight=min(min_weight,c)#이진탐색을 위한 start,end 기초\n",
    "    max_weight=max(max_weight,c)\n",
    "\n",
    "v1,v2=map(int, input().split())\n",
    "\n",
    "#중량이 가장작은 값과 큰 값을 통해 이진탐색을 한다.\n",
    "result=min_weight\n",
    "while min_weight<=max_weight:\n",
    "    mid = (min_weight+max_weight)//2\n",
    "\n",
    "    if bfs(mid):#이동이 가능하므로 중량 증가\n",
    "        result=mid\n",
    "        min_weight=mid+1\n",
    "    else:#간선이 없을 경우 중량 감소\n",
    "        max_weight=mid-1\n",
    "\n",
    "print(result)\n"
   ]
  },
  {
   "cell_type": "code",
   "execution_count": null,
   "metadata": {},
   "outputs": [],
   "source": []
  }
 ],
 "metadata": {
  "kernelspec": {
   "display_name": "Python 3",
   "language": "python",
   "name": "python3"
  },
  "language_info": {
   "codemirror_mode": {
    "name": "ipython",
    "version": 3
   },
   "file_extension": ".py",
   "mimetype": "text/x-python",
   "name": "python",
   "nbconvert_exporter": "python",
   "pygments_lexer": "ipython3",
   "version": "3.8.5"
  }
 },
 "nbformat": 4,
 "nbformat_minor": 4
}
