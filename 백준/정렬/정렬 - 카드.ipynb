{
 "cells": [
  {
   "cell_type": "code",
   "execution_count": 2,
   "metadata": {},
   "outputs": [
    {
     "name": "stdout",
     "output_type": "stream",
     "text": [
      "5\n",
      "1\n",
      "2\n",
      "1\n",
      "2\n",
      "1\n",
      "1\n"
     ]
    }
   ],
   "source": [
    "from collections import Counter\n",
    "import sys\n",
    "\n",
    "def merge_sort(array):\n",
    "    if len(array)<=1:\n",
    "        return array\n",
    "    result=[]\n",
    "    mid=len(array)//2\n",
    "    group1=merge_sort(array[:mid])\n",
    "    group2=merge_sort(array[mid:])\n",
    "\n",
    "    while group1 and group2:\n",
    "        if group1[0]<group2[0]:\n",
    "            result.append(group1.pop(0))\n",
    "        else:\n",
    "            result.append(group2.pop(0))\n",
    "    while group1:\n",
    "        result.append(group1.pop(0))\n",
    "    while group2:\n",
    "        result.append(group2.pop(0))\n",
    "    return result\n",
    "\n",
    "n=int(input())\n",
    "\n",
    "array=[]\n",
    "for _ in range(n):\n",
    "    array.append(int(input()))\n",
    "\n",
    "array=merge_sort(array)\n",
    "\n",
    "#d={}\n",
    "d=Counter(array)\n",
    "\n",
    "result = [k for k,v in d.items() if v==max(d.values())]\n",
    "\n",
    "if len(result)>1:\n",
    "    print(min(result))\n",
    "elif len(result)<=1:\n",
    "    print(result[0])\n",
    "\n",
    "##시간초과"
   ]
  },
  {
   "cell_type": "markdown",
   "metadata": {},
   "source": [
    "## 시간초과가 나타남\n",
    "### 따라서 dictionary를 이용하여 정렬을 해준다."
   ]
  },
  {
   "cell_type": "code",
   "execution_count": 5,
   "metadata": {},
   "outputs": [
    {
     "name": "stdout",
     "output_type": "stream",
     "text": [
      "5\n",
      "1\n",
      "2\n",
      "1\n",
      "2\n",
      "1\n",
      "1\n"
     ]
    }
   ],
   "source": [
    "from sys import stdin\n",
    "\n",
    "n = int(input())\n",
    "\n",
    "value={}\n",
    "for _ in range(n):\n",
    "    tmp = int(input())\n",
    "    if tmp not in value:#정수값이 없을 경우\n",
    "        value[tmp]=1\n",
    "    else:\n",
    "        value[tmp]+=1\n",
    "\n",
    "# 제일 많은 빈도수를 가진 정수를 제일 앞으로 하기 위해 -x[1]\n",
    "#만일 최다빈도의 정수가 여러개라면, 작은 것을 먼저 출력 sorted()[0][0]\n",
    "print(sorted(value.items(), key=lambda x : (-x[1],x[0]))[0][0])\n"
   ]
  },
  {
   "cell_type": "code",
   "execution_count": null,
   "metadata": {},
   "outputs": [],
   "source": []
  }
 ],
 "metadata": {
  "kernelspec": {
   "display_name": "Python 3",
   "language": "python",
   "name": "python3"
  },
  "language_info": {
   "codemirror_mode": {
    "name": "ipython",
    "version": 3
   },
   "file_extension": ".py",
   "mimetype": "text/x-python",
   "name": "python",
   "nbconvert_exporter": "python",
   "pygments_lexer": "ipython3",
   "version": "3.8.5"
  }
 },
 "nbformat": 4,
 "nbformat_minor": 4
}
