{
 "cells": [
  {
   "cell_type": "code",
   "execution_count": 2,
   "metadata": {},
   "outputs": [
    {
     "name": "stdout",
     "output_type": "stream",
     "text": [
      "6\n",
      "9\n",
      "1 2 5\n",
      "1 3 4\n",
      "2 3 2\n",
      "2 4 7\n",
      "3 4 6\n",
      "3 5 11\n",
      "4 5 3\n",
      "4 6 8\n",
      "5 6 8\n",
      "최소 신장 트리를 이용한 최소 비용 :  23\n"
     ]
    }
   ],
   "source": [
    "parent=dict()\n",
    "rank=dict()\n",
    "\n",
    "def union(node_v,node_u):\n",
    "    root1=find(node_v)\n",
    "    root2=find(node_u)\n",
    "\n",
    "    if rank[root1]>rank[root2]:\n",
    "        parent[root2]=root1\n",
    "    else:\n",
    "        parent[root1]=root2\n",
    "\n",
    "        if rank[root1]==rank[root2]:\n",
    "            rank[root1]+=1\n",
    "\n",
    "\n",
    "def find(node):\n",
    "    if parent[node]!=node:\n",
    "        parent[node]=find(parent[node])\n",
    "    return parent[node]\n",
    "\n",
    "\n",
    "def make_set(node):\n",
    "    parent[node]=node\n",
    "    rank[node]=0\n",
    "\n",
    "def kruskal(graph):\n",
    "    \n",
    "    mst=list()\n",
    "\n",
    "    for node in graph['vertices']:\n",
    "        make_set(node)\n",
    "\n",
    "\n",
    "    edges = graph['edges']\n",
    "    edges.sort()\n",
    "\n",
    "    for edge in edges:\n",
    "        weight,node_v,node_u=edge\n",
    "        if find(node_v)!=find(node_u):\n",
    "            union(node_v,node_u)\n",
    "            mst.append(edge)\n",
    "\n",
    "    return mst\n",
    "\n",
    "\n",
    "\n",
    "n=int(input())\n",
    "m=int(input())\n",
    "\n",
    "graph={\n",
    "    'vertices':[],\n",
    "    'edges':[]\n",
    "    }\n",
    "for i in range(1,n+1):\n",
    "    graph['vertices'].append(i)\n",
    "\n",
    "for _ in range(m):\n",
    "    a,b,c = map(int, input().split())\n",
    "    graph['edges'].append([c,a,b])\n",
    "\n",
    "s=0\n",
    "for array in kruskal(graph):\n",
    "   s+=array[0]\n",
    "\n",
    "print(\"최소 신장 트리를 이용한 최소 비용 : \",s)\n",
    "\n"
   ]
  },
  {
   "cell_type": "code",
   "execution_count": null,
   "metadata": {},
   "outputs": [],
   "source": []
  }
 ],
 "metadata": {
  "kernelspec": {
   "display_name": "Python 3",
   "language": "python",
   "name": "python3"
  },
  "language_info": {
   "codemirror_mode": {
    "name": "ipython",
    "version": 3
   },
   "file_extension": ".py",
   "mimetype": "text/x-python",
   "name": "python",
   "nbconvert_exporter": "python",
   "pygments_lexer": "ipython3",
   "version": "3.8.5"
  }
 },
 "nbformat": 4,
 "nbformat_minor": 4
}
