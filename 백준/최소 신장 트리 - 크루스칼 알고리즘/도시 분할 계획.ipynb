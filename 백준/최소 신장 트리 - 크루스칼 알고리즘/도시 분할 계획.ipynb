{
 "cells": [
  {
   "cell_type": "code",
   "execution_count": 1,
   "metadata": {},
   "outputs": [
    {
     "name": "stdout",
     "output_type": "stream",
     "text": [
      "7 12\n",
      "1 2 3\n",
      "1 3 2\n",
      "3 2 1\n",
      "2 5 2\n",
      "3 4 4\n",
      "7 3 6\n",
      "5 1 5\n",
      "1 6 2\n",
      "6 4 1\n",
      "6 5 3\n",
      "4 5 3\n",
      "6 7 4\n",
      "8\n"
     ]
    }
   ],
   "source": [
    "parent=dict()\n",
    "rank=dict()\n",
    "\n",
    "def union(node_v,node_u):\n",
    "    root1=find(node_v)\n",
    "    root2=find(node_u)\n",
    "\n",
    "    if rank[root1]>rank[root2]:\n",
    "        parent[root2]=root1\n",
    "    else:\n",
    "        parent[root1]=root2\n",
    "\n",
    "        if rank[root1]==rank[root2]:\n",
    "            rank[root1]+=1\n",
    "\n",
    "def find(node):\n",
    "    if parent[node]!=node:\n",
    "        parent[node]=find(parent[node])\n",
    "    return parent[node]\n",
    "\n",
    "def make_set(node):\n",
    "    parent[node]=node\n",
    "    rank[node]=0\n",
    "\n",
    "def kruskal(graph):\n",
    "\n",
    "    mst=list()\n",
    "\n",
    "    for node in graph['vertices']:\n",
    "        make_set(node)\n",
    "\n",
    "    edges = graph['edges']\n",
    "    edges.sort()\n",
    "\n",
    "    for edge in edges:\n",
    "        weight,node_v,node_u=edge\n",
    "        if find(node_v)!=find(node_u):\n",
    "            union(node_v, node_u)\n",
    "            mst.append(edge)\n",
    "\n",
    "    \n",
    "\n",
    "    return mst\n",
    "\n",
    "v,e=map(int,input().split())\n",
    "\n",
    "graph={\n",
    "    'vertices':[],\n",
    "    'edges':[]\n",
    "    }\n",
    "\n",
    "for i in range(1,v+1):\n",
    "    graph['vertices'].append(i)\n",
    "\n",
    "for _ in range(e):\n",
    "    a,b,c=map(int, input().split())\n",
    "    graph['edges'].append([c,a,b])\n",
    "s=0\n",
    "array=kruskal(graph)\n",
    "for i in range(len(array)-1):\n",
    "    s+=array[i][0]\n",
    "\n",
    "print(s)\n",
    "    \n"
   ]
  },
  {
   "cell_type": "markdown",
   "metadata": {},
   "source": [
    "<pre>\n",
    "MST를 사용하고, 유지비용을 최소한을 시키고 최소화하는 과정에서 나타난 유지비용이 큰 값을 빼주면 된다.\n",
    "</pre>"
   ]
  },
  {
   "cell_type": "code",
   "execution_count": null,
   "metadata": {},
   "outputs": [],
   "source": []
  }
 ],
 "metadata": {
  "kernelspec": {
   "display_name": "Python 3",
   "language": "python",
   "name": "python3"
  },
  "language_info": {
   "codemirror_mode": {
    "name": "ipython",
    "version": 3
   },
   "file_extension": ".py",
   "mimetype": "text/x-python",
   "name": "python",
   "nbconvert_exporter": "python",
   "pygments_lexer": "ipython3",
   "version": "3.8.5"
  }
 },
 "nbformat": 4,
 "nbformat_minor": 4
}
