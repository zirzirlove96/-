{
 "cells": [
  {
   "cell_type": "code",
   "execution_count": 10,
   "metadata": {},
   "outputs": [
    {
     "name": "stdout",
     "output_type": "stream",
     "text": [
      "5 8 20\n",
      "Case 1: 14\n",
      "5 8 17\n",
      "Case 2: 11\n",
      "0 0 0\n"
     ]
    }
   ],
   "source": [
    "i=0\n",
    "while True:\n",
    "    l,p,v=map(int, input().split())\n",
    "    count=0\n",
    "    i+=1\n",
    "    if l+p+v==0:\n",
    "        break\n",
    "    else:\n",
    "        vacation=v\n",
    "        while vacation>0:\n",
    "            vacation-=l\n",
    "            vacation=vacation-(p-l)\n",
    "            count+=1\n",
    "        print(\"Case\",i,end='')\n",
    "        print(\":\",v-(p-l)*(count-1))\n"
   ]
  },
  {
   "cell_type": "markdown",
   "metadata": {},
   "source": [
    "<pre>\n",
    "빼기 말고 다른 방법을 생각해 보자.\n",
    "</pre>"
   ]
  },
  {
   "cell_type": "code",
   "execution_count": 11,
   "metadata": {},
   "outputs": [
    {
     "name": "stdout",
     "output_type": "stream",
     "text": [
      "5 8 20\n",
      "Case 1: 14\n",
      "5 8 17\n",
      "Case 2: 11\n",
      "0 0 0\n"
     ]
    }
   ],
   "source": [
    "i=0\n",
    "while True:\n",
    "    l,p,v=map(int, input().split())\n",
    "    count=0\n",
    "    i+=1\n",
    "    if l+p+v==0:\n",
    "        break\n",
    "    count=(v//p)*l#v//p동안 반복되는 동안 v//p*l을 휴가를 사용하게 된다.\n",
    "    count+=min((v%p),l)#반복한 후 남은 기간에 얼마나 머무는 지에 대해 나머지를 구하면 된다.\n",
    "    #머물 수 없는 기간이 존재하므로 min을 사용하여 작은 값은 더해 준다.\n",
    "    print(\"Case %d: %d\"%(i,count))"
   ]
  },
  {
   "cell_type": "code",
   "execution_count": null,
   "metadata": {},
   "outputs": [],
   "source": []
  }
 ],
 "metadata": {
  "kernelspec": {
   "display_name": "Python 3",
   "language": "python",
   "name": "python3"
  },
  "language_info": {
   "codemirror_mode": {
    "name": "ipython",
    "version": 3
   },
   "file_extension": ".py",
   "mimetype": "text/x-python",
   "name": "python",
   "nbconvert_exporter": "python",
   "pygments_lexer": "ipython3",
   "version": "3.8.3"
  }
 },
 "nbformat": 4,
 "nbformat_minor": 4
}
