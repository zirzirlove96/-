{
 "cells": [
  {
   "cell_type": "code",
   "execution_count": 1,
   "metadata": {},
   "outputs": [
    {
     "name": "stdout",
     "output_type": "stream",
     "text": [
      "2\n",
      "GCF\n",
      "ACDEB\n",
      "[('A', 10000), ('C', 1010), ('D', 100), ('G', 100), ('E', 10), ('B', 1), ('F', 1)]\n",
      "99437\n"
     ]
    }
   ],
   "source": [
    "n=int(input())\n",
    "\n",
    "array=[]\n",
    "for _ in range(n):\n",
    "    array.append(input())\n",
    "\n",
    "#길이가 긴 순서대로\n",
    "array=sorted(array,key=lambda x:len(x),reverse=True)\n",
    "\n",
    "#9부터\n",
    "num=9\n",
    "charDic={}\n",
    "for i in range(len(array)):\n",
    "    for j in range(len(array[i])):\n",
    "        if array[i][j] not in charDic:\n",
    "            #A부터 pow를 하여 10**길이 만큼 해준다.\n",
    "            #덧셈을 위해 제일 앞에 있는 알파벳에 그 길이만큼을 곱해 준다.\n",
    "            charDic[array[i][j]] = pow(10,len(array[i])-j-1)\n",
    "        else:\n",
    "            #charDic에 중복될 경우는 값을 더해준다.\n",
    "            charDic[array[i][j]] += pow(10,len(array[i])-j-1)\n",
    "\n",
    "#dictionary 타입을 배열로 만들어 주는데, 수가 큰 순서대로 해준다.\n",
    "charDic = sorted(charDic.items(),key=lambda x:x[1],reverse=True)\n",
    "print(charDic)\n",
    "\n",
    "s=0\n",
    "for i in range(len(charDic)):\n",
    "    #큰 숫자부터 9부터 곱해주어 제일 큰 값을 나타내는 탐욕법을 완성!\n",
    "    s+=charDic[i][1]*num\n",
    "    num-=1\n",
    "print(s)"
   ]
  },
  {
   "cell_type": "markdown",
   "metadata": {},
   "source": [
    "<pre>\n",
    "이렇게 숫자를 이용하여 가장 큰 값을 갖도록 하는 탐욕법도 있다.\n",
    "</pre>"
   ]
  },
  {
   "cell_type": "code",
   "execution_count": null,
   "metadata": {},
   "outputs": [],
   "source": []
  }
 ],
 "metadata": {
  "kernelspec": {
   "display_name": "Python 3",
   "language": "python",
   "name": "python3"
  },
  "language_info": {
   "codemirror_mode": {
    "name": "ipython",
    "version": 3
   },
   "file_extension": ".py",
   "mimetype": "text/x-python",
   "name": "python",
   "nbconvert_exporter": "python",
   "pygments_lexer": "ipython3",
   "version": "3.8.5"
  }
 },
 "nbformat": 4,
 "nbformat_minor": 4
}
