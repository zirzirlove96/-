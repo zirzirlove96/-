{
 "cells": [
  {
   "cell_type": "code",
   "execution_count": 1,
   "metadata": {},
   "outputs": [
    {
     "name": "stdout",
     "output_type": "stream",
     "text": [
      "2\n",
      "10\n",
      "15\n",
      "20\n"
     ]
    }
   ],
   "source": [
    "n=int(input())\n",
    "\n",
    "array=list()\n",
    "for _ in range(n):\n",
    "    array.append(int(input()))\n",
    "\n",
    "array.sort()\n",
    "\n",
    "m=0\n",
    "for i in range(n):\n",
    "    m=max(m,array[i]*(n-i))#무게의 작은 것부터 개수를 줄여 곱한 값의 가장 큰 값을 구해준다.\n",
    "\n",
    "print(m)\n"
   ]
  },
  {
   "cell_type": "code",
   "execution_count": null,
   "metadata": {},
   "outputs": [],
   "source": []
  }
 ],
 "metadata": {
  "kernelspec": {
   "display_name": "Python 3",
   "language": "python",
   "name": "python3"
  },
  "language_info": {
   "codemirror_mode": {
    "name": "ipython",
    "version": 3
   },
   "file_extension": ".py",
   "mimetype": "text/x-python",
   "name": "python",
   "nbconvert_exporter": "python",
   "pygments_lexer": "ipython3",
   "version": "3.8.3"
  }
 },
 "nbformat": 4,
 "nbformat_minor": 4
}
