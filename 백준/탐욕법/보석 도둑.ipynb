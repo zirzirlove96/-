{
 "cells": [
  {
   "cell_type": "code",
   "execution_count": 2,
   "metadata": {},
   "outputs": [
    {
     "name": "stdout",
     "output_type": "stream",
     "text": [
      "3 2\n",
      "1 65\n",
      "5 23\n",
      "2 99\n",
      "10\n",
      "2\n",
      "[-99, -65]\n",
      "[-65, -23]\n",
      "164\n"
     ]
    }
   ],
   "source": [
    "import heapq\n",
    "\n",
    "n,k=map(int, input().split())\n",
    "\n",
    "j=[]\n",
    "for _ in range(n):\n",
    "    m,v=map(int, input().split())\n",
    "    heapq.heappush(j,[m,v])#최소힙\n",
    "#[[2, 65], [3, 40], [4, 99]]\n",
    "\n",
    "bag=[]\n",
    "for _ in range(k):\n",
    "    bag.append(int(input()))\n",
    "\n",
    "bag.sort() #3,10\n",
    "\n",
    "p=[]\n",
    "c=0\n",
    "for b in bag:\n",
    "    \n",
    "    while j and b>=j[0][0]:#가방의 무게보다 작은 보석들을 다 heapq로 최대힙으로 넣기\n",
    "        [m,v]=heapq.heappop(j)\n",
    "        heapq.heappush(p,-v)\n",
    "    print(p)\n",
    "\n",
    "    if p:#가방에 넣을 수 있는 보석중 최대로 큰 값을 하나 넣어준다.\n",
    "        #그리고 while문으로 돌아간다.\n",
    "        c-=heapq.heappop(p)\n",
    "    elif not j:\n",
    "        break\n",
    "print(c)"
   ]
  },
  {
   "cell_type": "markdown",
   "metadata": {},
   "source": [
    "<pre>\n",
    "우선순위 큐를 사용하지 않으면 시간초과가 일어난다.\n",
    "따라서 우선순위 큐를 사용해 주고, p라는 공간에 가방의 무게보다 작거나 같은 모든 것들을 넣어주고,\n",
    "<strong>최대힙을 이용하여 연산을 해서 최대값을 구해준다.</strong>\n",
    "</pre>"
   ]
  },
  {
   "cell_type": "code",
   "execution_count": null,
   "metadata": {},
   "outputs": [],
   "source": []
  }
 ],
 "metadata": {
  "kernelspec": {
   "display_name": "Python 3",
   "language": "python",
   "name": "python3"
  },
  "language_info": {
   "codemirror_mode": {
    "name": "ipython",
    "version": 3
   },
   "file_extension": ".py",
   "mimetype": "text/x-python",
   "name": "python",
   "nbconvert_exporter": "python",
   "pygments_lexer": "ipython3",
   "version": "3.8.5"
  }
 },
 "nbformat": 4,
 "nbformat_minor": 4
}
