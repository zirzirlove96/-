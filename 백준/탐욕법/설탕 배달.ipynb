{
 "cells": [
  {
   "cell_type": "code",
   "execution_count": 1,
   "metadata": {},
   "outputs": [
    {
     "name": "stdout",
     "output_type": "stream",
     "text": [
      "18\n",
      "4\n"
     ]
    }
   ],
   "source": [
    "n=int(input())\n",
    "\n",
    "def f(n):\n",
    "    count=0\n",
    "    if n%5==0:\n",
    "        count=n//5\n",
    "    else:\n",
    "        m=n//5\n",
    "\n",
    "        for i in range(m,-1,-1):\n",
    "            k = n - (i*5)\n",
    "            if k%3==0:\n",
    "                count=i+k//3\n",
    "                break\n",
    "    return count\n",
    "\n",
    "result = f(n)\n",
    "if result>0:\n",
    "    print(result)\n",
    "else:\n",
    "    print(-1)\n"
   ]
  },
  {
   "cell_type": "markdown",
   "metadata": {},
   "source": [
    "<pre>\n",
    "간단한 그리디 알고리즘 문제로\n",
    "사칙연산을 통해 값을 구할 수 있었다.\n",
    "</pre>"
   ]
  },
  {
   "cell_type": "code",
   "execution_count": null,
   "metadata": {},
   "outputs": [],
   "source": []
  }
 ],
 "metadata": {
  "kernelspec": {
   "display_name": "Python 3",
   "language": "python",
   "name": "python3"
  },
  "language_info": {
   "codemirror_mode": {
    "name": "ipython",
    "version": 3
   },
   "file_extension": ".py",
   "mimetype": "text/x-python",
   "name": "python",
   "nbconvert_exporter": "python",
   "pygments_lexer": "ipython3",
   "version": "3.8.5"
  }
 },
 "nbformat": 4,
 "nbformat_minor": 4
}
