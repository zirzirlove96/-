{
 "cells": [
  {
   "cell_type": "code",
   "execution_count": 1,
   "metadata": {},
   "outputs": [
    {
     "name": "stdout",
     "output_type": "stream",
     "text": [
      "7\n",
      "1 6\n",
      "1 7\n",
      "3 2\n",
      "3 1\n",
      "2 4\n",
      "2 5\n",
      "6 1\n",
      "[[0], [0, 6, 7], [0, 4, 5], [0, 2, 1], [0], [0], [0, 1]]\n",
      "15\n"
     ]
    }
   ],
   "source": [
    "import heapq\n",
    "\n",
    "n=int(input())\n",
    "\n",
    "array=[[0] for _ in range(n)]\n",
    "for i in range(n):\n",
    "    deadline, cup = map(int, input().split())\n",
    "    heapq.heappush(array[deadline],cup)\n",
    "\n",
    "    #의도대로 데드라인에 맞춰서 들어감\n",
    "print(array)\n",
    "answer=0\n",
    "\n",
    "while array:\n",
    "    if len(array[0])>1:\n",
    "        answer+=max(array[0])\n",
    "        heapq.heappop(array)\n",
    "    else:\n",
    "        heapq.heappop(array)\n",
    "\n",
    "print(answer)\n"
   ]
  },
  {
   "cell_type": "code",
   "execution_count": 3,
   "metadata": {},
   "outputs": [
    {
     "data": {
      "text/plain": [
       "[]"
      ]
     },
     "execution_count": 3,
     "metadata": {},
     "output_type": "execute_result"
    }
   ],
   "source": [
    "[[0, 4, 5], [0, 6, 7], [0], [0, 2, 1], [0], [0, 1]]\n",
    "[[0], [0, 6, 7], [0, 1], [0, 2, 1], [0]]\n",
    "[[0], [0, 6, 7], [0, 1], [0, 2, 1]]\n",
    "[[0, 1], [0, 6, 7], [0, 2, 1]]\n",
    "[[0, 2, 1], [0, 6, 7]]\n",
    "[[0, 6, 7]]\n",
    "[]"
   ]
  },
  {
   "cell_type": "markdown",
   "metadata": {},
   "source": [
    "<pre>\n",
    "그러나 문제에 나온 순서처럼은 heappop이 되지 않는다.\n",
    "여기에서 중요한 점은 내가 데드라인을 생각하지 않았다는 점이다.\n",
    "1시간 동안 2문제를 풀수도 있는 것이고, 1문제만 풀수도 있는 점을 고려하지 않았다.\n",
    "<strong>\n",
    "따라서 데드라인에 맞게 컵라면 수가 많은 것을 골라 heappop을 사용하여 개수를 구해준다.\n",
    "</strong>\n",
    "</pre>"
   ]
  },
  {
   "cell_type": "code",
   "execution_count": 4,
   "metadata": {},
   "outputs": [
    {
     "name": "stdout",
     "output_type": "stream",
     "text": [
      "7\n",
      "1 6\n",
      "1 7\n",
      "3 2\n",
      "3 1\n",
      "2 4\n",
      "2 5\n",
      "6 1\n",
      "[(1, 6), (1, 7), (2, 4), (2, 5), (3, 1), (3, 2), (6, 1)]\n",
      "[6]\n",
      "[6, 7]\n",
      "[4, 7]\n",
      "[4, 7, 5]\n",
      "[1, 7, 5]\n",
      "[1, 2, 5, 7]\n",
      "[1, 2, 5, 7]\n",
      "15\n"
     ]
    }
   ],
   "source": [
    "import heapq\n",
    "\n",
    "n=int(input())\n",
    "\n",
    "array=[]\n",
    "\n",
    "for _ in range(n):\n",
    "    deadline, cupNudle = map(int, input().split())\n",
    "    array.append((deadline, cupNudle))\n",
    "\n",
    "array.sort()\n",
    "print(array)#시간 순으로 나열\n",
    "\n",
    "\n",
    "        \n",
    "\n",
    "q=[]\n",
    "for i in range(len(array)):\n",
    "    heapq.heappush(q,array[i][1])#q에 컵라면 개수를 넣는다\n",
    "    print(q)\n",
    "    #최소 힙이기 때문에 최솟값을 순서로 넣어준다.\n",
    "    if array[i][0]<len(q):#데드라인인 array[i][0]이 q의 길이\n",
    "        #q의 길이는 데드라인과 같다\n",
    "        #만약 array[i][0]==2 q의 길이는 2일 때 q=[6,7]최소 힙으로 인해 이렇게 들어가 있다.\n",
    "        #최소 값인 6이 나간다.\n",
    "        heapq.heappop(q)\n",
    "print(sum(q))\n",
    "\n"
   ]
  },
  {
   "cell_type": "code",
   "execution_count": null,
   "metadata": {},
   "outputs": [],
   "source": []
  }
 ],
 "metadata": {
  "kernelspec": {
   "display_name": "Python 3",
   "language": "python",
   "name": "python3"
  },
  "language_info": {
   "codemirror_mode": {
    "name": "ipython",
    "version": 3
   },
   "file_extension": ".py",
   "mimetype": "text/x-python",
   "name": "python",
   "nbconvert_exporter": "python",
   "pygments_lexer": "ipython3",
   "version": "3.8.5"
  }
 },
 "nbformat": 4,
 "nbformat_minor": 4
}
