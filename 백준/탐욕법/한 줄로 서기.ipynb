{
 "cells": [
  {
   "cell_type": "code",
   "execution_count": 2,
   "metadata": {},
   "outputs": [
    {
     "name": "stdout",
     "output_type": "stream",
     "text": [
      "4\n",
      "2 1 1 0\n",
      "[4, 2, 1, 3]\n"
     ]
    }
   ],
   "source": [
    "\n",
    "n=int(input())\n",
    "s=[-1]+list(map(int, input().split()))\n",
    "line=[]\n",
    "\n",
    "for i in range(n,0,-1):\n",
    "    line.insert(s[i],i)\n",
    "\n",
    "print(line)\n"
   ]
  },
  {
   "cell_type": "markdown",
   "metadata": {},
   "source": [
    "<pre>\n",
    "배열의 insert를 사용하여 index에 들어갈 i번의 숫자를 집어넣어 준다.\n",
    "</pre>"
   ]
  },
  {
   "cell_type": "code",
   "execution_count": null,
   "metadata": {},
   "outputs": [],
   "source": []
  }
 ],
 "metadata": {
  "kernelspec": {
   "display_name": "Python 3",
   "language": "python",
   "name": "python3"
  },
  "language_info": {
   "codemirror_mode": {
    "name": "ipython",
    "version": 3
   },
   "file_extension": ".py",
   "mimetype": "text/x-python",
   "name": "python",
   "nbconvert_exporter": "python",
   "pygments_lexer": "ipython3",
   "version": "3.8.5"
  }
 },
 "nbformat": 4,
 "nbformat_minor": 4
}
