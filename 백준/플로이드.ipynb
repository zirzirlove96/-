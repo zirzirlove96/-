{
 "cells": [
  {
   "cell_type": "code",
   "execution_count": 2,
   "metadata": {},
   "outputs": [
    {
     "name": "stdout",
     "output_type": "stream",
     "text": [
      "1 2 2 \n",
      "1 3 3\n",
      "1 4 1\n",
      "1 5 10\n",
      "2 4 2\n",
      "3 4 1\n",
      "3 5 1\n",
      "4 5 3\n",
      "3 5 10\n",
      "3 1 8\n",
      "1 4 2\n",
      "5 1 7\n",
      "3 4 2\n",
      "5 2 4\n",
      "0 2 3 1 4 \n",
      "12 0 15 2 5 \n",
      "8 5 0 1 1 \n",
      "10 7 13 0 3 \n",
      "7 4 10 6 0 \n"
     ]
    }
   ],
   "source": [
    "import sys\n",
    "\n",
    "n = 5#도시의 개수\n",
    "m = 14#버스의 개수\n",
    "INF = sys.maxsize\n",
    "node = [[INF]*(n+1) for _ in range(n+1)]\n",
    "\n",
    "for _ in range(m):\n",
    "    a,b,c=map(int, input().split())\n",
    "    node[a][b]=min(c,node[a][b])\n",
    "\n",
    "#print(node)\n",
    "for i in range(1,n+1):\n",
    "    for j in range(1,n+1):\n",
    "        for k in range(1,n+1):\n",
    "            if j==k:\n",
    "                node[j][k]=0\n",
    "            else:\n",
    "                node[j][k]=min(node[j][k],node[j][i]+node[i][k])\n",
    "\n",
    "\n",
    "for i in range(1,n+1):\n",
    "    for j in range(1,n+1):\n",
    "        if node[i][j]==INF:#INF인 것을 0으로 지정해야 출력초과가 나오지 않는다.\n",
    "            print(0,end=' ')\n",
    "        else:\n",
    "            print(node[i][j],end=' ')\n",
    "    print()\n"
   ]
  },
  {
   "cell_type": "code",
   "execution_count": null,
   "metadata": {},
   "outputs": [],
   "source": []
  }
 ],
 "metadata": {
  "kernelspec": {
   "display_name": "Python 3",
   "language": "python",
   "name": "python3"
  },
  "language_info": {
   "codemirror_mode": {
    "name": "ipython",
    "version": 3
   },
   "file_extension": ".py",
   "mimetype": "text/x-python",
   "name": "python",
   "nbconvert_exporter": "python",
   "pygments_lexer": "ipython3",
   "version": "3.8.5"
  }
 },
 "nbformat": 4,
 "nbformat_minor": 4
}
