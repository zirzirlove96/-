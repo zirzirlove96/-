{
 "cells": [
  {
   "cell_type": "code",
   "execution_count": 1,
   "metadata": {},
   "outputs": [
    {
     "name": "stdout",
     "output_type": "stream",
     "text": [
      "10\n",
      "65 73 66 87 92 67 55 79 75 80\n",
      "74 9\n"
     ]
    }
   ],
   "source": [
    "n=int(input())\n",
    "score = list(map(int, input().split()))\n",
    "s=sum(score)/n\n",
    "av=round(s)\n",
    "arr=[]\n",
    "\n",
    "for i in score:\n",
    "    arr.append(av-i)\n",
    "\n",
    "arrMin=-float('inf')\n",
    "arr2=[]\n",
    "for j in arr:\n",
    "    if j==0:\n",
    "        print(av,j)\n",
    "        #arr2.append([av,j])\n",
    "    elif j<0 and j>arrMin:\n",
    "        arrMin=j#평균값보다 크면서 제일 가까운 값을 구해준다.\n",
    "    \n",
    "\n",
    "for k in range(n):\n",
    "    if arr[k]==arrMin:\n",
    "        print(av,k+1)\n"
   ]
  },
  {
   "cell_type": "markdown",
   "metadata": {},
   "source": [
    "<pre>\n",
    "여기에서 주의할 점은 round 라는 함수가\n",
    "기본적으로 round_half_even 규칙을 취하고 있다는 점이다.\n",
    "<strong>round_half_even</strong>은 근사값이 짝수값에 가깝다는 것이다.\n",
    "예를 들어 4.500 일경우 4이고, 4.511과 같이 반올림할 수 있는 값이 있다면 5이다.\n",
    "\n",
    "그렇기때문에 첫번째 소수점자리에 0.5를 더해 round함수를 사용해 준다.\n",
    "66.5일 경우 반올림할때 67인데, round의 규칙상 round_half_even으로 인해 66이다.\n",
    "하지만 0.5를 더하면 67.0이므로 67를 유지한다.\n",
    "</pre>"
   ]
  },
  {
   "cell_type": "code",
   "execution_count": 1,
   "metadata": {},
   "outputs": [
    {
     "name": "stdout",
     "output_type": "stream",
     "text": [
      "10\n",
      "65 73 66 87 92 67 55 79 75 80\n",
      "74 9\n"
     ]
    }
   ],
   "source": [
    "n=int(input())\n",
    "score = list(map(int, input().split()))\n",
    "s=sum(score)/n\n",
    "av=round(s+0.5)#근사값을 지정하기 위해\n",
    "arr=[]\n",
    "\n",
    "for i in score:\n",
    "    arr.append(av-i)\n",
    "\n",
    "arrMin=-float('inf')\n",
    "arr2=[]\n",
    "for j in arr:\n",
    "    if j==0:\n",
    "        print(av,j)\n",
    "        #arr2.append([av,j])\n",
    "    elif j<0 and j>arrMin:\n",
    "        arrMin=j#평균값보다 크면서 제일 가까운 값을 구해준다.\n",
    "    \n",
    "\n",
    "for k in range(n):\n",
    "    if arr[k]==arrMin:\n",
    "        print(av,k+1)\n"
   ]
  },
  {
   "cell_type": "code",
   "execution_count": null,
   "metadata": {},
   "outputs": [],
   "source": []
  }
 ],
 "metadata": {
  "kernelspec": {
   "display_name": "Python 3",
   "language": "python",
   "name": "python3"
  },
  "language_info": {
   "codemirror_mode": {
    "name": "ipython",
    "version": 3
   },
   "file_extension": ".py",
   "mimetype": "text/x-python",
   "name": "python",
   "nbconvert_exporter": "python",
   "pygments_lexer": "ipython3",
   "version": "3.8.3"
  }
 },
 "nbformat": 4,
 "nbformat_minor": 4
}
