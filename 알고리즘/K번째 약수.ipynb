{
 "cells": [
  {
   "cell_type": "code",
   "execution_count": 1,
   "metadata": {},
   "outputs": [
    {
     "name": "stdout",
     "output_type": "stream",
     "text": [
      "6 3\n",
      "3\n"
     ]
    }
   ],
   "source": [
    "n,k=map(int, input().split())\n",
    "array=[]\n",
    "\n",
    "for i in range(1,n):\n",
    "    if n%i*i==0:\n",
    "        array.append(i)\n",
    "\n",
    "array.append(n)\n",
    "\n",
    "try:\n",
    "    print(array[k-1])\n",
    "except:\n",
    "    print(-1)\n"
   ]
  },
  {
   "cell_type": "markdown",
   "metadata": {},
   "source": [
    "<pre>\n",
    "위의 풀이법은 약수를 구한 뒤 \n",
    "k번째 배열 값을 찾아내는 방식\n",
    "</pre>"
   ]
  },
  {
   "cell_type": "code",
   "execution_count": 2,
   "metadata": {},
   "outputs": [
    {
     "name": "stdout",
     "output_type": "stream",
     "text": [
      "6 3\n",
      "3\n"
     ]
    }
   ],
   "source": [
    "n,k=map(int, input().split())\n",
    "\n",
    "count=0\n",
    "for i in range(1,n):\n",
    "    if n%i==0:\n",
    "       count+=1\n",
    "    if count==k:\n",
    "        print(i)\n",
    "        break\n",
    "else:\n",
    "    print(-1)"
   ]
  },
  {
   "cell_type": "markdown",
   "metadata": {},
   "source": [
    "<pre>\n",
    "count를 이용하여 k번째에 도달하면 i값을 즉 k번째의 약수를 뽑아내는 것이다.\n",
    "<strong>for else 문</strong>은\n",
    "for문안에 if문의 break에 걸려 탈출하지 못하고 정상적으로 탈출했을 때\n",
    "<strong>즉 k번째 배열의 수가 없을 때</strong>\n",
    "else문을 받아 값을 출력해 준다.\n",
    "</pre>"
   ]
  },
  {
   "cell_type": "code",
   "execution_count": null,
   "metadata": {},
   "outputs": [],
   "source": []
  }
 ],
 "metadata": {
  "kernelspec": {
   "display_name": "Python 3",
   "language": "python",
   "name": "python3"
  },
  "language_info": {
   "codemirror_mode": {
    "name": "ipython",
    "version": 3
   },
   "file_extension": ".py",
   "mimetype": "text/x-python",
   "name": "python",
   "nbconvert_exporter": "python",
   "pygments_lexer": "ipython3",
   "version": "3.10.9 (tags/v3.10.9:1dd9be6, Dec  6 2022, 20:01:21) [MSC v.1934 64 bit (AMD64)]"
  },
  "vscode": {
   "interpreter": {
    "hash": "3a8bb4f61088c3cbe6f1bbb6405b616f5524f8a10600021fd89cb9e7d9dddb99"
   }
  }
 },
 "nbformat": 4,
 "nbformat_minor": 4
}
