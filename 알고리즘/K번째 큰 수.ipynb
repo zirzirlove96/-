{
 "cells": [
  {
   "cell_type": "code",
   "execution_count": 1,
   "metadata": {},
   "outputs": [
    {
     "name": "stdout",
     "output_type": "stream",
     "text": [
      "10 3\n",
      "13 15 34 23 45 65 33 11 26 42\n",
      "143\n"
     ]
    }
   ],
   "source": [
    "n,k=map(int, input().split())\n",
    "array=list(map(int, input().split()))\n",
    "s=list()\n",
    "\n",
    "#3중 포문\n",
    "for i in range(n-2):\n",
    "    for j in range(i+1,n-1):\n",
    "        for q in range(j+1,n):\n",
    "            s.append(array[i]+array[j]+array[q])\n",
    "            \n",
    "#중복된 값들을 없애기 위해 set\n",
    "set(s)\n",
    "s.sort(reverse=True)\n",
    "print(s[k-1])\n"
   ]
  },
  {
   "cell_type": "markdown",
   "metadata": {},
   "source": [
    "<pre>\n",
    "set은 중복값을 없애기 위해 사용하고\n",
    "따로 정렬을 할 수 없다. 따라서 list()화 시키고 정렬을 해야 한다.\n",
    "</pre>"
   ]
  },
  {
   "cell_type": "code",
   "execution_count": null,
   "metadata": {},
   "outputs": [],
   "source": [
    "n,k=map(int, input().split())\n",
    "array=list(map(int, input().split()))\n",
    "s=set()\n",
    "#처음부터 set으로 설정\n",
    "\n",
    "#3중 포문\n",
    "for i in range(n-2):\n",
    "    for j in range(i+1,n-1):\n",
    "        for q in range(j+1,n):\n",
    "            s.add(array[i]+array[j]+array[q])#append()대신에 add()사용\n",
    "\n",
    "#set은 sort()가 없기 때문에 list()화 시키고 sort시킨다.\n",
    "s = list(s)\n",
    "s.sort(reverse=True)\n",
    "print(s[k-1])\n"
   ]
  }
 ],
 "metadata": {
  "kernelspec": {
   "display_name": "Python 3",
   "language": "python",
   "name": "python3"
  },
  "language_info": {
   "codemirror_mode": {
    "name": "ipython",
    "version": 3
   },
   "file_extension": ".py",
   "mimetype": "text/x-python",
   "name": "python",
   "nbconvert_exporter": "python",
   "pygments_lexer": "ipython3",
   "version": "3.8.3"
  }
 },
 "nbformat": 4,
 "nbformat_minor": 4
}
