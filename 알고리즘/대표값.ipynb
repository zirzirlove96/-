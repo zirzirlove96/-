{
 "cells": [
  {
   "cell_type": "code",
   "execution_count": 1,
   "metadata": {},
   "outputs": [
    {
     "name": "stdout",
     "output_type": "stream",
     "text": [
      "10\n",
      "65 73 66 87 92 67 55 79 75 80\n",
      "74 9\n"
     ]
    }
   ],
   "source": [
    "n=int(input())\n",
    "score = list(map(int, input().split()))\n",
    "s=sum(score)/n\n",
    "av=round(s)\n",
    "arr=[]\n",
    "\n",
    "for i in score:\n",
    "    arr.append(av-i)\n",
    "\n",
    "arrMin=-float('inf')\n",
    "arr2=[]\n",
    "for j in arr:\n",
    "    if j==0:\n",
    "        print(av,j)\n",
    "        #arr2.append([av,j])\n",
    "    elif j<0 and j>arrMin:\n",
    "        arrMin=j#평균값보다 크면서 제일 가까운 값을 구해준다.\n",
    "    \n",
    "\n",
    "for k in range(n):\n",
    "    if arr[k]==arrMin:\n",
    "        print(av,k+1)\n"
   ]
  },
  {
   "cell_type": "code",
   "execution_count": null,
   "metadata": {},
   "outputs": [],
   "source": []
  }
 ],
 "metadata": {
  "kernelspec": {
   "display_name": "Python 3",
   "language": "python",
   "name": "python3"
  },
  "language_info": {
   "codemirror_mode": {
    "name": "ipython",
    "version": 3
   },
   "file_extension": ".py",
   "mimetype": "text/x-python",
   "name": "python",
   "nbconvert_exporter": "python",
   "pygments_lexer": "ipython3",
   "version": "3.8.3"
  }
 },
 "nbformat": 4,
 "nbformat_minor": 4
}
