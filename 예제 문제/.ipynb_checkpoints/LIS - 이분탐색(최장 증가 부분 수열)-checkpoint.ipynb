{
 "cells": [
  {
   "cell_type": "code",
   "execution_count": null,
   "metadata": {},
   "outputs": [],
   "source": [
    "def find(target):\n",
    "    start=1\n",
    "    end=len(stack)-1\n",
    "\n",
    "    #= 부등호가 들어가지 않는 이유 : target보다 큰 수 중 가장 작은 값을 가르키므로\n",
    "    while start<end:\n",
    "        mid=(start+end)//2\n",
    "        if stack[mid]<target:\n",
    "            start=mid+1\n",
    "        else:\n",
    "            #mid-1을 하지 않는 이유는 찾으려는 값이 없다면 그것보다 큰 값을 넘겨야 하므로\n",
    "            end=mid\n",
    "\n",
    "    return end\n",
    "\n",
    "\n",
    "n=int(input())\n",
    "array=list(map(int, input().split()))\n",
    "stack=[0]#여기에 들어간 값보다 클 경우 넣어준다.\n",
    "\n",
    "for a in array:\n",
    "    #stack배열의 끝 숫자가 a보다 작을 경우 넣어준다.\n",
    "    #길이가 길다는 증거\n",
    "    if stack[-1]<a:\n",
    "        stack.append(a)\n",
    "    #find 함수를 사용하여 a의 자리를 구해준다.\n",
    "    else:\n",
    "        stack[find(a)]=a\n",
    "\n",
    "\n",
    "        \n",
    "print(len(stack)-1)\n"
   ]
  },
  {
   "cell_type": "code",
   "execution_count": null,
   "metadata": {},
   "outputs": [],
   "source": []
  },
  {
   "cell_type": "markdown",
   "metadata": {},
   "source": [
    "<pre>\n",
    "LIS에서 사용하는 알고리즘 중의 하나이다. \n",
    "end=mid-1과 =부등호를 넣지 않고 수행해야 한다.\n",
    "</pre>"
   ]
  },
  {
   "cell_type": "code",
   "execution_count": null,
   "metadata": {},
   "outputs": [],
   "source": [
    "n=int(input())\n",
    "array=list(map(int, input().split()))\n",
    "\n",
    "#다이나믹 알고리즘을 이용한 LIS알고리즘이다.\n",
    "dp=[1 for i in range(n)]\n",
    "\n",
    "#dp는 array[i]를 마지막 값으로 가지는 값을 비교하여 증가하는 것이다.\n",
    "#현재 위치보다 이전에 있는 배열의 값이 작은지 확인(크거나 같으면 긴 증가 수열이 될 수 없다.)\n",
    "#작다면, 현재 위치와 이전 숫자+1 값 중 큰 값을 내놓는다.\n",
    "for i in range(n):\n",
    "    for j in range(i):\n",
    "        if array[i]>array[j]:\n",
    "            dp[i]=max(dp[i],dp[j]+1)\n",
    "\n",
    "print(max(dp))\n"
   ]
  },
  {
   "cell_type": "code",
   "execution_count": null,
   "metadata": {},
   "outputs": [],
   "source": []
  }
 ],
 "metadata": {
  "kernelspec": {
   "display_name": "Python 3",
   "language": "python",
   "name": "python3"
  },
  "language_info": {
   "codemirror_mode": {
    "name": "ipython",
    "version": 3
   },
   "file_extension": ".py",
   "mimetype": "text/x-python",
   "name": "python",
   "nbconvert_exporter": "python",
   "pygments_lexer": "ipython3",
   "version": "3.8.3"
  }
 },
 "nbformat": 4,
 "nbformat_minor": 4
}
