{
 "cells": [
  {
   "cell_type": "markdown",
   "metadata": {},
   "source": [
    "# 병합정렬\n",
    "## O(logn) -> 병합정렬이 정렬들 중에서 제일 빠르다.\n",
    "## 분할, 정복"
   ]
  },
  {
   "cell_type": "code",
   "execution_count": 1,
   "metadata": {},
   "outputs": [],
   "source": [
    "입력값 = [5,10,66,77,54,32,11,15]\n",
    "전체인덱스 = 7\n",
    "중간값 = 7 // 2 # 3"
   ]
  },
  {
   "cell_type": "code",
   "execution_count": 2,
   "metadata": {},
   "outputs": [
    {
     "data": {
      "text/plain": [
       "[54, 32, 11, 15]"
      ]
     },
     "execution_count": 2,
     "metadata": {},
     "output_type": "execute_result"
    }
   ],
   "source": [
    "입력값[:중간값+1]\n",
    "입력값[중간값+1:]"
   ]
  },
  {
   "cell_type": "markdown",
   "metadata": {},
   "source": [
    "<pre>\n",
    "# 분할\n",
    "[5,10,66,77,54,32,11,15]\n",
    "[5,10,66,77],[54,32,11,15]\n",
    "[5,10],[66,77],[54,32],[11,15]\n",
    "[5],[10],[66],[77],[54],[32],[11],[15]\n",
    "# 정복\n",
    "[5],[10],[66],[77],[54],[32],[11],[15]\n",
    "#뒤의값과 비교\n",
    "[5,10],[66,77],[32,54],[11,15]\n",
    "#여기에서 중요한 점은 5와 66을 비교하여 작은 값을 앞으로\n",
    "[],[],[],[]# 정렬로 쓰였으므로 비우게 된다.\n",
    "[5,10,66,77],[11,15,32,54]\n",
    "[5,10,66,77,54,32,11,15]"
   ]
  },
  {
   "cell_type": "code",
   "execution_count": 22,
   "metadata": {},
   "outputs": [
    {
     "name": "stdout",
     "output_type": "stream",
     "text": [
      "[5, 10, 11, 15, 32, 54, 66, 77]\n"
     ]
    }
   ],
   "source": [
    "#재귀함수를 사용한다.\n",
    "def 병합정렬(입력리스트):\n",
    "    입력리스트의길이 = len(입력리스트)\n",
    "    결과값=[]#정복할 리스트\n",
    "    if 입력리스트의길이<=1:\n",
    "        return 입력리스트\n",
    "    중간값 = 입력리스트의길이 // 2\n",
    "    #분할\n",
    "    그룹_하나 = 병합정렬(입력리스트[:중간값])\n",
    "    그룹_둘 = 병합정렬(입력리스트[중간값:])\n",
    "    #정복\n",
    "    while 그룹_하나 and 그룹_둘 :\n",
    "        if 그룹_하나[0]<그룹_둘[0]:\n",
    "            결과값.append(그룹_하나.pop(0))\n",
    "        else: #pop을 하는 이유는 리스트를 비우기 위하여\n",
    "            결과값.append(그룹_둘.pop(0))\n",
    "    while 그룹_하나:#그룹_둘이 비어있다면\n",
    "        결과값.append(그룹_하나.pop(0))\n",
    "    while 그룹_둘:\n",
    "        결과값.append(그룹_둘.pop(0))\n",
    "    #'그룹_하나 : {} , 그룹_둘 : {}\\n'.format(그룹_하나,그룹_둘)\n",
    "    return 결과값\n",
    "\n",
    "print(병합정렬([5,10,66,77,54,32,11,15]))"
   ]
  },
  {
   "cell_type": "code",
   "execution_count": 23,
   "metadata": {},
   "outputs": [
    {
     "name": "stdout",
     "output_type": "stream",
     "text": [
      "[5, 10, 11, 15, 32, 54, 66, 77]\n"
     ]
    }
   ],
   "source": [
    "def merge_sort(array):\n",
    "    if len(array)<=1:\n",
    "        return array\n",
    "    mid=len(array)//2\n",
    "    #divide\n",
    "    array1=merge_sort(array[:mid])\n",
    "    array2=merge_sort(array[mid:])\n",
    "    #conquer\n",
    "    result=[] \n",
    "    while array1 and array2:\n",
    "        if array1[0]<array2[0]:\n",
    "            result.append(array1.pop(0))\n",
    "        else:\n",
    "            result.append(array2.pop(0))\n",
    "    while array1:\n",
    "        result.append(array1.pop(0))\n",
    "    while array2:\n",
    "        result.append(array2.pop(0))\n",
    "    \n",
    "    return result\n",
    "\n",
    "print(merge_sort([5,10,66,77,54,32,11,15]))"
   ]
  },
  {
   "cell_type": "code",
   "execution_count": null,
   "metadata": {},
   "outputs": [],
   "source": []
  }
 ],
 "metadata": {
  "kernelspec": {
   "display_name": "Python 3",
   "language": "python",
   "name": "python3"
  },
  "language_info": {
   "codemirror_mode": {
    "name": "ipython",
    "version": 3
   },
   "file_extension": ".py",
   "mimetype": "text/x-python",
   "name": "python",
   "nbconvert_exporter": "python",
   "pygments_lexer": "ipython3",
   "version": "3.8.5"
  }
 },
 "nbformat": 4,
 "nbformat_minor": 4
}
