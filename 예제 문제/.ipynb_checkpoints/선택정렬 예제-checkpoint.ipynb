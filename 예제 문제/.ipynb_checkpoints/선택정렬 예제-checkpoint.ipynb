{
 "cells": [
  {
   "cell_type": "markdown",
   "metadata": {},
   "source": [
    "## 선택정렬\n",
    "\n",
    "#### list안에서 최소값을 찾아 다른 리스트 안에 넣어 정렬하는 방식이다."
   ]
  },
  {
   "cell_type": "code",
   "execution_count": 10,
   "metadata": {},
   "outputs": [
    {
     "data": {
      "text/plain": [
       "[5, 10, 11, 15, 32, 54, 66, 77]"
      ]
     },
     "execution_count": 10,
     "metadata": {},
     "output_type": "execute_result"
    }
   ],
   "source": [
    "input = [5,10,66,77,54,32,11,15] #정렬되지 않은 리스트\n",
    "array_list = [] #정렬하여 새롭게 정의할 리스트\n",
    "\n",
    "while len(input): #input값이 없어질 때 까지\n",
    "    array_list.append(min(input))#제일 작은 값을 넣어준다.\n",
    "    input.pop(input.index(min(input)))# stack형식으로 pop을 해주고 input.index에서 제일 작은 값의 index값을 가져와\n",
    "    #pop해준다.\n",
    "\n",
    "array_list"
   ]
  },
  {
   "cell_type": "code",
   "execution_count": 11,
   "metadata": {},
   "outputs": [
    {
     "name": "stdout",
     "output_type": "stream",
     "text": [
      "1\n"
     ]
    }
   ],
   "source": [
    "input = [5,10,66,77,1,54,32,11,15,2] #내장 함수 min을 대신 할 수 있다.\n",
    "\n",
    "def min_function(list):\n",
    "    MIN = list[0]\n",
    "    #count=0\n",
    "    for i in list:\n",
    "        if MIN > i:\n",
    "            MIN = i\n",
    "            #index = count #최소값의 index값을 나타낼 수 있다.\n",
    "        #count+=1\n",
    "    return MIN\n",
    "\n",
    "print(min_function(input))"
   ]
  },
  {
   "cell_type": "code",
   "execution_count": 16,
   "metadata": {},
   "outputs": [
    {
     "name": "stdout",
     "output_type": "stream",
     "text": [
      "6\n"
     ]
    }
   ],
   "source": [
    "input = [5,10,66,77,54,32,-1,11,15,2] #내장 함수 min을 대신 할 수 있다.\n",
    "\n",
    "def min_index(list):\n",
    "    MIN = list[0]\n",
    "    index=0\n",
    "    for i in range(len(list)):\n",
    "        if MIN > list[i]:\n",
    "            MIN = list[i]\n",
    "            index = i #최소값의 index값을 나타낼 수 있다.\n",
    "    return index\n",
    "\n",
    "print(min_index(input))"
   ]
  },
  {
   "cell_type": "code",
   "execution_count": 18,
   "metadata": {},
   "outputs": [
    {
     "data": {
      "text/plain": [
       "[5, 10, 11, 15, 32, 54, 66, 77]"
      ]
     },
     "execution_count": 18,
     "metadata": {},
     "output_type": "execute_result"
    }
   ],
   "source": [
    "input = [5,10,66,77,54,32,11,15] #정렬되지 않은 리스트\n",
    "array_list = [] #정렬하여 새롭게 정의할 리스트\n",
    "\n",
    "while len(input): #input값이 없어질 때 까지\n",
    "    array_list.append(min_function(input))#min_function을 사용하여 제일 작은 값을 가져와 준다.\n",
    "    input.pop(min_index(input))#min_index함수를 사용하여 제일 작은 값이 있는 인덱스를 가져와 준다.\n",
    "\n",
    "array_list"
   ]
  },
  {
   "cell_type": "code",
   "execution_count": null,
   "metadata": {},
   "outputs": [],
   "source": []
  }
 ],
 "metadata": {
  "kernelspec": {
   "display_name": "Python 3",
   "language": "python",
   "name": "python3"
  },
  "language_info": {
   "codemirror_mode": {
    "name": "ipython",
    "version": 3
   },
   "file_extension": ".py",
   "mimetype": "text/x-python",
   "name": "python",
   "nbconvert_exporter": "python",
   "pygments_lexer": "ipython3",
   "version": "3.8.5"
  }
 },
 "nbformat": 4,
 "nbformat_minor": 4
}
