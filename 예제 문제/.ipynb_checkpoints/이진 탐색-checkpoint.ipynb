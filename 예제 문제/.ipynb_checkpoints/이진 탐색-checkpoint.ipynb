{
 "cells": [
  {
   "cell_type": "markdown",
   "metadata": {},
   "source": [
    "<pre>\n",
    "<p>데이터가 정렬되 있는 상태에서 </p>배열에서의 특정값을 찾아내는 알고리즘이다.\n",
    "임의의 중간 값을 찾아 중간값보다 작은 왼쪽 배열 left_group과 중간값보다 큰 right_group을 만들어 비교하며\n",
    "target 값을 찾는 것 이다.\n",
    "퀵 정렬의 코드와 비슷하다.\n",
    "\n",
    "배열에 접근하고 종료 조건은 인덱스를 이용한다.\n",
    "인덱스의 최소, 최대 값을 따로 저장하여 탐색이 진행될 때 마다 갱신하고 탐색하는 배열의 범위를 줄여나간다.\n",
    "\n",
    "<strong>탐색을 할 때 범위가 10**8 처럼 클 때는 이진 탐색을 하는 것이 시간을 줄이는 데에 좋다.</strong>\n",
    "</pre>"
   ]
  },
  {
   "cell_type": "code",
   "execution_count": null,
   "metadata": {},
   "outputs": [],
   "source": [
    "#반복문 이용\n",
    "def binary_search(arr, target):\n",
    "    start=arr[0]\n",
    "    end=arr[-1]\n",
    "    \n",
    "    while start<=end:\n",
    "        mid=(start+end)//2\n",
    "        \n",
    "        if arr[mid]==target:\n",
    "            return mid\n",
    "        elif arr[mid]>target:\n",
    "            end=mid-1\n",
    "        else:\n",
    "            start=mid+1"
   ]
  },
  {
   "cell_type": "code",
   "execution_count": null,
   "metadata": {},
   "outputs": [],
   "source": [
    "#재귀함수 이용\n",
    "def binary_search(arr, target, low, high):\n",
    "    if low>high:\n",
    "        return -1\n",
    "    else:\n",
    "        mid=(low,high)//2\n",
    "        if arr[mid]==target:\n",
    "            return mid\n",
    "        elif arr[mid]>target:\n",
    "            binary_search(arr,target,low,mid-1)\n",
    "        else:\n",
    "            binary_search(arr,target,mid+1,high)"
   ]
  },
  {
   "cell_type": "markdown",
   "metadata": {},
   "source": [
    "<pre>\n",
    "target값에 대해 설정을 잘 해주고, 이진탐색의 조건 중에서 찾아야 하는 값이 클 경우 이진탐색을 사용하여\n",
    "값을 찾아 준다.!!!!\n",
    "</pre>"
   ]
  }
 ],
 "metadata": {
  "kernelspec": {
   "display_name": "Python 3",
   "language": "python",
   "name": "python3"
  },
  "language_info": {
   "codemirror_mode": {
    "name": "ipython",
    "version": 3
   },
   "file_extension": ".py",
   "mimetype": "text/x-python",
   "name": "python",
   "nbconvert_exporter": "python",
   "pygments_lexer": "ipython3",
   "version": "3.8.5"
  }
 },
 "nbformat": 4,
 "nbformat_minor": 4
}
