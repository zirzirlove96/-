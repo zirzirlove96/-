{
 "cells": [
  {
   "cell_type": "code",
   "execution_count": 1,
   "metadata": {},
   "outputs": [],
   "source": [
    "class Node:\n",
    "    def __init__(self,data,left_node,right_node):\n",
    "        self.data = data\n",
    "        self.left_node=left_node\n",
    "        self.right_node=right_node\n",
    "\n",
    "def pre_order(node):\n",
    "    print(node.data,end=' ')#자기 자신 root\n",
    "    if node.left_node != '.':\n",
    "        pre_order(tree[node.left_node])\n",
    "    if node.right_node!='.':\n",
    "        pre_order(tree[node.right_node])\n",
    "\n",
    "def in_order(node):\n",
    "    if node.left_node != '.':\n",
    "        in_order(tree[node.left_node])\n",
    "    print(node.data,end=' ')\n",
    "    if node.right_node != '.':\n",
    "        in_order(tree[node.right_node])\n",
    "\n",
    "def post_order(node):\n",
    "    if node.left_node != '.':\n",
    "        post_order(tree[node.left_node])\n",
    "    if node.right_node != '.':\n",
    "        post_order(tree[node.right_node])\n",
    "    print(node.data,end=' ')"
   ]
  },
  {
   "cell_type": "markdown",
   "metadata": {},
   "source": [
    "<pre>\n",
    "'트리'는 시간 복잡도를 따지는 것 보다는 구현하는 것 자체가 어렵다. 따라서 node를 어떻게 삽입 할 것인지\n",
    "graph가 어떻게 나타나는지를 따지면서 트리 구조를 구현해 주고, 탐색을 수행하는 것이 좋다.\n",
    "</pre>"
   ]
  }
 ],
 "metadata": {
  "kernelspec": {
   "display_name": "Python 3",
   "language": "python",
   "name": "python3"
  },
  "language_info": {
   "codemirror_mode": {
    "name": "ipython",
    "version": 3
   },
   "file_extension": ".py",
   "mimetype": "text/x-python",
   "name": "python",
   "nbconvert_exporter": "python",
   "pygments_lexer": "ipython3",
   "version": "3.8.5"
  }
 },
 "nbformat": 4,
 "nbformat_minor": 4
}
