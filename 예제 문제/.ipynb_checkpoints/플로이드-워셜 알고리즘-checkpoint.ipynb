{
 "cells": [
  {
   "cell_type": "markdown",
   "metadata": {},
   "source": [
    "# 플로이드-워셜 알고리즘\n",
    "## 모든 정점 사이의 최단 경로를 찾는 탐색 알고리즘\n",
    "### 거쳐가는 노드를 중점으로 한다."
   ]
  },
  {
   "cell_type": "markdown",
   "metadata": {},
   "source": [
    "for k in range(0, N) :\n",
    "    for i in range(0, N) :\n",
    "        for j in range(0, N):\n",
    "            if inputMap[i][k]==1 and inputMap[k][j]==1 :\n",
    "                print(inputMap)\n",
    "                inputMap[i][j] = 1"
   ]
  },
  {
   "cell_type": "markdown",
   "metadata": {},
   "source": [
    "<pre>\n",
    "다익스트라 알고리즘과 비슷하지만 <strong>거쳐가는 정점을 중점으로 하는 알고리즘</strong>이다.\n",
    "<ul>\n",
    "<li>먼저 각각의 정점이 다른 정점으로 가는 비용을 이차원 배열의 형태로 출력한다.</li>\n",
    "<li>비용이 없는 경우는 무한대 , null값으로 해준다.</li>\n",
    "<li>(다익스트라는 일차원으로 한다.)</li>\n",
    "<li>이차원 배열을 반복적으로 갱신하여 최종적으로 모든 최소 비용을 구해야 한다.</li>\n",
    "<li>예를 들어 (2->3) 의 비용이 9일 경우 (2->1) + (1->3)의 비용이 (2->3)보다 작을 경우 작은 값이 들어간다.</li>\n",
    "</ul>\n",
    "</pre>"
   ]
  },
  {
   "cell_type": "code",
   "execution_count": null,
   "metadata": {},
   "outputs": [],
   "source": []
  }
 ],
 "metadata": {
  "kernelspec": {
   "display_name": "Python 3",
   "language": "python",
   "name": "python3"
  },
  "language_info": {
   "codemirror_mode": {
    "name": "ipython",
    "version": 3
   },
   "file_extension": ".py",
   "mimetype": "text/x-python",
   "name": "python",
   "nbconvert_exporter": "python",
   "pygments_lexer": "ipython3",
   "version": "3.8.5"
  }
 },
 "nbformat": 4,
 "nbformat_minor": 4
}
