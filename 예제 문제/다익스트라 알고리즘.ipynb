{
 "cells": [
  {
   "cell_type": "markdown",
   "metadata": {},
   "source": [
    "<pre>\n",
    "다익스트라 알고리즘은 단방향 그래프 정보와 시작점이 주어진다.\n",
    "시작점에서 다른 정점까지의 최단 거리를 구하는 문제가 많이 나온다.\n",
    "<ul>\n",
    "<li>다익스트라 알고리즘은 우선순위 큐를 사용해서 최단거리에 있는 노드를 선택하고 그 노드와 인접된 노드까지의 거리를 계산한다.</li>\n",
    "<li>계산이 끝나고 현 노드에서 인접한 노드까지의 거리가 최소라면 그 인접한 노드를 우선순위 큐에 추가한다.</li>\n",
    "</ul>\n",
    "</pre>"
   ]
  },
  {
   "cell_type": "code",
   "execution_count": 2,
   "metadata": {},
   "outputs": [
    {
     "name": "stdout",
     "output_type": "stream",
     "text": [
      "5 6\n",
      "1\n",
      "5 1 1\n",
      "1 2 2\n",
      "1 3 3\n",
      "2 3 4\n",
      "2 4 5\n",
      "3 4 6\n",
      "0\n",
      "2\n",
      "3\n",
      "7\n",
      "INF\n"
     ]
    }
   ],
   "source": [
    "#대표적인 문제 백준 - 1753 최단경로 문제\n",
    "import sys\n",
    "from heapq import heappush, heappop\n",
    "#r = sys.stdin.readline\n",
    "INF = 1e9\n",
    "\n",
    "\n",
    "def dijkstra(v, k, g):\n",
    "    dist = [INF] * v\n",
    "    #dist는 memorization을 위한 array이다.\n",
    "    dist[k - 1] = 0 #dist에서 시작 점 자신은 0으로 준다.\n",
    "    q = []\n",
    "    heappush(q, [0, k-1])# 우선순위 큐 사용\n",
    "\n",
    "    while q:\n",
    "        #거리가 제일 작은 노드 선택\n",
    "        cost, pos = heappop(q)\n",
    "\n",
    "        #인접노드 선택 \n",
    "        for p, c in g[pos]:#g[0]인 경우 2,2 / 3,3이 나온다.\n",
    "            c += cost#거리를 추해준다.\n",
    "            #가장 가까운 노드를 선택한다.\n",
    "            if c < dist[p]:#INF와 c를 비교하여 c가 더 작은 값이면 \n",
    "                dist[p] = c#dist[p]에 작은 값을 대입한다.\n",
    "                heappush(q, [c, p])#다시 우선순위 큐에 넣어준다.\n",
    "\n",
    "    return dist\n",
    "\n",
    "\n",
    "V, E = map(int, input().split())\n",
    "K = int(input())\n",
    "graph = [[] for _ in range(V)]\n",
    "for _ in range(E):\n",
    "    u, v, w = map(int, input().split())\n",
    "    graph[u-1].append([v-1, w])\n",
    "\n",
    "for d in dijkstra(V, K, graph):\n",
    "    print(d if d != INF else \"INF\")"
   ]
  },
  {
   "cell_type": "markdown",
   "metadata": {},
   "source": [
    "# 다익스트라 알고리즘(최단 경로 알고리즘)\n",
    "## 최단 경로란?\n",
    "### - 두 노드를 잇는 가장 짧은 경로를 찾는 문제이다.\n",
    "### 가중치 그래프에서 간선의 가중치 합이 최소가 되도록 하는 경로를 찾는 것이 목적이다"
   ]
  },
  {
   "cell_type": "markdown",
   "metadata": {},
   "source": [
    "<pre>\n",
    "다익스트라 알고리즘의 로직\n",
    ": 첫 정점을 기준으로 연결되어 있는 정점들을 추가해 가며, <strong>최단 거리를 갱신하는 기법</strong>이다.\n",
    "다익스트라는 너비우선탐색(BFS)와 유사하다.\n",
    "다익스트라는 노드간의 거리를 저장하는 배열을 생성 후, 첫 정점의 인접 노드 간의 거리부터 먼저 계산하며, 첫 정점부터 해당 노드간의\n",
    "가장 짧은 거리를 해당 배열(dist)에 업데이트한다.\n",
    "<strong>우선순위 큐</strong>는 minHeap방식을 활용해서 가장 짧은 거리를 가진 노드 정보를 먼저 꺼내게 한다.\n",
    "</pre>"
   ]
  },
  {
   "cell_type": "code",
   "execution_count": null,
   "metadata": {},
   "outputs": [],
   "source": []
  }
 ],
 "metadata": {
  "kernelspec": {
   "display_name": "Python 3",
   "language": "python",
   "name": "python3"
  },
  "language_info": {
   "codemirror_mode": {
    "name": "ipython",
    "version": 3
   },
   "file_extension": ".py",
   "mimetype": "text/x-python",
   "name": "python",
   "nbconvert_exporter": "python",
   "pygments_lexer": "ipython3",
   "version": "3.8.5"
  }
 },
 "nbformat": 4,
 "nbformat_minor": 4
}
