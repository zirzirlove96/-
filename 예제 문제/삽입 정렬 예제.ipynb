{
 "cells": [
  {
   "cell_type": "markdown",
   "metadata": {},
   "source": [
    "## 삽입 정렬\n",
    "#### 정렬되지 않은 list에서 하나씩 꺼내면서 앞의 숫자보다 클 경우 뒤로 작은 경우는 앞으로 끼어들기 한다."
   ]
  },
  {
   "cell_type": "code",
   "execution_count": 1,
   "metadata": {},
   "outputs": [],
   "source": [
    "input = [5,10,66,77,54,32,11,15]\n",
    "array_list = []"
   ]
  },
  {
   "cell_type": "code",
   "execution_count": null,
   "metadata": {},
   "outputs": [],
   "source": [
    "#구현 방식\n",
    "#전체적인 삽입정렬\n",
    "\n",
    "while 입력값:\n",
    "    삽입값 = 입력값.pop(0)\n",
    "    인덱스 = 삽입값이_들어갈_인덱스(정렬된리스트, 삽입값) # 삽입값의 인덱스를 구해 준다.\n",
    "    정렬된리스트.insert(인덱스,삽입값)\n",
    "print(정렬된리스트)"
   ]
  },
  {
   "cell_type": "code",
   "execution_count": null,
   "metadata": {},
   "outputs": [],
   "source": [
    "def 삽입값이_들어갈_인덱스(정렬된리스트, 삽입값):\n",
    "    for i in range(len(정렬된리스트)):\n",
    "        if 삽입값 < 정렬된리스트[i]:#정렬된 리스트에 있는 값보다 작을 경우 그 자리에 넣어야 하므로 i\n",
    "            return i\n",
    "    return len(정렬된리스트)#제일 큰 값이면 "
   ]
  },
  {
   "cell_type": "code",
   "execution_count": 2,
   "metadata": {},
   "outputs": [
    {
     "name": "stdout",
     "output_type": "stream",
     "text": [
      "[5, 10, 11, 15, 32, 54, 66, 77]\n"
     ]
    }
   ],
   "source": [
    "input = [5,10,66,77,54,32,11,15]\n",
    "array_list = []\n",
    "\n",
    "\n",
    "def value_index(array_list, value):\n",
    "    for i in range(len(array_list)):\n",
    "        if value < array_list[i]:\n",
    "            return i\n",
    "    return len(array_list)\n",
    "\n",
    "while input:\n",
    "    value = input.pop(0)\n",
    "    index = value_index(array_list, value)\n",
    "    array_list.insert(index,value)\n",
    "\n",
    "print(array_list)"
   ]
  },
  {
   "cell_type": "code",
   "execution_count": null,
   "metadata": {},
   "outputs": [],
   "source": []
  }
 ],
 "metadata": {
  "kernelspec": {
   "display_name": "Python 3",
   "language": "python",
   "name": "python3"
  },
  "language_info": {
   "codemirror_mode": {
    "name": "ipython",
    "version": 3
   },
   "file_extension": ".py",
   "mimetype": "text/x-python",
   "name": "python",
   "nbconvert_exporter": "python",
   "pygments_lexer": "ipython3",
   "version": "3.8.5"
  }
 },
 "nbformat": 4,
 "nbformat_minor": 4
}
