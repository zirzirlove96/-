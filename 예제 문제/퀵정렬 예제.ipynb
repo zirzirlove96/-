{
 "cells": [
  {
   "cell_type": "markdown",
   "metadata": {},
   "source": [
    "<pre>\n",
    " 퀵정렬\n",
    "best(O(logn)) worst(O(n**2))\n",
    "분할, 정복\n",
    "pivot = 기준값(처음있는 값)\n",
    "입력값 = [66,77,54,32,10,5,11,15]\n",
    "전체인덱스=7\n",
    "</pre>"
   ]
  },
  {
   "cell_type": "code",
   "execution_count": 2,
   "metadata": {},
   "outputs": [
    {
     "data": {
      "text/plain": [
       "[5, 10, 11, 15, 32, 54, 66, 77]"
      ]
     },
     "execution_count": 2,
     "metadata": {},
     "output_type": "execute_result"
    }
   ],
   "source": [
    "[66,77,54,32,10,5,11,15]\n",
    "#pivot=list[0]보다 작은 값들을 append\n",
    "[54,32,10,5,11,15]+[66]+[77] #리스트의 길이가 1이면 재귀하지 않는다\n",
    "#pivot=54\n",
    "[32,10,5,11,15]+[54]+[66]+[77] #p54는 피벗값\n",
    "[10,5,11,15]+[32]+[54]+[66]+[77]\n",
    "[5]+[10]+[11,15]+[32]+[54]+[66]+[77] #10이 pivot값이였지만 5보다 큰 숫자\n",
    "[5]+[10]+[11]+[15]+[32]+[54]+[66]+[77]"
   ]
  },
  {
   "cell_type": "code",
   "execution_count": 5,
   "metadata": {},
   "outputs": [
    {
     "name": "stdout",
     "output_type": "stream",
     "text": [
      "[5, 10, 11, 15, 32, 54, 66, 77]\n"
     ]
    }
   ],
   "source": [
    "g_list=[]\n",
    "#재귀함수 사용\n",
    "def 퀵정렬(입력리스트):\n",
    "    global g_list #과정을 보기 위해 \n",
    "    if len(입력리스트)<=1:\n",
    "        return 입력리스트\n",
    "    피벗값=입력리스트.pop(0) #피벗값은 따로 들어가야 하므로 pop\n",
    "    그룹_하나=[]\n",
    "    그룹_둘=[]\n",
    "    #작은 값들을 넣고, 큰 값은 뒤로 하기 위한 for문\n",
    "    for i in range(len(입력리스트)):\n",
    "        if 입력리스트[i]<피벗값:\n",
    "            그룹_하나.append(입력리스트[i])\n",
    "        else:\n",
    "            그룹_둘.append(입력리스트[i])\n",
    "    result='그룹_하나 : {}, 피벗 : {}, 그룹_둘 : {}'.format(그룹_하나, 피벗값, 그룹_둘)\n",
    "    g_list.append(result)\n",
    "    return 퀵정렬(그룹_하나)+[피벗값]+퀵정렬(그룹_둘)\n",
    "\n",
    "입력값 = [66,77,54,32,10,5,11,15]\n",
    "for i in g_list:\n",
    "    print(i)\n",
    "print(퀵정렬(입력값))"
   ]
  },
  {
   "cell_type": "code",
   "execution_count": 6,
   "metadata": {},
   "outputs": [
    {
     "data": {
      "text/plain": [
       "[5, 10, 11, 15, 32, 54, 66, 77]"
      ]
     },
     "execution_count": 6,
     "metadata": {},
     "output_type": "execute_result"
    }
   ],
   "source": [
    "def quick_sort(array):\n",
    "    if len(array)<=1:\n",
    "        return array\n",
    "    pivot=array.pop(0)\n",
    "    group_one=[]\n",
    "    group_two=[]\n",
    "    for i in range(len(array)):\n",
    "        if array[i]<pivot:\n",
    "            group_one.append(array[i])\n",
    "        else:\n",
    "            group_two.append(array[i])\n",
    "    return quick_sort(group_one)+[pivot]+quick_sort(group_two)\n",
    "\n",
    "quick_sort([66,77,54,32,10,5,11,15])"
   ]
  },
  {
   "cell_type": "code",
   "execution_count": 17,
   "metadata": {},
   "outputs": [
    {
     "name": "stdout",
     "output_type": "stream",
     "text": [
      "5 10 11 15 32 54 66 77 "
     ]
    }
   ],
   "source": [
    "#다른 퀵정렬\n",
    "def quick_sort(array):\n",
    "    def sort(low,high):\n",
    "        if high<=low:\n",
    "            return \n",
    "        mid=partition(low,high)\n",
    "        sort(low,mid-1)\n",
    "        sort(mid,high)\n",
    "        \n",
    "    def partition(low,high):\n",
    "        pivot = array[(low+high)//2]#pivot값은 가운데\n",
    "        #시작 인덱스(low)는 계속 증가 시키고, 끝 인덱스(high)는 감소 시키기 위해\n",
    "        #인덱스가 서로 교차해서 지나칠 때까지 반복\n",
    "        while low<=high:\n",
    "            while array[low]<pivot:\n",
    "                low+=1\n",
    "            while array[high]>pivot:\n",
    "                high-=1\n",
    "            if low<=high:\n",
    "                array[low],array[high]=array[high],array[low] #잘못된 위치에 있는 두 값의 위치를 변경\n",
    "                low,high=low+1,high-1\n",
    "        return low\n",
    "    \n",
    "    return sort(0,len(array)-1)\n",
    "\n",
    "array=[66,77,54,32,10,5,11,15]\n",
    "quick_sort(array)\n",
    "for i in range(len(array)):\n",
    "    print(array[i],end=' ')"
   ]
  },
  {
   "cell_type": "code",
   "execution_count": null,
   "metadata": {},
   "outputs": [],
   "source": []
  }
 ],
 "metadata": {
  "kernelspec": {
   "display_name": "Python 3",
   "language": "python",
   "name": "python3"
  },
  "language_info": {
   "codemirror_mode": {
    "name": "ipython",
    "version": 3
   },
   "file_extension": ".py",
   "mimetype": "text/x-python",
   "name": "python",
   "nbconvert_exporter": "python",
   "pygments_lexer": "ipython3",
   "version": "3.8.5"
  }
 },
 "nbformat": 4,
 "nbformat_minor": 4
}
