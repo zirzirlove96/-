{
 "cells": [
  {
   "cell_type": "markdown",
   "metadata": {},
   "source": [
    "# 탐욕 알고리즘"
   ]
  },
  {
   "cell_type": "markdown",
   "metadata": {},
   "source": [
    "<pre>\n",
    "<ul>\n",
    "<li>Greedy Algorithm 또는 탐욕 알고리즘</li>\n",
    "<li><strong>최적의 해에 가까운 값을 구하기 위해 사용됨</strong></li>\n",
    "<li>여러 경우 중 하나를 결정해야할 때마다, <b style=\"color:red\">매순간 최적이라고 생각되는 경우를 선택</b></li>\n",
    "</ul>\n",
    "</pre>"
   ]
  },
  {
   "cell_type": "markdown",
   "metadata": {},
   "source": [
    "### 문제 2: 부분 배낭 문제 "
   ]
  },
  {
   "cell_type": "markdown",
   "metadata": {},
   "source": [
    "<pre>\n",
    "무게 제한 k인 최대 가치를 가지도록 물건을 넣는 문제\n",
    "무게 w, 가치 v\n",
    "[[10,10],[15,12],[20,10],[25,8],[30,5]]\n",
    "</pre>"
   ]
  },
  {
   "cell_type": "code",
   "execution_count": 2,
   "metadata": {},
   "outputs": [],
   "source": [
    "data_list=[(10,10),(15,12),(20,10),(25,8),(30,5)]"
   ]
  },
  {
   "cell_type": "code",
   "execution_count": 3,
   "metadata": {},
   "outputs": [
    {
     "data": {
      "text/plain": [
       "[(10, 10), (15, 12), (20, 10), (25, 8), (30, 5)]"
      ]
     },
     "execution_count": 3,
     "metadata": {},
     "output_type": "execute_result"
    }
   ],
   "source": [
    "#무게 대비 가치가 높은 것을 sort해준다.\n",
    "#최적이라고 생각되는 부분이 가치 대비 무게가 좋은 것이 앞에 있을 때\n",
    "data_list = sorted(data_list, key=lambda x:x[1]/x[0], reverse=True)\n",
    "data_list"
   ]
  },
  {
   "cell_type": "code",
   "execution_count": 4,
   "metadata": {},
   "outputs": [
    {
     "name": "stdout",
     "output_type": "stream",
     "text": [
      "(24.5, [[10, 10, 1], [15, 12, 1], [20, 10, 0.25]])\n"
     ]
    }
   ],
   "source": [
    "def get_max_value(data_list, k):\n",
    "    data_list = sorted(data_list, key=lambda x:x[1]/x[0], reverse=True)\n",
    "    total_value=0\n",
    "    datalis=list() #어떤 물건이 얼마나 들어가 있는지\n",
    "    \n",
    "    for data in data_list:\n",
    "        if k - data[0]>=0:\n",
    "            k -= data[0] #가치가 높고, 무게제한 안에 들어간다.\n",
    "            total_value+=data[1]\n",
    "            datalis.append([data[0],data[1],1]) #1은 100% 물건을 넣었다.\n",
    "        else:\n",
    "            fraction = k/data[0] #k=5 data[0]10이라고 했을 때 fraction은 1/2 즉 무게를 5만큼 넣고\n",
    "            total_value += data[1]*fraction #가치를 1/2만큼만 넣어주면 된다.\n",
    "            datalis.append([data[0],data[1],fraction])\n",
    "            break #다음 물건들은 볼필요가 없다.\n",
    "    return total_value,datalis\n",
    "\n",
    "data_list=[(10,10),(15,12),(20,10),(25,8),(30,5)]\n",
    "k=30\n",
    "print(get_max_value(data_list,k))"
   ]
  },
  {
   "cell_type": "code",
   "execution_count": null,
   "metadata": {},
   "outputs": [],
   "source": []
  }
 ],
 "metadata": {
  "kernelspec": {
   "display_name": "Python 3",
   "language": "python",
   "name": "python3"
  },
  "language_info": {
   "codemirror_mode": {
    "name": "ipython",
    "version": 3
   },
   "file_extension": ".py",
   "mimetype": "text/x-python",
   "name": "python",
   "nbconvert_exporter": "python",
   "pygments_lexer": "ipython3",
   "version": "3.8.5"
  }
 },
 "nbformat": 4,
 "nbformat_minor": 4
}
