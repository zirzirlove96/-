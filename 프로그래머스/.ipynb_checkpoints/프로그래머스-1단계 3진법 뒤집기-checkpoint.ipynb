{
 "cells": [
  {
   "cell_type": "code",
   "execution_count": 1,
   "metadata": {},
   "outputs": [
    {
     "name": "stdout",
     "output_type": "stream",
     "text": [
      "7\n",
      "229\n"
     ]
    }
   ],
   "source": [
    "def solution(n):\n",
    "    answer = 0\n",
    "\n",
    "    stack=[]\n",
    "\n",
    "    while n!=0:\n",
    "        re=n%3\n",
    "        stack.append(re)\n",
    "        n=n//3\n",
    "\n",
    "    stack=[stack[i] for i in range(len(stack)-1,-1,-1)]\n",
    "    \n",
    "    for i in range(len(stack)):\n",
    "        answer+=pow(3,i)*stack[i]\n",
    "        \n",
    "    return answer\n",
    "\n",
    "print(solution(45))\n",
    "print(solution(125))\n"
   ]
  },
  {
   "cell_type": "markdown",
   "metadata": {},
   "source": [
    "<pre>\n",
    "<strong>stack을 뒤집고, pow를 이용하여 곱한 값을 더해 준다.</strong>\n",
    "</pre>"
   ]
  },
  {
   "cell_type": "code",
   "execution_count": null,
   "metadata": {},
   "outputs": [],
   "source": []
  }
 ],
 "metadata": {
  "kernelspec": {
   "display_name": "Python 3",
   "language": "python",
   "name": "python3"
  },
  "language_info": {
   "codemirror_mode": {
    "name": "ipython",
    "version": 3
   },
   "file_extension": ".py",
   "mimetype": "text/x-python",
   "name": "python",
   "nbconvert_exporter": "python",
   "pygments_lexer": "ipython3",
   "version": "3.8.5"
  }
 },
 "nbformat": 4,
 "nbformat_minor": 4
}
