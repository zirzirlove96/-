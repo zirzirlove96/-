{
 "cells": [
  {
   "cell_type": "code",
   "execution_count": 1,
   "metadata": {},
   "outputs": [
    {
     "name": "stdout",
     "output_type": "stream",
     "text": [
      "4\n",
      "3\n"
     ]
    }
   ],
   "source": [
    "def solution(n):\n",
    "    answer = 0\n",
    "    count=0\n",
    "    for i in range(2,n+1):\n",
    "        for j in range(1,i+1):\n",
    "            if i%j==0:\n",
    "                count+=1\n",
    "        if count==2:\n",
    "            answer+=1\n",
    "        count=0\n",
    "    return answer\n",
    "\n",
    "print(solution(10))\n",
    "print(solution(5))\n"
   ]
  },
  {
   "cell_type": "markdown",
   "metadata": {},
   "source": [
    "<pre>\n",
    "시간초과 나타남\n",
    "<strong>에라토스테네서의 체</strong>을 이용해야 한다.\n",
    "</pre>"
   ]
  },
  {
   "cell_type": "code",
   "execution_count": 2,
   "metadata": {},
   "outputs": [
    {
     "name": "stdout",
     "output_type": "stream",
     "text": [
      "4\n",
      "3\n"
     ]
    }
   ],
   "source": [
    "def solution(n):\n",
    "    s=[True]*(n+1)\n",
    "    k=int(n**0.5)\n",
    "    count=0\n",
    "    for j in range(2,k+1):\n",
    "        if s[j]==True:\n",
    "            for i in range(j+j,n+1,j):\n",
    "                s[i]=False\n",
    "    for i in range(2,n+1):\n",
    "        if s[i]:\n",
    "            count+=1\n",
    "    \n",
    "    return count\n",
    "\n",
    "print(solution(10))\n",
    "print(solution(5))\n"
   ]
  },
  {
   "cell_type": "code",
   "execution_count": null,
   "metadata": {},
   "outputs": [],
   "source": []
  }
 ],
 "metadata": {
  "kernelspec": {
   "display_name": "Python 3",
   "language": "python",
   "name": "python3"
  },
  "language_info": {
   "codemirror_mode": {
    "name": "ipython",
    "version": 3
   },
   "file_extension": ".py",
   "mimetype": "text/x-python",
   "name": "python",
   "nbconvert_exporter": "python",
   "pygments_lexer": "ipython3",
   "version": "3.8.5"
  }
 },
 "nbformat": 4,
 "nbformat_minor": 4
}
