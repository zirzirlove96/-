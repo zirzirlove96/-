{
 "cells": [
  {
   "cell_type": "code",
   "execution_count": 1,
   "metadata": {},
   "outputs": [
    {
     "name": "stdout",
     "output_type": "stream",
     "text": [
      "True\n",
      "False\n"
     ]
    }
   ],
   "source": [
    "def solution(arr):\n",
    "    answer = True\n",
    "\n",
    "    length=len(arr)\n",
    "    m=max(arr)\n",
    "\n",
    "    if length!=m:\n",
    "        answer=False\n",
    "\n",
    "    return answer\n",
    "\n",
    "\n",
    "print(solution([4,1,3,2]))\n",
    "print(solution([4,1,3]))\n",
    "#시간 초과없음\n",
    "#length와 가장 큰 값을 비교한 이유는\n",
    "#중복된 값이 없는 배열에서의 크기와 제일 큰 값이 같아야 \n",
    "#배열의 사이즈에 맞게 숫자가 들어간다고 생각했기 때문에"
   ]
  },
  {
   "cell_type": "code",
   "execution_count": 2,
   "metadata": {},
   "outputs": [
    {
     "name": "stdout",
     "output_type": "stream",
     "text": [
      "True\n",
      "False\n"
     ]
    }
   ],
   "source": [
    "def solution(arr):\n",
    "    answer = True\n",
    "\n",
    "    check=[0]*100001\n",
    "    length=len(arr)\n",
    "\n",
    "    for i in range(len(arr)):\n",
    "        check[arr[i]]+=1\n",
    "    #check의 값에 +1씩하여 0인 곳을 찾아 False를 리턴\n",
    "\n",
    "    for i in range(1,length+1):\n",
    "        if check[i]==0:\n",
    "            answer=False\n",
    "\n",
    "    return answer\n",
    "\n",
    "\n",
    "print(solution([4,1,3,2]))\n",
    "print(solution([4,1,3]))\n",
    "#이런 방안도 있다."
   ]
  },
  {
   "cell_type": "code",
   "execution_count": null,
   "metadata": {},
   "outputs": [],
   "source": []
  }
 ],
 "metadata": {
  "kernelspec": {
   "display_name": "Python 3",
   "language": "python",
   "name": "python3"
  },
  "language_info": {
   "codemirror_mode": {
    "name": "ipython",
    "version": 3
   },
   "file_extension": ".py",
   "mimetype": "text/x-python",
   "name": "python",
   "nbconvert_exporter": "python",
   "pygments_lexer": "ipython3",
   "version": "3.8.3"
  }
 },
 "nbformat": 4,
 "nbformat_minor": 4
}
