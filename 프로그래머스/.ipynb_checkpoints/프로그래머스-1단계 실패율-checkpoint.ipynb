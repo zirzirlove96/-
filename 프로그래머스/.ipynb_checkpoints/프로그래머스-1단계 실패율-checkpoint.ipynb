{
 "cells": [
  {
   "cell_type": "code",
   "execution_count": 1,
   "metadata": {},
   "outputs": [
    {
     "name": "stdout",
     "output_type": "stream",
     "text": [
      "[3, 4, 2, 1, 5]\n",
      "[4, 1, 2, 3]\n"
     ]
    }
   ],
   "source": [
    "from collections import Counter\n",
    "\n",
    "def solution(N, stages):\n",
    "    answer = []\n",
    "    count={}\n",
    "    count = Counter(stages)\n",
    "    s=0\n",
    "    for i in range(1,N+1):\n",
    "        s=sum(count.values())#전체 사람의 수 \n",
    "        if i in list(count.keys()):#key값은 stage\n",
    "            answer.append(count[i]/s)#실패율\n",
    "            count.pop(i)#실패율을 계산한 값 pop\n",
    "        else:\n",
    "            answer.append(0)#스테이지에 도달한 유저가 있는 경우 0\n",
    "    #enumerate를 사용하여 index값을 추출해 온다.\n",
    "    #enumerate = index, value = i[0], i[1]\n",
    "    array = [i[0]+1 for i in sorted(enumerate(answer), key=lambda x:x[1], reverse=True)]\n",
    "    return array\n",
    "\n",
    "print(solution(5,[2, 1, 2, 6, 2, 4, 3, 3]))\n",
    "print(solution(4,[4,4,4,4,4]))"
   ]
  },
  {
   "cell_type": "markdown",
   "metadata": {},
   "source": [
    "<pre>\n",
    "enumerate를 사용하여 index값을 찾아낼 수 있다는 것이 큰 특징.\n",
    "</pre>"
   ]
  },
  {
   "cell_type": "code",
   "execution_count": null,
   "metadata": {},
   "outputs": [],
   "source": []
  }
 ],
 "metadata": {
  "kernelspec": {
   "display_name": "Python 3",
   "language": "python",
   "name": "python3"
  },
  "language_info": {
   "codemirror_mode": {
    "name": "ipython",
    "version": 3
   },
   "file_extension": ".py",
   "mimetype": "text/x-python",
   "name": "python",
   "nbconvert_exporter": "python",
   "pygments_lexer": "ipython3",
   "version": "3.8.5"
  }
 },
 "nbformat": 4,
 "nbformat_minor": 4
}
