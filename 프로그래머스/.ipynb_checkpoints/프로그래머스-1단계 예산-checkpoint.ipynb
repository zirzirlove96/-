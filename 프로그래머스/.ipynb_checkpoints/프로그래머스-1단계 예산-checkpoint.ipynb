{
 "cells": [
  {
   "cell_type": "code",
   "execution_count": 1,
   "metadata": {},
   "outputs": [],
   "source": [
    "def solution(d, budget):\n",
    "    answer = len(d)\n",
    "    i=len(d)\n",
    "    d.sort()\n",
    "    while True:\n",
    "        sum=0\n",
    "        for j in range(0,i):\n",
    "            sum+=d[j]\n",
    "        if sum>budget:\n",
    "            answer-=1\n",
    "            i-=1\n",
    "        else:\n",
    "            break\n",
    "         \n",
    "    return answer"
   ]
  },
  {
   "cell_type": "markdown",
   "metadata": {},
   "source": [
    "## 정렬을 꼭 해줘야 한다.\n",
    "#### 최대 개수부터 시작하여 -1씩 해줘서 최대 몇개가 나오는지 출력해 준다."
   ]
  },
  {
   "cell_type": "code",
   "execution_count": 2,
   "metadata": {},
   "outputs": [
    {
     "name": "stdout",
     "output_type": "stream",
     "text": [
      "3\n",
      "4\n"
     ]
    }
   ],
   "source": [
    "print(solution([1,3,2,5,4],9))\n",
    "print(solution([2,2,3,3],10))"
   ]
  },
  {
   "cell_type": "code",
   "execution_count": null,
   "metadata": {},
   "outputs": [],
   "source": []
  }
 ],
 "metadata": {
  "kernelspec": {
   "display_name": "Python 3",
   "language": "python",
   "name": "python3"
  },
  "language_info": {
   "codemirror_mode": {
    "name": "ipython",
    "version": 3
   },
   "file_extension": ".py",
   "mimetype": "text/x-python",
   "name": "python",
   "nbconvert_exporter": "python",
   "pygments_lexer": "ipython3",
   "version": "3.8.5"
  }
 },
 "nbformat": 4,
 "nbformat_minor": 4
}
