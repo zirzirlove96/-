{
 "cells": [
  {
   "cell_type": "code",
   "execution_count": 1,
   "metadata": {},
   "outputs": [
    {
     "name": "stdout",
     "output_type": "stream",
     "text": [
      "4\n"
     ]
    }
   ],
   "source": [
    "def solution(board, moves):\n",
    "    answer = 0\n",
    "    stack=[]\n",
    "    basket=[[0]*len(board) for _ in range(len(board))]\n",
    "    #basket은 정렬을 인형뽑기 배열로 만들기 위해 \n",
    "\n",
    "    for i in range(len(board)):\n",
    "        for j in range(len(board)):\n",
    "            basket[i][j]=board[j][i]\n",
    "\n",
    "\n",
    "\n",
    "    for i in moves:\n",
    "        for j in range(len(basket)):\n",
    "            if basket[i-1][j]>0:#0보다 큰 값들이 들어가야 한다.\n",
    "                if not stack:#stack이 없을 경우 채워주고\n",
    "                    stack.append(basket[i-1][j])\n",
    "                    basket[i-1][j]=0\n",
    "                else:#stack에 값이 있을 경우 들어갈 숫자와 stack 맨 위에 있는 값이\n",
    "                    #같은 지 확인하여 같으면 빼주고 +2\n",
    "                    if stack[len(stack)-1]==basket[i-1][j]:\n",
    "                        stack.pop()\n",
    "                        basket[i-1][j]=0\n",
    "                        answer+=2\n",
    "                    else:\n",
    "                        #같지 않다면 stack에 넣어준다.\n",
    "                        stack.append(basket[i-1][j])\n",
    "                        basket[i-1][j]=0\n",
    "                break#if basket[i-1][j]<0이면 break\n",
    "\n",
    "    return answer\n",
    "\n",
    "print(solution([[0,0,0,0,0],[0,0,1,0,3],[0,2,5,0,1],[4,2,4,4,2],[3,5,1,3,1]],[1,5,3,5,1,2,1,4]))\n"
   ]
  },
  {
   "cell_type": "markdown",
   "metadata": {},
   "source": [
    "<pre>\n",
    "배열을 활용하여 푸는 문제.\n",
    "pop과 stack 쌓는 순서와 뽑아가는 것을 생각해서 풀어야 한다.\n",
    "</pre>"
   ]
  },
  {
   "cell_type": "code",
   "execution_count": 2,
   "metadata": {},
   "outputs": [
    {
     "name": "stdout",
     "output_type": "stream",
     "text": [
      "4\n"
     ]
    }
   ],
   "source": [
    "\n",
    "def solution(board, moves):\n",
    "    answer = 0\n",
    "    stack=[]\n",
    "\n",
    "    for i in moves:\n",
    "        for j in range(len(board)):\n",
    "            if board[j][i-1]>0:\n",
    "                stack.append(board[j][i-1]) #모든 행에서 조사 \n",
    "                board[j][i-1]=0# 뽑아 가면 0으로 만들어 준다.\n",
    "\n",
    "                if len(stack)>1:\n",
    "                    if stack[len(stack)-1]==stack[len(stack)-2]:\n",
    "                        stack.pop(-1)\n",
    "                        stack.pop(-1)\n",
    "                        answer+=1\n",
    "                break #0보다 큰 값이 처리된 후에 break를 하여 다음 moves값을 가져온다.\n",
    "    \n",
    "    return answer*2\n",
    "\n",
    "\n",
    "print(solution([[0,0,0,0,0],[0,0,1,0,3],[0,2,5,0,1],[4,2,4,4,2],[3,5,1,3,1]],[1,5,3,5,1,2,1,4]))\n",
    "\n"
   ]
  },
  {
   "cell_type": "code",
   "execution_count": null,
   "metadata": {},
   "outputs": [],
   "source": []
  }
 ],
 "metadata": {
  "kernelspec": {
   "display_name": "Python 3",
   "language": "python",
   "name": "python3"
  },
  "language_info": {
   "codemirror_mode": {
    "name": "ipython",
    "version": 3
   },
   "file_extension": ".py",
   "mimetype": "text/x-python",
   "name": "python",
   "nbconvert_exporter": "python",
   "pygments_lexer": "ipython3",
   "version": "3.8.5"
  }
 },
 "nbformat": 4,
 "nbformat_minor": 4
}
