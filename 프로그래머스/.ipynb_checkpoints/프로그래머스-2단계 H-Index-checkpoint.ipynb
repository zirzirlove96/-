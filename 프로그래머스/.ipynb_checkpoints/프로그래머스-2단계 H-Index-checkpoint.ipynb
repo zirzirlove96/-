{
 "cells": [
  {
   "cell_type": "code",
   "execution_count": 1,
   "metadata": {},
   "outputs": [
    {
     "name": "stdout",
     "output_type": "stream",
     "text": [
      "3\n",
      "4\n",
      "2\n",
      "3\n"
     ]
    }
   ],
   "source": [
    "\n",
    "def solution(citations):\n",
    "    answer = 0\n",
    "    citations.sort()\n",
    "\n",
    "    MAX=[] #값들 저장\n",
    "    for num in range(citations[0],citations[-1]+1):#몇편이상 나오는지 확인\n",
    "        count=0\n",
    "        for i in range(len(citations)):\n",
    "            if num<=citations[i]:#인용된 갯수를 구해주기\n",
    "                count+=1\n",
    "        \n",
    "        if num <= count:#n <= h\n",
    "            MAX.append(num)\n",
    "        else:\n",
    "            break\n",
    "\n",
    "    answer=max(MAX)\n",
    "    return answer\n",
    "\n",
    "print(solution([3, 0, 6, 1, 5]))\n",
    "print(solution([4, 4, 4, 5, 0, 1, 2, 3]))\n",
    "print(solution([2,2]))\n",
    "print(solution([20,18,19,1]))"
   ]
  },
  {
   "cell_type": "markdown",
   "metadata": {},
   "source": [
    "<pre>\n",
    "테스트 케이스 9번이 틀린다고 나온다.\n",
    "테스트 케이스 : [5,5,5,5] #4\n",
    "</pre>"
   ]
  },
  {
   "cell_type": "markdown",
   "metadata": {},
   "source": [
    "문제가 테스트 케이스마다 틀림..\n",
    "정확한 코드를 찾지 못했다."
   ]
  }
 ],
 "metadata": {
  "kernelspec": {
   "display_name": "Python 3",
   "language": "python",
   "name": "python3"
  },
  "language_info": {
   "codemirror_mode": {
    "name": "ipython",
    "version": 3
   },
   "file_extension": ".py",
   "mimetype": "text/x-python",
   "name": "python",
   "nbconvert_exporter": "python",
   "pygments_lexer": "ipython3",
   "version": "3.8.5"
  }
 },
 "nbformat": 4,
 "nbformat_minor": 4
}
