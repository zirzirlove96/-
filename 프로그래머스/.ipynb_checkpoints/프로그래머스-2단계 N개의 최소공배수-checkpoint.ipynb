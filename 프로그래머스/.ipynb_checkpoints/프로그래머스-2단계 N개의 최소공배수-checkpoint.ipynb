{
 "cells": [
  {
   "cell_type": "code",
   "execution_count": 1,
   "metadata": {},
   "outputs": [],
   "source": [
    "from math import gcd"
   ]
  },
  {
   "cell_type": "code",
   "execution_count": 2,
   "metadata": {},
   "outputs": [],
   "source": [
    "def solution(arr):\n",
    "\n",
    "    #최대공약수 함수 \n",
    "    def gcd(x,y):\n",
    "        while y:\n",
    "            x,y=y,x%y\n",
    "        return x\n",
    "\n",
    "    #최대 공배수 함수 최소공배수는 최대공약수로 나눠주고 나머지를 곱한 것 \n",
    "    def lcm(x,y):\n",
    "        return x*y//gcd(x,y)\n",
    "        \n",
    "\n",
    "    while True:\n",
    "        arr.append(lcm(arr.pop(),arr.pop()))#stack이므로 pop()을 하면 FILO\n",
    "        #print(arr)\n",
    "        if len(arr)==1:\n",
    "            return arr[0]"
   ]
  },
  {
   "cell_type": "code",
   "execution_count": 3,
   "metadata": {},
   "outputs": [
    {
     "name": "stdout",
     "output_type": "stream",
     "text": [
      "168\n"
     ]
    }
   ],
   "source": [
    "print(solution([2,6,8,14]))"
   ]
  },
  {
   "cell_type": "code",
   "execution_count": null,
   "metadata": {},
   "outputs": [],
   "source": []
  }
 ],
 "metadata": {
  "kernelspec": {
   "display_name": "Python 3",
   "language": "python",
   "name": "python3"
  },
  "language_info": {
   "codemirror_mode": {
    "name": "ipython",
    "version": 3
   },
   "file_extension": ".py",
   "mimetype": "text/x-python",
   "name": "python",
   "nbconvert_exporter": "python",
   "pygments_lexer": "ipython3",
   "version": "3.8.5"
  }
 },
 "nbformat": 4,
 "nbformat_minor": 4
}
