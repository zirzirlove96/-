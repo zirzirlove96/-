{
 "cells": [
  {
   "cell_type": "code",
   "execution_count": 1,
   "metadata": {},
   "outputs": [
    {
     "name": "stdout",
     "output_type": "stream",
     "text": [
      "4\n",
      "3\n"
     ]
    }
   ],
   "source": [
    "from collections import deque\n",
    "\n",
    "def solution(people, limit):\n",
    "    answer = 0\n",
    "    people.sort(reverse=True)\n",
    "\n",
    "    q=deque()\n",
    "    for i in people:\n",
    "        q.append(i)#deque를 사용해야 시간초과가 나지 않는다.\n",
    "\n",
    "\n",
    "    while len(q)>0:\n",
    "        #if len(q)==1:\n",
    "            #answer+=1\n",
    "            #break\n",
    "        if limit-q[0]<q[-1] or len(q):#정렬을 통해 가장 큰값과 작은 값을 비교하여\n",
    "            #limit-가장 큰값이 가장 작은 값보다 작으면 안되므로\n",
    "            #pop해준다.\n",
    "            answer+=1\n",
    "            q.popleft()\n",
    "            #print(q)\n",
    "        else:\n",
    "            q.popleft()\n",
    "            q.pop()\n",
    "            answer+=1\n",
    "                   \n",
    "    return answer\n",
    "\n",
    "print(solution([70,50,80,50],100))\n",
    "print(solution([70,80,50],100))"
   ]
  },
  {
   "cell_type": "code",
   "execution_count": null,
   "metadata": {},
   "outputs": [],
   "source": []
  }
 ],
 "metadata": {
  "kernelspec": {
   "display_name": "Python 3",
   "language": "python",
   "name": "python3"
  },
  "language_info": {
   "codemirror_mode": {
    "name": "ipython",
    "version": 3
   },
   "file_extension": ".py",
   "mimetype": "text/x-python",
   "name": "python",
   "nbconvert_exporter": "python",
   "pygments_lexer": "ipython3",
   "version": "3.8.5"
  }
 },
 "nbformat": 4,
 "nbformat_minor": 4
}
