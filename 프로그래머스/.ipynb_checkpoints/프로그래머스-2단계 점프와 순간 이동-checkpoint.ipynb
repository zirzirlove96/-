{
 "cells": [
  {
   "cell_type": "code",
   "execution_count": 1,
   "metadata": {},
   "outputs": [
    {
     "name": "stdout",
     "output_type": "stream",
     "text": [
      "2\n",
      "2\n",
      "5\n"
     ]
    }
   ],
   "source": [
    "def solution(n):\n",
    "    ans = 0\n",
    "    \n",
    "    while n!=0:\n",
    "        if n%2==0:\n",
    "            n=n//2\n",
    "        else:\n",
    "            n-=1\n",
    "            ans+=1\n",
    "    \n",
    "        \n",
    "    return ans\n",
    "\n",
    "\n",
    "print(solution(5))\n",
    "print(solution(6))\n",
    "print(solution(5000))"
   ]
  },
  {
   "cell_type": "markdown",
   "metadata": {},
   "source": [
    "## n이라는 숫자에 순간이동을 못하면 -1씩하면서 1씩 점프를 했다고 가정하고 진행한다."
   ]
  },
  {
   "cell_type": "code",
   "execution_count": null,
   "metadata": {},
   "outputs": [],
   "source": []
  }
 ],
 "metadata": {
  "kernelspec": {
   "display_name": "Python 3",
   "language": "python",
   "name": "python3"
  },
  "language_info": {
   "codemirror_mode": {
    "name": "ipython",
    "version": 3
   },
   "file_extension": ".py",
   "mimetype": "text/x-python",
   "name": "python",
   "nbconvert_exporter": "python",
   "pygments_lexer": "ipython3",
   "version": "3.8.5"
  }
 },
 "nbformat": 4,
 "nbformat_minor": 4
}
