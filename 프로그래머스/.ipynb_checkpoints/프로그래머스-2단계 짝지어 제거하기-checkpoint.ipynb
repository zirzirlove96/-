{
 "cells": [
  {
   "cell_type": "code",
   "execution_count": 1,
   "metadata": {},
   "outputs": [
    {
     "name": "stdout",
     "output_type": "stream",
     "text": [
      "1\n",
      "1\n",
      "0\n"
     ]
    }
   ],
   "source": [
    "def solution(s):\n",
    "    answer = 0\n",
    "    stack=[]\n",
    "    remove=[]\n",
    "    flag=[]\n",
    "    \n",
    "    for i in s:\n",
    "        stack.append(i)\n",
    "    \n",
    "    for i in range(len(stack)-1):\n",
    "        if stack[i]==stack[i+1]:\n",
    "            flag.append(True)\n",
    "        else:\n",
    "            flag.append(False)\n",
    "\n",
    "    if True not in flag:\n",
    "        answer=0\n",
    "    else:\n",
    "        while len(remove)!=len(s):\n",
    "            if stack[0]!=stack[1]:\n",
    "                stack.append(stack.pop(0))\n",
    "                #print(stack)\n",
    "            elif stack[0]==stack[1]:\n",
    "                remove.append(stack.pop(0))\n",
    "                remove.append(stack.pop(0))\n",
    "                #print(remove)\n",
    "        answer=1\n",
    "    return answer\n",
    "\n",
    "\n",
    "print(solution(\"aabbaa\"))\n",
    "print(solution(\"baabaa\"))\n",
    "print(solution(\"cdcd\"))"
   ]
  },
  {
   "cell_type": "markdown",
   "metadata": {},
   "source": [
    "<pre>\n",
    "테스트 케이스 1,2번은 맞았지만 다른 테스트 케이스에서 런타임 에러, 시간초과가 나타남.\n",
    "</pre>"
   ]
  },
  {
   "cell_type": "markdown",
   "metadata": {},
   "source": [
    "## https://hocheon.tistory.com/105 풀이 방식 인용"
   ]
  },
  {
   "cell_type": "code",
   "execution_count": 3,
   "metadata": {},
   "outputs": [
    {
     "name": "stdout",
     "output_type": "stream",
     "text": [
      "1\n"
     ]
    }
   ],
   "source": [
    "def solution(s):\n",
    "    s = list(reversed(list(s)))\n",
    "    stack=[s.pop()]#FILO\n",
    "    while s:\n",
    "        c=s.pop()\n",
    "        if len(stack)==0 or stack[-1] != c:\n",
    "            stack.append(c)\n",
    "        else:\n",
    "            stack.pop()\n",
    "    if len(stack)==0:\n",
    "        return 1\n",
    "    else:\n",
    "        return 0\n",
    "    \n",
    "\n",
    "print(solution(\"baabaa\"))"
   ]
  },
  {
   "cell_type": "markdown",
   "metadata": {},
   "source": [
    "<pre>\n",
    "1. s=\"aabaab\" (reversed)\n",
    "   stack=[b]\n",
    "   c=\"a\"\n",
    "   stack[-1]!=c: stack=[b,a]\n",
    "2. s=\"aaba\"\n",
    "   stack=[b,a]\n",
    "   c=\"a\"\n",
    "   stack[-1]==c: stack=[b]\n",
    "3. s=\"aab\"\n",
    "   stack=[b]\n",
    "   c=\"b\"\n",
    "   stack[-1]==c: stack=[]\n",
    "4. s=\"aa\"\n",
    "   c=\"a\"\n",
    "   stack=[] -> stack=[a]\n",
    "5. s=\"a\"\n",
    "   c=\"a\"\n",
    "   stack[-1]==c: stack=[]\n",
    "len(s)=0\n",
    "if len(stack)==0 : return 1\n",
    "</pre>"
   ]
  },
  {
   "cell_type": "code",
   "execution_count": null,
   "metadata": {},
   "outputs": [],
   "source": []
  }
 ],
 "metadata": {
  "kernelspec": {
   "display_name": "Python 3",
   "language": "python",
   "name": "python3"
  },
  "language_info": {
   "codemirror_mode": {
    "name": "ipython",
    "version": 3
   },
   "file_extension": ".py",
   "mimetype": "text/x-python",
   "name": "python",
   "nbconvert_exporter": "python",
   "pygments_lexer": "ipython3",
   "version": "3.8.5"
  }
 },
 "nbformat": 4,
 "nbformat_minor": 4
}
