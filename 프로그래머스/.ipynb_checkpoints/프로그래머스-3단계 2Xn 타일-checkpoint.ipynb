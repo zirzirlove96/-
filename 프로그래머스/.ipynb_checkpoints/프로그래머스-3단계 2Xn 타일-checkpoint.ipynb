{
 "cells": [
  {
   "cell_type": "code",
   "execution_count": 1,
   "metadata": {},
   "outputs": [
    {
     "name": "stdout",
     "output_type": "stream",
     "text": [
      "8\n"
     ]
    }
   ],
   "source": [
    "def solution(n):\n",
    "    answer = 0\n",
    "    a=[0 for _ in range(n+1)]\n",
    "    a[0]=1\n",
    "    a[1]=1\n",
    "\n",
    "    for i in range(2,n+1):\n",
    "        a[i]=(a[i-1]+a[i-2])%1000000007\n",
    "        \n",
    "    answer=a[n]\n",
    "    return answer\n",
    "\n",
    "\n",
    "print(solution(5))\n"
   ]
  },
  {
   "cell_type": "markdown",
   "metadata": {},
   "source": [
    "<pre>\n",
    "규칙성을 찾는 문제이다.\n",
    "피보나치 처럼 다이나믹 프로그래밍을 사용하여 규칙성을 찾아 더해주면 된다.\n",
    "</pre>"
   ]
  },
  {
   "cell_type": "code",
   "execution_count": null,
   "metadata": {},
   "outputs": [],
   "source": []
  }
 ],
 "metadata": {
  "kernelspec": {
   "display_name": "Python 3",
   "language": "python",
   "name": "python3"
  },
  "language_info": {
   "codemirror_mode": {
    "name": "ipython",
    "version": 3
   },
   "file_extension": ".py",
   "mimetype": "text/x-python",
   "name": "python",
   "nbconvert_exporter": "python",
   "pygments_lexer": "ipython3",
   "version": "3.8.5"
  }
 },
 "nbformat": 4,
 "nbformat_minor": 4
}
