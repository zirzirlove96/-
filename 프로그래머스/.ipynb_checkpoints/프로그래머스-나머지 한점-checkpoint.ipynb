{
 "cells": [
  {
   "cell_type": "code",
   "execution_count": 1,
   "metadata": {},
   "outputs": [
    {
     "name": "stdout",
     "output_type": "stream",
     "text": [
      "[1, 10]\n",
      "[2, 1]\n"
     ]
    }
   ],
   "source": [
    "from collections import Counter\n",
    "\n",
    "def solution(v):\n",
    "    answer = []\n",
    "\n",
    "    x_array=[i[0] for i in v]\n",
    "    dict1 = Counter(x_array)\n",
    "    y_array=[i[1] for i in v]\n",
    "    dict2 = Counter(y_array)\n",
    "\n",
    "    r1,r2=0,0\n",
    "    for x,c in list(dict1.items()):\n",
    "        if c==1:\n",
    "            r1=x\n",
    "    for y,c in list(dict2.items()):\n",
    "        if c==1:\n",
    "            r2=y\n",
    "\n",
    "    answer=[r1,r2]\n",
    "\n",
    "    return answer\n",
    "\n",
    "print(solution([[1, 4], [3, 4], [3, 10]]))\n",
    "print(solution([[1, 1], [2, 2], [1, 2]]))\n",
    "#접근 방식은 해당하는 x,y 점의 개수가 2개씩 일 때 사각형이 만들어 진다는 가정하에 코딩을 했다.\n",
    "#[[1, 4], [3, 4], [3, 10]] 의 경우 직사각형의 조건에서 한 점이 빠져있다.\n",
    "#선을 이어보면 [1,10]점이 빠져있다는 것이 보이는데 배열에서 이 두 점은 1개씩만 도출된다.\n",
    "#따라서 1개씩만 도출된 점들을 출력해 주면 된다."
   ]
  },
  {
   "cell_type": "code",
   "execution_count": null,
   "metadata": {},
   "outputs": [],
   "source": []
  }
 ],
 "metadata": {
  "kernelspec": {
   "display_name": "Python 3",
   "language": "python",
   "name": "python3"
  },
  "language_info": {
   "codemirror_mode": {
    "name": "ipython",
    "version": 3
   },
   "file_extension": ".py",
   "mimetype": "text/x-python",
   "name": "python",
   "nbconvert_exporter": "python",
   "pygments_lexer": "ipython3",
   "version": "3.8.3"
  }
 },
 "nbformat": 4,
 "nbformat_minor": 4
}
