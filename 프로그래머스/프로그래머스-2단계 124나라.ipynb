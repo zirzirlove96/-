{
 "cells": [
  {
   "cell_type": "code",
   "execution_count": 1,
   "metadata": {},
   "outputs": [
    {
     "name": "stdout",
     "output_type": "stream",
     "text": [
      "42\n"
     ]
    }
   ],
   "source": [
    "def solution(n):\n",
    "    answer = ''\n",
    "    country = ['4','2','1']\n",
    "    num=n\n",
    "\n",
    "    while num>0:\n",
    "      r = num%3\n",
    "      num=num//3\n",
    "\n",
    "      if r==0:\n",
    "        num-=1\n",
    "        \n",
    "      answer=country[r]+answer#answer이 뒤에서 더하는 것이 중요!\n",
    "    return answer\n",
    "\n",
    "\n",
    "\n",
    "print(solution(10))\n"
   ]
  },
  {
   "cell_type": "markdown",
   "metadata": {},
   "source": [
    "<pre>\n",
    "1 2 4와 같이 한 숫자 테스트가 틀린다.\n",
    "3을 나누는 몫과 나머지에 따라 if문의 조건문을 다르게 해야 하는 듯\n",
    "</pre>"
   ]
  },
  {
   "cell_type": "code",
   "execution_count": 3,
   "metadata": {},
   "outputs": [
    {
     "name": "stdout",
     "output_type": "stream",
     "text": [
      "11 : 42\n",
      "10 : 41\n"
     ]
    }
   ],
   "source": [
    "def solution(n):\n",
    "    answer = ''\n",
    "    country = ['4','1','2']#4를 맨 처음으로 해줘야 한다.\n",
    "    num=n\n",
    "\n",
    "    while n!=0:\n",
    "        n=num//3\n",
    "        re=num%3\n",
    "        \n",
    "        if re==0:\n",
    "            n-=1\n",
    "        answer=country[re]+answer\n",
    "        num=n#n이 계속 변하므로 num에 n을 넣어줘서 다음 연산을 수행한다.\n",
    "\n",
    "    return answer\n",
    "\n",
    "print(\"11 :\",solution(11))        \n",
    "print(\"10 :\",solution(10))\n"
   ]
  },
  {
   "cell_type": "markdown",
   "metadata": {},
   "source": [
    "<pre>\n",
    "124나라의 문제는 <strong>다이나믹 알고리즘</strong>으로 4를 꼭 뒤에 놓겠다는 생각을 하지 말고 맨 앞으로 하여 나머지 값이 0일 경우 4를 꼭 쓴다는 생각을 해준다.\n",
    "또한 몫이 0이 아닐때까지 연산을 해주며, 나머지가 0일 때 몫을 1을 빼서 그 다음 연산을 수행해야한다.\n",
    "또한 answer+=country[re]이렇게 하면 자리수가 맞지 않으므로 answer=country[re]+answer로 해야 한다.\n",
    "</pre>"
   ]
  },
  {
   "cell_type": "code",
   "execution_count": null,
   "metadata": {},
   "outputs": [],
   "source": []
  }
 ],
 "metadata": {
  "kernelspec": {
   "display_name": "Python 3",
   "language": "python",
   "name": "python3"
  },
  "language_info": {
   "codemirror_mode": {
    "name": "ipython",
    "version": 3
   },
   "file_extension": ".py",
   "mimetype": "text/x-python",
   "name": "python",
   "nbconvert_exporter": "python",
   "pygments_lexer": "ipython3",
   "version": "3.8.3"
  }
 },
 "nbformat": 4,
 "nbformat_minor": 4
}
