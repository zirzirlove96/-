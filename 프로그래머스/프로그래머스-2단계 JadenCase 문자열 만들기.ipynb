{
 "cells": [
  {
   "cell_type": "code",
   "execution_count": 1,
   "metadata": {},
   "outputs": [
    {
     "name": "stdout",
     "output_type": "stream",
     "text": [
      "3people Unfollowed Me\n"
     ]
    }
   ],
   "source": [
    "def solution(s):\n",
    "    answer = ''\n",
    "    s = s.lower()\n",
    "    L = s.split(' ')#배열\n",
    "\n",
    "    for i in L:\n",
    "        i=i.capitalize()\n",
    "        answer+=i+' '\n",
    "    \n",
    "    return answer[:-1]\n",
    "\n",
    "print(solution(\"3people unFollowed me\"))"
   ]
  },
  {
   "cell_type": "markdown",
   "metadata": {},
   "source": [
    "<pre>\n",
    "첫 번째 문자를 빼고 나머지는 소문자로 먼저 모든 문자열을 소문자로 만들어 준다.\n",
    "그런 다음 공백을 제외한 문자열을 배열에 저장하고,\n",
    "capitalize()라는 함수 <strong>첫 번째 문자열만 대문자로</strong> 만들어 주는 함수를 사용해 준다.\n",
    "그렇게 한 다음 문자열을 공백과 함께 더하는데, 마지막 공백을 넣지 않기 위해 [:-1]까지 하면 마지막 공백\n",
    "없이 나타낸다.\n",
    "</pre>"
   ]
  },
  {
   "cell_type": "code",
   "execution_count": null,
   "metadata": {},
   "outputs": [],
   "source": []
  }
 ],
 "metadata": {
  "kernelspec": {
   "display_name": "Python 3",
   "language": "python",
   "name": "python3"
  },
  "language_info": {
   "codemirror_mode": {
    "name": "ipython",
    "version": 3
   },
   "file_extension": ".py",
   "mimetype": "text/x-python",
   "name": "python",
   "nbconvert_exporter": "python",
   "pygments_lexer": "ipython3",
   "version": "3.8.5"
  }
 },
 "nbformat": 4,
 "nbformat_minor": 4
}
