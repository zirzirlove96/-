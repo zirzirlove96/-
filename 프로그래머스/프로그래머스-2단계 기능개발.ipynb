{
 "cells": [
  {
   "cell_type": "code",
   "execution_count": null,
   "metadata": {},
   "outputs": [],
   "source": [
    "import math\n",
    "from collections import Counter"
   ]
  },
  {
   "cell_type": "code",
   "execution_count": null,
   "metadata": {},
   "outputs": [],
   "source": [
    "def solution(progresses, speeds):\n",
    "    d={}\n",
    "    answer = []\n",
    "    for i in range(len(progresses)):\n",
    "        answer.append(math.ceil((100-progresses[i])/speeds[i]))\n",
    "    for i in range(len(answer)-1):\n",
    "        if answer[i]>answer[i+1]:\n",
    "            answer[i+1]=answer[i]\n",
    "    return list(Counter(answer).values())"
   ]
  },
  {
   "cell_type": "code",
   "execution_count": null,
   "metadata": {},
   "outputs": [],
   "source": [
    "print(solution([93, 30, 55],[1, 30, 5]))\n",
    "print(solution([95, 90, 99, 99, 80, 99],[1, 1, 1, 1, 1, 1]))"
   ]
  }
 ],
 "metadata": {
  "kernelspec": {
   "display_name": "Python 3",
   "language": "python",
   "name": "python3"
  },
  "language_info": {
   "codemirror_mode": {
    "name": "ipython",
    "version": 3
   },
   "file_extension": ".py",
   "mimetype": "text/x-python",
   "name": "python",
   "nbconvert_exporter": "python",
   "pygments_lexer": "ipython3",
   "version": "3.8.5"
  }
 },
 "nbformat": 4,
 "nbformat_minor": 4
}
