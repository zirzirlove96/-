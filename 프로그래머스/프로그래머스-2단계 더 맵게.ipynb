{
 "cells": [
  {
   "cell_type": "code",
   "execution_count": null,
   "metadata": {},
   "outputs": [],
   "source": [
    "import heapq\n",
    "\n",
    "def solution(scoville, K):\n",
    "    answer = 0\n",
    "    while min(scoville)<K:\n",
    "        scoville.sort()\n",
    "        result = scoville[0]+(scoville[1]*2)\n",
    "        scoville.pop(0)\n",
    "        scoville.pop(0)\n",
    "        scoville.append(result)\n",
    "        answer+=1\n",
    "    return answer\n",
    "\n",
    "\n",
    "print(solution([1, 2, 3, 9, 10, 12],7))\n",
    "\n",
    "## 시간 초과와 런 타임 에러가 나타난다.\n",
    "## 시간초과를 해결하기 위해 퀵 정렬과 합병 정렬을 사용해 봤지만 그래도 오류!"
   ]
  },
  {
   "cell_type": "markdown",
   "metadata": {},
   "source": [
    "## heapq(우선순위 큐)를 사용하여 구할 수 있다."
   ]
  },
  {
   "cell_type": "code",
   "execution_count": 2,
   "metadata": {},
   "outputs": [
    {
     "name": "stdout",
     "output_type": "stream",
     "text": [
      "2\n"
     ]
    }
   ],
   "source": [
    "import heapq\n",
    "\n",
    "def solution(scoville, K):\n",
    "    answer = 0\n",
    "    heap=[]\n",
    "    for num in scoville:\n",
    "        heapq.heappush(heap,num) #heapq에 넣어준다.\n",
    "    #최소 힙으로 적용되어 제일 작은 값이 앞으로 오게 되고, pop되는 순간 그 배열에서 제일 작은 값이 앞으로 오게 된다.\n",
    "\n",
    "    while heap[0]<K:\n",
    "        try:\n",
    "            heapq.heappush(heap,heapq.heappop(heap)+(heapq.heappop(heap)*2))\n",
    "        except IndexError:\n",
    "            #힙은 error가 indexError가 반환될 수 있다.\n",
    "            return -1\n",
    "        answer+=1\n",
    "    return answer\n",
    "\n",
    "print(solution([1, 2, 3, 9, 10, 12],7))"
   ]
  },
  {
   "cell_type": "code",
   "execution_count": 3,
   "metadata": {},
   "outputs": [
    {
     "name": "stdout",
     "output_type": "stream",
     "text": [
      "2\n"
     ]
    }
   ],
   "source": [
    "import heapq\n",
    "\n",
    "def solution(scoville, K):\n",
    "    answer = 0\n",
    "    heap=[]\n",
    "    for num in scoville:\n",
    "        heapq.heappush(heap,num) #heapq에 넣어준다.\n",
    "    #최소 힙으로 적용되어 제일 작은 값이 앞으로 오게 되고, pop되는 순간 그 배열에서 제일 작은 값이 앞으로 오게 된다.\n",
    "\n",
    "    while heap[0]<K:    \n",
    "        heapq.heappush(heap,heapq.heappop(heap)+(heapq.heappop(heap)*2))\n",
    "        if len(heap)<=1 and heap[0]<K:\n",
    "            answer=-1#모든 음식의 스코빌 지수를 K이상으로 만들 수 없는 경우 -1 리\n",
    "            break\n",
    "        answer+=1\n",
    "    return answer\n",
    "\n",
    "print(solution([1, 2, 3, 9, 10, 12],7))\n"
   ]
  },
  {
   "cell_type": "code",
   "execution_count": null,
   "metadata": {},
   "outputs": [],
   "source": []
  }
 ],
 "metadata": {
  "kernelspec": {
   "display_name": "Python 3",
   "language": "python",
   "name": "python3"
  },
  "language_info": {
   "codemirror_mode": {
    "name": "ipython",
    "version": 3
   },
   "file_extension": ".py",
   "mimetype": "text/x-python",
   "name": "python",
   "nbconvert_exporter": "python",
   "pygments_lexer": "ipython3",
   "version": "3.8.5"
  }
 },
 "nbformat": 4,
 "nbformat_minor": 4
}
