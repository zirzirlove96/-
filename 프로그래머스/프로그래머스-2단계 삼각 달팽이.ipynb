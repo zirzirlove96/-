{
 "cells": [
  {
   "cell_type": "code",
   "execution_count": 1,
   "metadata": {},
   "outputs": [
    {
     "name": "stdout",
     "output_type": "stream",
     "text": [
      "[1, 2, 9, 3, 10, 8, 4, 5, 6, 7]\n",
      "[1, 2, 12, 3, 13, 11, 4, 14, 15, 10, 5, 6, 7, 8, 9]\n"
     ]
    }
   ],
   "source": [
    "def solution(n):\n",
    "    answer = []\n",
    "    array=[[0 for _ in range(n)] for _ in range(n)]\n",
    "    x,y=-1,0 #위, 오른쪽, 대각선\n",
    "    num=1\n",
    "\n",
    "    for i in range(n):\n",
    "        for j in range(i,n):\n",
    "            if i%3==0:#행\n",
    "                x+=1\n",
    "            if i%3==1:#오른쪽\n",
    "                y+=1\n",
    "            if i%3==2:#대각선\n",
    "                x-=1\n",
    "                y-=1\n",
    "\n",
    "            array[x][y]=num\n",
    "            num+=1\n",
    "\n",
    "    for i in range(n):\n",
    "        for j in range(i+1):\n",
    "            answer.append(array[i][j])\n",
    "    return answer\n",
    "\n",
    "print(solution(4))\n",
    "\"\"\"\n",
    "1\n",
    "2 9\n",
    "3 10 8\n",
    "4 5 6 7\n",
    "이렇게 생각하고 문제를 접근해야 한다.\n",
    "\"\"\"\n",
    "\n",
    "print(solution(5))\n"
   ]
  },
  {
   "cell_type": "code",
   "execution_count": null,
   "metadata": {},
   "outputs": [],
   "source": []
  }
 ],
 "metadata": {
  "kernelspec": {
   "display_name": "Python 3",
   "language": "python",
   "name": "python3"
  },
  "language_info": {
   "codemirror_mode": {
    "name": "ipython",
    "version": 3
   },
   "file_extension": ".py",
   "mimetype": "text/x-python",
   "name": "python",
   "nbconvert_exporter": "python",
   "pygments_lexer": "ipython3",
   "version": "3.8.3"
  }
 },
 "nbformat": 4,
 "nbformat_minor": 4
}
