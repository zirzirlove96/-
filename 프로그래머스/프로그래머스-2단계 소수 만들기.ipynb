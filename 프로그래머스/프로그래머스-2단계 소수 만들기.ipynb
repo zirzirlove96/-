{
 "cells": [
  {
   "cell_type": "code",
   "execution_count": 1,
   "metadata": {},
   "outputs": [
    {
     "name": "stdout",
     "output_type": "stream",
     "text": [
      "1\n",
      "4\n",
      "4\n"
     ]
    }
   ],
   "source": [
    "\n",
    "def prime_number(number):\n",
    "\n",
    "    if number!=1:\n",
    "        for i in range(2,number):\n",
    "            if number%i==0:\n",
    "                return False\n",
    "    else: #1이면\n",
    "        return False\n",
    "\n",
    "    return True\n",
    "\n",
    "def solution(nums):\n",
    "    answer = 0\n",
    "    s=[]\n",
    "    for i in range(len(nums)-2):\n",
    "        for j in range(i+1,len(nums)-1):\n",
    "            for k in range(j+1,len(nums)):\n",
    "                s.append(nums[i]+nums[j]+nums[k])\n",
    "                \n",
    "    \n",
    "    s.sort()\n",
    "    s=list(set(s))\n",
    "    flag=[]\n",
    "    for i in s:\n",
    "        if prime_number(i)==True:\n",
    "            flag.append(True)\n",
    "        else:\n",
    "            flag.append(False)\n",
    "\n",
    "    for t in flag:\n",
    "        if t==True:\n",
    "            answer+=1\n",
    "            \n",
    "    return answer\n",
    "\n",
    "\n",
    "print(solution([1,2,3,4]))\n",
    "print(solution([1,2,7,6,4]))\n",
    "print(solution([1,2,7,6,4,5]))\n"
   ]
  },
  {
   "cell_type": "markdown",
   "metadata": {},
   "source": [
    "<pre>\n",
    "테스트 케이스가 틀리다는 것을 알 수 있다.\n",
    "왜냐하면 소수를 만들는 숫자가 다를 수 있으므로 중복 제거를 하지 말아야 한다.\n",
    "</pre>"
   ]
  },
  {
   "cell_type": "code",
   "execution_count": 2,
   "metadata": {},
   "outputs": [
    {
     "name": "stdout",
     "output_type": "stream",
     "text": [
      "1\n",
      "4\n",
      "7\n"
     ]
    }
   ],
   "source": [
    "\n",
    "def prime_number(number):\n",
    "\n",
    "    if number!=1:\n",
    "        for i in range(2,number):\n",
    "            if number%i==0:\n",
    "                return False\n",
    "    else: #1이면\n",
    "        return False\n",
    "\n",
    "    return True\n",
    "\n",
    "def solution(nums):\n",
    "    answer = 0\n",
    "    s=[]\n",
    "    for i in range(len(nums)-2):\n",
    "        for j in range(i+1,len(nums)-1):\n",
    "            for k in range(j+1,len(nums)):\n",
    "                s.append(nums[i]+nums[j]+nums[k])\n",
    "                \n",
    "    \n",
    "    s.sort()\n",
    "    #s=list(set(s))\n",
    "    flag=[]\n",
    "    for i in s:\n",
    "        if prime_number(i)==True:\n",
    "            flag.append(True)\n",
    "        else:\n",
    "            flag.append(False)\n",
    "\n",
    "    for t in flag:\n",
    "        if t==True:\n",
    "            answer+=1\n",
    "            \n",
    "    return answer\n",
    "\n",
    "\n",
    "print(solution([1,2,3,4]))\n",
    "print(solution([1,2,7,6,4]))\n",
    "print(solution([1,2,7,6,4,5]))\n"
   ]
  },
  {
   "cell_type": "code",
   "execution_count": 3,
   "metadata": {},
   "outputs": [
    {
     "name": "stdout",
     "output_type": "stream",
     "text": [
      "1\n",
      "4\n",
      "7\n"
     ]
    }
   ],
   "source": [
    "\n",
    "def prime_number(number):\n",
    "\n",
    "    if number!=1:\n",
    "        for i in range(2,number):\n",
    "            if number%i==0:\n",
    "                return False\n",
    "    else: #1이면\n",
    "        return False\n",
    "\n",
    "    return True\n",
    "\n",
    "def solution(nums):\n",
    "    answer = 0\n",
    "    s=[]\n",
    "    for i in range(len(nums)-2):\n",
    "        for j in range(i+1,len(nums)-1):\n",
    "            for k in range(j+1,len(nums)):\n",
    "                s.append(nums[i]+nums[j]+nums[k])\n",
    "                \n",
    "    \n",
    "    s.sort()\n",
    "\n",
    "    flag=[]\n",
    "    for i in s:\n",
    "        if prime_number(i)==True:\n",
    "            answer+=1\n",
    "    return answer\n",
    "\n",
    "\n",
    "print(solution([1,2,3,4]))\n",
    "print(solution([1,2,7,6,4]))\n",
    "print(solution([1,2,7,6,4,5]))\n"
   ]
  },
  {
   "cell_type": "code",
   "execution_count": null,
   "metadata": {},
   "outputs": [],
   "source": []
  }
 ],
 "metadata": {
  "kernelspec": {
   "display_name": "Python 3",
   "language": "python",
   "name": "python3"
  },
  "language_info": {
   "codemirror_mode": {
    "name": "ipython",
    "version": 3
   },
   "file_extension": ".py",
   "mimetype": "text/x-python",
   "name": "python",
   "nbconvert_exporter": "python",
   "pygments_lexer": "ipython3",
   "version": "3.8.5"
  }
 },
 "nbformat": 4,
 "nbformat_minor": 4
}
