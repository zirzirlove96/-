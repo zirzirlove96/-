{
 "cells": [
  {
   "cell_type": "code",
   "execution_count": 1,
   "metadata": {},
   "outputs": [
    {
     "name": "stdout",
     "output_type": "stream",
     "text": [
      "[3, 3]\n",
      "[1, 3]\n",
      "[0, 0]\n"
     ]
    }
   ],
   "source": [
    "def f(word,words,n):\n",
    "    m=0\n",
    "    array=[]\n",
    "    for i in range(len(words)):\n",
    "        if word==words[i]:\n",
    "            array.append(i)\n",
    "            m=max(array)\n",
    "    return m\n",
    "\n",
    "def solution(n, words):\n",
    "    answer = []\n",
    "\n",
    "    dc = {}\n",
    "    for word in words:\n",
    "        if word not in dc:\n",
    "            dc[word]=0\n",
    "        dc[word]+=1\n",
    "\n",
    "    word=''\n",
    "    for key,value in dc.items():\n",
    "        if value==2:\n",
    "            word=key\n",
    "\n",
    "    m=f(word,words,n)\n",
    "    for i in range(1,len(words)):\n",
    "        if m>0: #반복된 단어가 있을 경우 f함수를 사용해 준다.\n",
    "            answer=[(m%n)+1,(m//n)+1]\n",
    "            break\n",
    "        elif words[i-1][-1]!=words[i][0]: #다음 단어의 앞과 이전 단어의 끝이 다를때\n",
    "            answer=[((i)%n)+1, ((i)//n)+1]\n",
    "            break\n",
    "        else:#그 외 사실상 끝말잇기가 성공했을 때\n",
    "            answer=[0,0]\n",
    "        \n",
    "\n",
    "    return answer\n",
    "\n",
    "\n",
    "\n",
    "print(solution(3, [\"tank\", \"kick\", \"know\", \"wheel\", \"land\", \"dream\", \"mother\", \"robot\", \"tank\"]))\n",
    "print(solution(2, [\"hello\", \"one\", \"even\", \"never\", \"now\", \"world\", \"draw\"]))\n",
    "print(solution(5,[\"hello\", \"observe\", \"effect\", \"take\", \"either\", \"recognize\", \"encourage\", \"ensure\", \"establish\", \"hang\", \"gather\", \"refer\", \"reference\", \"estimate\", \"executive\"]))\n"
   ]
  },
  {
   "cell_type": "code",
   "execution_count": null,
   "metadata": {},
   "outputs": [],
   "source": []
  }
 ],
 "metadata": {
  "kernelspec": {
   "display_name": "Python 3",
   "language": "python",
   "name": "python3"
  },
  "language_info": {
   "codemirror_mode": {
    "name": "ipython",
    "version": 3
   },
   "file_extension": ".py",
   "mimetype": "text/x-python",
   "name": "python",
   "nbconvert_exporter": "python",
   "pygments_lexer": "ipython3",
   "version": "3.8.3"
  }
 },
 "nbformat": 4,
 "nbformat_minor": 4
}
