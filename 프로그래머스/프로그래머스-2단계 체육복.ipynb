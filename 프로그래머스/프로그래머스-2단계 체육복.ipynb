{
 "cells": [
  {
   "cell_type": "code",
   "execution_count": 1,
   "metadata": {},
   "outputs": [],
   "source": [
    "def solution(n, lost, reserve):\n",
    "    answer = n\n",
    "    set_reserve = set(reserve)-set(lost)\n",
    "    set_lost = set(lost)-set(reserve)\n",
    "\n",
    "    array1,array2=[],[]\n",
    "    for i in set_reserve:\n",
    "        array1.append(i)\n",
    "    for i in set_lost:\n",
    "        array2.append(i)\n",
    "\n",
    "    for i in array1: #reserve의 번호가 lost에 있는 지 확인 하고 있으면 lost에서 pop해서 빼낸다.\n",
    "        if i-1 in array2:\n",
    "            array2.pop(0)\n",
    "        elif i+1 in array2:\n",
    "            array2.pop(0)\n",
    "   \n",
    "    \n",
    "    return answer-len(array2)#전체 인원에서 체육복을 빌리지 못한 사람을 뺀다."
   ]
  },
  {
   "cell_type": "markdown",
   "metadata": {},
   "source": [
    "### 기본 전제 : 체육복을 빌려주는 번호는 중복될 수 없으나 reserve에 저장되어 있는 번호의 사람이 체육복을 도난당할 가능성을 배제하면 안된다. 그렇기 때문에 set()을 사용하여 중복된 번호를 각 lost, reserve에서 지워준다."
   ]
  },
  {
   "cell_type": "code",
   "execution_count": 2,
   "metadata": {},
   "outputs": [
    {
     "name": "stdout",
     "output_type": "stream",
     "text": [
      "5\n",
      "4\n",
      "2\n"
     ]
    }
   ],
   "source": [
    "print(solution(5,[2,4],[1,3,5]))#5\n",
    "print(solution(5,[2,4],[3]))#4\n",
    "print(solution(3,[3],[1]))#2"
   ]
  },
  {
   "cell_type": "code",
   "execution_count": null,
   "metadata": {},
   "outputs": [],
   "source": []
  }
 ],
 "metadata": {
  "kernelspec": {
   "display_name": "Python 3",
   "language": "python",
   "name": "python3"
  },
  "language_info": {
   "codemirror_mode": {
    "name": "ipython",
    "version": 3
   },
   "file_extension": ".py",
   "mimetype": "text/x-python",
   "name": "python",
   "nbconvert_exporter": "python",
   "pygments_lexer": "ipython3",
   "version": "3.8.5"
  }
 },
 "nbformat": 4,
 "nbformat_minor": 4
}
