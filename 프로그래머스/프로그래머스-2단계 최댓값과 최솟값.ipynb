{
 "cells": [
  {
   "cell_type": "code",
   "execution_count": 1,
   "metadata": {},
   "outputs": [
    {
     "name": "stdout",
     "output_type": "stream",
     "text": [
      "1 4\n",
      "-4 -1\n",
      "-1 -1\n"
     ]
    }
   ],
   "source": [
    "def solution(s):\n",
    "    answer = ''\n",
    "    array=s.split(' ')#공백을 기준으로 문자열을 나누기 위해 split()사\n",
    "    array2=[]\n",
    "    for i in array:\n",
    "        array2.append(int(i))\n",
    "\n",
    "    m1 = min(array2)\n",
    "    m2 = max(array2)\n",
    "    answer=str(m1)+\" \"+str(m2)\n",
    "    return answer\n",
    "\n",
    "\n",
    "print(solution(\"1 2 3 4\"))\n",
    "print(solution(\"-1 -2 -3 -4\"))\n",
    "print(solution(\"-1 -1\"))"
   ]
  },
  {
   "cell_type": "code",
   "execution_count": null,
   "metadata": {},
   "outputs": [],
   "source": []
  }
 ],
 "metadata": {
  "kernelspec": {
   "display_name": "Python 3",
   "language": "python",
   "name": "python3"
  },
  "language_info": {
   "codemirror_mode": {
    "name": "ipython",
    "version": 3
   },
   "file_extension": ".py",
   "mimetype": "text/x-python",
   "name": "python",
   "nbconvert_exporter": "python",
   "pygments_lexer": "ipython3",
   "version": "3.8.5"
  }
 },
 "nbformat": 4,
 "nbformat_minor": 4
}
