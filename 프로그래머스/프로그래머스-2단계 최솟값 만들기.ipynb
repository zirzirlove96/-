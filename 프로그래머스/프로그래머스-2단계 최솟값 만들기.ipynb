{
 "cells": [
  {
   "cell_type": "code",
   "execution_count": 1,
   "metadata": {},
   "outputs": [
    {
     "name": "stdout",
     "output_type": "stream",
     "text": [
      "29\n",
      "10\n"
     ]
    }
   ],
   "source": [
    "def f1(A,B):\n",
    "    A.sort()\n",
    "    B.sort(reverse=True)\n",
    "    result=0\n",
    "    for i in range(len(A)):\n",
    "        result+=A[i]*B[i]\n",
    "    return result\n",
    "\n",
    "def f2(A,B):\n",
    "    A.sort(reverse=True)\n",
    "    B.sort()\n",
    "    result=0\n",
    "    for i in range(len(A)):\n",
    "        result+=A[i]*B[i]\n",
    "    return result\n",
    "\n",
    "def solution(A,B):\n",
    "    \n",
    "    result1=f1(A,B)\n",
    "    result2=f2(A,B)\n",
    "\n",
    "\n",
    "    return min(result1,result2)\n",
    "\n",
    "print(solution([1,4,2],[5,4,4]))\n",
    "print(solution([1,2],[3,4]))\n"
   ]
  },
  {
   "cell_type": "markdown",
   "metadata": {},
   "source": [
    "### 두 배열을 하나는 오름차순, 하나는 내림차순으로 정렬하여 곱셈의 누적 값 중 최솟값을 구해 준다."
   ]
  },
  {
   "cell_type": "code",
   "execution_count": null,
   "metadata": {},
   "outputs": [],
   "source": []
  }
 ],
 "metadata": {
  "kernelspec": {
   "display_name": "Python 3",
   "language": "python",
   "name": "python3"
  },
  "language_info": {
   "codemirror_mode": {
    "name": "ipython",
    "version": 3
   },
   "file_extension": ".py",
   "mimetype": "text/x-python",
   "name": "python",
   "nbconvert_exporter": "python",
   "pygments_lexer": "ipython3",
   "version": "3.8.5"
  }
 },
 "nbformat": 4,
 "nbformat_minor": 4
}
