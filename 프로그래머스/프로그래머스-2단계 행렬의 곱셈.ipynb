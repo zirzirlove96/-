{
 "cells": [
  {
   "cell_type": "code",
   "execution_count": 1,
   "metadata": {},
   "outputs": [
    {
     "name": "stdout",
     "output_type": "stream",
     "text": [
      "[15, 15, 15]\n"
     ]
    }
   ],
   "source": [
    "def solution(arr1, arr2):\n",
    "    answer = []\n",
    "    \n",
    "    result=0\n",
    "    if len(arr1[0])!=len(arr2):\n",
    "        return\n",
    "    else:\n",
    "        for i in range(len(arr1)):#3\n",
    "            row=[]\n",
    "            for j in range(len(arr2[0])):\n",
    "                result=0\n",
    "                for k in range(len(arr2)):#2\n",
    "                    result+=arr1[i][k]*arr2[k][j]\n",
    "                #row.append(result)\n",
    "            answer.append(result)\n",
    "                \n",
    "    return answer\n",
    "        \n",
    "\n",
    "\n",
    "print(solution([[1, 4], [3, 2], [4, 1]],[[3, 3], [3, 3]]))\n"
   ]
  },
  {
   "cell_type": "markdown",
   "metadata": {},
   "source": [
    "<pre>\n",
    "<b>for문, 행렬의 활용이 부족했던 문제</b>\n",
    "행에 들어가야하므로 row라는 배열을 생성해 넣어주고 answer에 row를 추가해 주면 한 행열이 나온다.\n",
    "</pre>"
   ]
  },
  {
   "cell_type": "code",
   "execution_count": 4,
   "metadata": {},
   "outputs": [
    {
     "name": "stdout",
     "output_type": "stream",
     "text": [
      "[[15, 15], [15, 15], [15, 15]]\n"
     ]
    }
   ],
   "source": [
    "def solution(arr1, arr2):\n",
    "    answer = []\n",
    "    \n",
    "    result=0\n",
    "    if len(arr1[0])!=len(arr2):\n",
    "        return\n",
    "    else:\n",
    "        for i in range(len(arr1)):#3\n",
    "            row=[]\n",
    "            for j in range(len(arr2[0])):\n",
    "                result=0\n",
    "                for k in range(len(arr2)):#2\n",
    "                    result+=arr1[i][k]*arr2[k][j]\n",
    "                row.append(result)\n",
    "            answer.append(row)\n",
    "                \n",
    "    return answer\n",
    "        \n",
    "\n",
    "\n",
    "print(solution([[1, 4], [3, 2], [4, 1]],[[3, 3], [3, 3]]))\n"
   ]
  },
  {
   "cell_type": "code",
   "execution_count": null,
   "metadata": {},
   "outputs": [],
   "source": []
  }
 ],
 "metadata": {
  "kernelspec": {
   "display_name": "Python 3",
   "language": "python",
   "name": "python3"
  },
  "language_info": {
   "codemirror_mode": {
    "name": "ipython",
    "version": 3
   },
   "file_extension": ".py",
   "mimetype": "text/x-python",
   "name": "python",
   "nbconvert_exporter": "python",
   "pygments_lexer": "ipython3",
   "version": "3.8.5"
  }
 },
 "nbformat": 4,
 "nbformat_minor": 4
}
