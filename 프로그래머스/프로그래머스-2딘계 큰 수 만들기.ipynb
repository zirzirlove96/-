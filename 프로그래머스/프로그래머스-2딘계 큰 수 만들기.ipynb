{
 "cells": [
  {
   "cell_type": "code",
   "execution_count": 1,
   "metadata": {},
   "outputs": [
    {
     "name": "stdout",
     "output_type": "stream",
     "text": [
      "['4', '1']\n",
      "['7']\n",
      "['7', '7']\n",
      "['7', '7', '2']\n",
      "['7', '7', '5']\n",
      "['7', '7', '5', '2']\n",
      "['7', '7', '5', '8']\n",
      "['7', '7', '5', '8', '4']\n",
      "['7', '7', '5', '8', '4', '1']\n",
      "775841\n"
     ]
    }
   ],
   "source": [
    "def solution(number, k):\n",
    "    stack=[number[0]]#처음 수를 기준으로 해준다.\n",
    "    for num in number[1:]:\n",
    "        while len(stack)>0 and stack[-1]<num and k>0:\n",
    "            #순서대로 비교해준다.\n",
    "            #여기에서 중요한 점은 k의 크기가 0보다 큰 것이 중요하다!\n",
    "            #while문이기 때문에 stack의 크기 or k의 크기가 0보다 크면 pop을 해주므로\n",
    "            k-=1\n",
    "            stack.pop()\n",
    "        #while문에 해당하지 않으면 계속 append\n",
    "        stack.append(num)\n",
    "        print(stack)\n",
    "    \n",
    "    #for문을 빠져나왓지만 k값이 0이 아닌 경우 제거를 못 한 경우이다.\n",
    "    #이런 경우 뒷자리를 뺀 앞 자리부터 join해준다.\n",
    "    if k!=0:\n",
    "        stack=stack[:-k]\n",
    "    return ''.join(stack)\n",
    "\n",
    "\n",
    "print(solution(\"4177252841\",4))\n"
   ]
  },
  {
   "cell_type": "code",
   "execution_count": null,
   "metadata": {},
   "outputs": [],
   "source": []
  }
 ],
 "metadata": {
  "kernelspec": {
   "display_name": "Python 3",
   "language": "python",
   "name": "python3"
  },
  "language_info": {
   "codemirror_mode": {
    "name": "ipython",
    "version": 3
   },
   "file_extension": ".py",
   "mimetype": "text/x-python",
   "name": "python",
   "nbconvert_exporter": "python",
   "pygments_lexer": "ipython3",
   "version": "3.8.3"
  }
 },
 "nbformat": 4,
 "nbformat_minor": 4
}
