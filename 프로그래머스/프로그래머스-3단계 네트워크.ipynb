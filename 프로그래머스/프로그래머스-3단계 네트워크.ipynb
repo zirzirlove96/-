{
 "cells": [
  {
   "cell_type": "code",
   "execution_count": 4,
   "metadata": {},
   "outputs": [
    {
     "name": "stdout",
     "output_type": "stream",
     "text": [
      "2\n",
      "1\n",
      "3\n",
      "5\n",
      "3\n"
     ]
    }
   ],
   "source": [
    "from collections import deque\n",
    "\n",
    "def solution(n, computers):\n",
    "    answer = 0\n",
    "    visited=[[False]*(n+1) for _ in range(n+1)]\n",
    "    count=0\n",
    "    number=[]\n",
    "    \n",
    "    def bfs(x,y):\n",
    "        q=deque()\n",
    "        q.append((x,y))\n",
    "        distX=[0,0,-1,1]\n",
    "        distY=[1,-1,0,0]\n",
    "        count=0\n",
    "        \n",
    "        while q:\n",
    "            x,y=q.popleft()\n",
    "            count+=1\n",
    "            for i in range(4):\n",
    "                nx=x+distX[i]\n",
    "                ny=y+distY[i]\n",
    "                if 0<=nx<n and 0<=ny<n:\n",
    "                    if computers[nx][ny]==1:\n",
    "                        computers[nx][ny]=0\n",
    "                        q.append((nx,ny))\n",
    "            \n",
    "                        \n",
    "        number.append(count)\n",
    "\n",
    "    \n",
    "    for i in range(n):\n",
    "        for j in range(n):\n",
    "            if computers[i][j]==1:\n",
    "                computers[i][j]==0\n",
    "                bfs(i,j)\n",
    "    \n",
    "    return len(number)\n",
    "\n",
    "\n",
    "print(solution(3,[[1, 1, 0], [1, 1, 0], [0, 0, 1]]))\n",
    "print(solution(3,[[1, 1, 0], [1, 1, 1], [0, 1, 1]]))\n",
    "print(solution(3,[[1, 0, 0], [0, 1, 0], [0, 0, 1]]))\n",
    "print(solution(3,[[1, 0, 1], [0, 1, 0], [1, 0, 1]]))\n",
    "print(solution(3,[[1, 0, 1], [1, 0, 1], [0, 1, 0]])) #2"
   ]
  },
  {
   "cell_type": "markdown",
   "metadata": {},
   "source": [
    "<pre>\n",
    "정답은 맞게 나오나 테스트 케이스에서 많이 틀린다.\n",
    "마지막 테스트 케이스는 2가 나와야 한다.\n",
    "<b>푼 방식은 붙어있는 케이스들의 갯수를 출력</b>\n",
    "\n",
    "</pre>"
   ]
  },
  {
   "cell_type": "code",
   "execution_count": 5,
   "metadata": {},
   "outputs": [
    {
     "name": "stdout",
     "output_type": "stream",
     "text": [
      "2\n",
      "1\n",
      "3\n",
      "2\n"
     ]
    }
   ],
   "source": [
    "from collections import deque\n",
    "\n",
    "def bfs(computers, check, i, n):\n",
    "    q=deque()\n",
    "    q.append(i)\n",
    "\n",
    "    while q:\n",
    "        index=q.popleft()\n",
    "        check[index]=True \n",
    "        for k in range(0,n):\n",
    "            if not check[k] and computers[index][k]==1:\n",
    "                q.append(k)\n",
    "\n",
    "def solution(n,computers):\n",
    "    answer=0\n",
    "    check = [False for i in range(n)]\n",
    "    for i in range(n):\n",
    "        if not check[i]:\n",
    "            bfs(computers, check, i,n)#computers는 이차원배열로 행마다 검사해줘야 한다.\n",
    "            # [1,1,0] A->B이런식으로 검사해야 하기때문에 bfs를 행마다 수행시켜야 한다.\n",
    "            answer+=1\n",
    "    return answer\n",
    "\n",
    "\n",
    "print(solution(3,[[1, 1, 0], [1, 1, 0], [0, 0, 1]]))\n",
    "print(solution(3,[[1, 1, 0], [1, 1, 1], [0, 1, 1]]))\n",
    "print(solution(3,[[1, 0, 0], [0, 1, 0], [0, 0, 1]]))\n",
    "print(solution(3,[[1, 0, 1], [0, 1, 0], [1, 0, 1]]))\n"
   ]
  },
  {
   "cell_type": "markdown",
   "metadata": {},
   "source": [
    "행->행->행 ... 계속해서 탐색해 나가면서 한번들어갔을 때 연결되어있는 구역을 check[curIndex] =true로 바꿔준다."
   ]
  },
  {
   "cell_type": "markdown",
   "metadata": {},
   "source": [
    "<pre>\n",
    "<font size=\"5em\" color=\"red\">\n",
    "첫번째 방식은 방향에 따라 연결되어 있는 1의 개수를 출력하지만\n",
    "두번째 방식은 행에서의 열이 직접, 간접적으로 연결되어 있는지 확인하여 개수를 출력하는 것이다.\n",
    "</font>\n",
    "</pre>"
   ]
  },
  {
   "cell_type": "code",
   "execution_count": null,
   "metadata": {},
   "outputs": [],
   "source": []
  }
 ],
 "metadata": {
  "kernelspec": {
   "display_name": "Python 3",
   "language": "python",
   "name": "python3"
  },
  "language_info": {
   "codemirror_mode": {
    "name": "ipython",
    "version": 3
   },
   "file_extension": ".py",
   "mimetype": "text/x-python",
   "name": "python",
   "nbconvert_exporter": "python",
   "pygments_lexer": "ipython3",
   "version": "3.8.5"
  }
 },
 "nbformat": 4,
 "nbformat_minor": 4
}
